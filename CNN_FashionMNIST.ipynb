{
  "nbformat": 4,
  "nbformat_minor": 0,
  "metadata": {
    "colab": {
      "provenance": [],
      "gpuType": "T4",
      "authorship_tag": "ABX9TyMty4JgwZWUnrqVeCkqq3gA",
      "include_colab_link": true
    },
    "kernelspec": {
      "name": "python3",
      "display_name": "Python 3"
    },
    "language_info": {
      "name": "python"
    },
    "widgets": {
      "application/vnd.jupyter.widget-state+json": {
        "dd4f76bed8ce48659ea741bf86eac5c2": {
          "model_module": "@jupyter-widgets/controls",
          "model_name": "HBoxModel",
          "model_module_version": "1.5.0",
          "state": {
            "_dom_classes": [],
            "_model_module": "@jupyter-widgets/controls",
            "_model_module_version": "1.5.0",
            "_model_name": "HBoxModel",
            "_view_count": null,
            "_view_module": "@jupyter-widgets/controls",
            "_view_module_version": "1.5.0",
            "_view_name": "HBoxView",
            "box_style": "",
            "children": [
              "IPY_MODEL_63c916d9d77442babe35a58c2d7e6127",
              "IPY_MODEL_fa054923cc264b6b8623daa9d52229e3",
              "IPY_MODEL_2cc73a7739a243fc9b693f1d3a4cc107"
            ],
            "layout": "IPY_MODEL_f9f06347b5f644cda5d4e52c2e327490"
          }
        },
        "63c916d9d77442babe35a58c2d7e6127": {
          "model_module": "@jupyter-widgets/controls",
          "model_name": "HTMLModel",
          "model_module_version": "1.5.0",
          "state": {
            "_dom_classes": [],
            "_model_module": "@jupyter-widgets/controls",
            "_model_module_version": "1.5.0",
            "_model_name": "HTMLModel",
            "_view_count": null,
            "_view_module": "@jupyter-widgets/controls",
            "_view_module_version": "1.5.0",
            "_view_name": "HTMLView",
            "description": "",
            "description_tooltip": null,
            "layout": "IPY_MODEL_7f0ff690c7034da3820079e3f2a1cc37",
            "placeholder": "​",
            "style": "IPY_MODEL_9d2164e908774df2b7b09993d99e9e0a",
            "value": "100%"
          }
        },
        "fa054923cc264b6b8623daa9d52229e3": {
          "model_module": "@jupyter-widgets/controls",
          "model_name": "FloatProgressModel",
          "model_module_version": "1.5.0",
          "state": {
            "_dom_classes": [],
            "_model_module": "@jupyter-widgets/controls",
            "_model_module_version": "1.5.0",
            "_model_name": "FloatProgressModel",
            "_view_count": null,
            "_view_module": "@jupyter-widgets/controls",
            "_view_module_version": "1.5.0",
            "_view_name": "ProgressView",
            "bar_style": "success",
            "description": "",
            "description_tooltip": null,
            "layout": "IPY_MODEL_3c9d7fbe45534fe28b08295da7da81ce",
            "max": 4,
            "min": 0,
            "orientation": "horizontal",
            "style": "IPY_MODEL_97ef780f377d44eaba4c7fc5914fbd2e",
            "value": 4
          }
        },
        "2cc73a7739a243fc9b693f1d3a4cc107": {
          "model_module": "@jupyter-widgets/controls",
          "model_name": "HTMLModel",
          "model_module_version": "1.5.0",
          "state": {
            "_dom_classes": [],
            "_model_module": "@jupyter-widgets/controls",
            "_model_module_version": "1.5.0",
            "_model_name": "HTMLModel",
            "_view_count": null,
            "_view_module": "@jupyter-widgets/controls",
            "_view_module_version": "1.5.0",
            "_view_name": "HTMLView",
            "description": "",
            "description_tooltip": null,
            "layout": "IPY_MODEL_54246eaaee0a46ab8956706ef8a6c57a",
            "placeholder": "​",
            "style": "IPY_MODEL_8c0b0a56ffd34bbe93fa4c737950db81",
            "value": " 4/4 [00:59&lt;00:00, 16.77s/it]"
          }
        },
        "f9f06347b5f644cda5d4e52c2e327490": {
          "model_module": "@jupyter-widgets/base",
          "model_name": "LayoutModel",
          "model_module_version": "1.2.0",
          "state": {
            "_model_module": "@jupyter-widgets/base",
            "_model_module_version": "1.2.0",
            "_model_name": "LayoutModel",
            "_view_count": null,
            "_view_module": "@jupyter-widgets/base",
            "_view_module_version": "1.2.0",
            "_view_name": "LayoutView",
            "align_content": null,
            "align_items": null,
            "align_self": null,
            "border": null,
            "bottom": null,
            "display": null,
            "flex": null,
            "flex_flow": null,
            "grid_area": null,
            "grid_auto_columns": null,
            "grid_auto_flow": null,
            "grid_auto_rows": null,
            "grid_column": null,
            "grid_gap": null,
            "grid_row": null,
            "grid_template_areas": null,
            "grid_template_columns": null,
            "grid_template_rows": null,
            "height": null,
            "justify_content": null,
            "justify_items": null,
            "left": null,
            "margin": null,
            "max_height": null,
            "max_width": null,
            "min_height": null,
            "min_width": null,
            "object_fit": null,
            "object_position": null,
            "order": null,
            "overflow": null,
            "overflow_x": null,
            "overflow_y": null,
            "padding": null,
            "right": null,
            "top": null,
            "visibility": null,
            "width": null
          }
        },
        "7f0ff690c7034da3820079e3f2a1cc37": {
          "model_module": "@jupyter-widgets/base",
          "model_name": "LayoutModel",
          "model_module_version": "1.2.0",
          "state": {
            "_model_module": "@jupyter-widgets/base",
            "_model_module_version": "1.2.0",
            "_model_name": "LayoutModel",
            "_view_count": null,
            "_view_module": "@jupyter-widgets/base",
            "_view_module_version": "1.2.0",
            "_view_name": "LayoutView",
            "align_content": null,
            "align_items": null,
            "align_self": null,
            "border": null,
            "bottom": null,
            "display": null,
            "flex": null,
            "flex_flow": null,
            "grid_area": null,
            "grid_auto_columns": null,
            "grid_auto_flow": null,
            "grid_auto_rows": null,
            "grid_column": null,
            "grid_gap": null,
            "grid_row": null,
            "grid_template_areas": null,
            "grid_template_columns": null,
            "grid_template_rows": null,
            "height": null,
            "justify_content": null,
            "justify_items": null,
            "left": null,
            "margin": null,
            "max_height": null,
            "max_width": null,
            "min_height": null,
            "min_width": null,
            "object_fit": null,
            "object_position": null,
            "order": null,
            "overflow": null,
            "overflow_x": null,
            "overflow_y": null,
            "padding": null,
            "right": null,
            "top": null,
            "visibility": null,
            "width": null
          }
        },
        "9d2164e908774df2b7b09993d99e9e0a": {
          "model_module": "@jupyter-widgets/controls",
          "model_name": "DescriptionStyleModel",
          "model_module_version": "1.5.0",
          "state": {
            "_model_module": "@jupyter-widgets/controls",
            "_model_module_version": "1.5.0",
            "_model_name": "DescriptionStyleModel",
            "_view_count": null,
            "_view_module": "@jupyter-widgets/base",
            "_view_module_version": "1.2.0",
            "_view_name": "StyleView",
            "description_width": ""
          }
        },
        "3c9d7fbe45534fe28b08295da7da81ce": {
          "model_module": "@jupyter-widgets/base",
          "model_name": "LayoutModel",
          "model_module_version": "1.2.0",
          "state": {
            "_model_module": "@jupyter-widgets/base",
            "_model_module_version": "1.2.0",
            "_model_name": "LayoutModel",
            "_view_count": null,
            "_view_module": "@jupyter-widgets/base",
            "_view_module_version": "1.2.0",
            "_view_name": "LayoutView",
            "align_content": null,
            "align_items": null,
            "align_self": null,
            "border": null,
            "bottom": null,
            "display": null,
            "flex": null,
            "flex_flow": null,
            "grid_area": null,
            "grid_auto_columns": null,
            "grid_auto_flow": null,
            "grid_auto_rows": null,
            "grid_column": null,
            "grid_gap": null,
            "grid_row": null,
            "grid_template_areas": null,
            "grid_template_columns": null,
            "grid_template_rows": null,
            "height": null,
            "justify_content": null,
            "justify_items": null,
            "left": null,
            "margin": null,
            "max_height": null,
            "max_width": null,
            "min_height": null,
            "min_width": null,
            "object_fit": null,
            "object_position": null,
            "order": null,
            "overflow": null,
            "overflow_x": null,
            "overflow_y": null,
            "padding": null,
            "right": null,
            "top": null,
            "visibility": null,
            "width": null
          }
        },
        "97ef780f377d44eaba4c7fc5914fbd2e": {
          "model_module": "@jupyter-widgets/controls",
          "model_name": "ProgressStyleModel",
          "model_module_version": "1.5.0",
          "state": {
            "_model_module": "@jupyter-widgets/controls",
            "_model_module_version": "1.5.0",
            "_model_name": "ProgressStyleModel",
            "_view_count": null,
            "_view_module": "@jupyter-widgets/base",
            "_view_module_version": "1.2.0",
            "_view_name": "StyleView",
            "bar_color": null,
            "description_width": ""
          }
        },
        "54246eaaee0a46ab8956706ef8a6c57a": {
          "model_module": "@jupyter-widgets/base",
          "model_name": "LayoutModel",
          "model_module_version": "1.2.0",
          "state": {
            "_model_module": "@jupyter-widgets/base",
            "_model_module_version": "1.2.0",
            "_model_name": "LayoutModel",
            "_view_count": null,
            "_view_module": "@jupyter-widgets/base",
            "_view_module_version": "1.2.0",
            "_view_name": "LayoutView",
            "align_content": null,
            "align_items": null,
            "align_self": null,
            "border": null,
            "bottom": null,
            "display": null,
            "flex": null,
            "flex_flow": null,
            "grid_area": null,
            "grid_auto_columns": null,
            "grid_auto_flow": null,
            "grid_auto_rows": null,
            "grid_column": null,
            "grid_gap": null,
            "grid_row": null,
            "grid_template_areas": null,
            "grid_template_columns": null,
            "grid_template_rows": null,
            "height": null,
            "justify_content": null,
            "justify_items": null,
            "left": null,
            "margin": null,
            "max_height": null,
            "max_width": null,
            "min_height": null,
            "min_width": null,
            "object_fit": null,
            "object_position": null,
            "order": null,
            "overflow": null,
            "overflow_x": null,
            "overflow_y": null,
            "padding": null,
            "right": null,
            "top": null,
            "visibility": null,
            "width": null
          }
        },
        "8c0b0a56ffd34bbe93fa4c737950db81": {
          "model_module": "@jupyter-widgets/controls",
          "model_name": "DescriptionStyleModel",
          "model_module_version": "1.5.0",
          "state": {
            "_model_module": "@jupyter-widgets/controls",
            "_model_module_version": "1.5.0",
            "_model_name": "DescriptionStyleModel",
            "_view_count": null,
            "_view_module": "@jupyter-widgets/base",
            "_view_module_version": "1.2.0",
            "_view_name": "StyleView",
            "description_width": ""
          }
        },
        "a576c3f11239467baea6e323159c96c8": {
          "model_module": "@jupyter-widgets/controls",
          "model_name": "HBoxModel",
          "model_module_version": "1.5.0",
          "state": {
            "_dom_classes": [],
            "_model_module": "@jupyter-widgets/controls",
            "_model_module_version": "1.5.0",
            "_model_name": "HBoxModel",
            "_view_count": null,
            "_view_module": "@jupyter-widgets/controls",
            "_view_module_version": "1.5.0",
            "_view_name": "HBoxView",
            "box_style": "",
            "children": [
              "IPY_MODEL_87a0ea6539844199af425038dea59493",
              "IPY_MODEL_44a7351ca3b4402da8f6410e86df9bd3",
              "IPY_MODEL_1c45ca1292cc41228b517107a4dff6a1"
            ],
            "layout": "IPY_MODEL_e2e3f90f9b3b48649dcc3e71fe29e5b6"
          }
        },
        "87a0ea6539844199af425038dea59493": {
          "model_module": "@jupyter-widgets/controls",
          "model_name": "HTMLModel",
          "model_module_version": "1.5.0",
          "state": {
            "_dom_classes": [],
            "_model_module": "@jupyter-widgets/controls",
            "_model_module_version": "1.5.0",
            "_model_name": "HTMLModel",
            "_view_count": null,
            "_view_module": "@jupyter-widgets/controls",
            "_view_module_version": "1.5.0",
            "_view_name": "HTMLView",
            "description": "",
            "description_tooltip": null,
            "layout": "IPY_MODEL_ee9766f5e1ba418090f9c50d94d381a7",
            "placeholder": "​",
            "style": "IPY_MODEL_c6bb6a0a91934d1db2eb051acdbefeff",
            "value": "100%"
          }
        },
        "44a7351ca3b4402da8f6410e86df9bd3": {
          "model_module": "@jupyter-widgets/controls",
          "model_name": "FloatProgressModel",
          "model_module_version": "1.5.0",
          "state": {
            "_dom_classes": [],
            "_model_module": "@jupyter-widgets/controls",
            "_model_module_version": "1.5.0",
            "_model_name": "FloatProgressModel",
            "_view_count": null,
            "_view_module": "@jupyter-widgets/controls",
            "_view_module_version": "1.5.0",
            "_view_name": "ProgressView",
            "bar_style": "success",
            "description": "",
            "description_tooltip": null,
            "layout": "IPY_MODEL_c038655d765548bd9bcfe0559f96c822",
            "max": 313,
            "min": 0,
            "orientation": "horizontal",
            "style": "IPY_MODEL_e16ac9be2d0b428882e857954881b288",
            "value": 313
          }
        },
        "1c45ca1292cc41228b517107a4dff6a1": {
          "model_module": "@jupyter-widgets/controls",
          "model_name": "HTMLModel",
          "model_module_version": "1.5.0",
          "state": {
            "_dom_classes": [],
            "_model_module": "@jupyter-widgets/controls",
            "_model_module_version": "1.5.0",
            "_model_name": "HTMLModel",
            "_view_count": null,
            "_view_module": "@jupyter-widgets/controls",
            "_view_module_version": "1.5.0",
            "_view_name": "HTMLView",
            "description": "",
            "description_tooltip": null,
            "layout": "IPY_MODEL_d9633a17c9a747328c431dd013272c79",
            "placeholder": "​",
            "style": "IPY_MODEL_01c0c6e479914a8390f4261702b62033",
            "value": " 313/313 [00:02&lt;00:00, 176.09it/s]"
          }
        },
        "e2e3f90f9b3b48649dcc3e71fe29e5b6": {
          "model_module": "@jupyter-widgets/base",
          "model_name": "LayoutModel",
          "model_module_version": "1.2.0",
          "state": {
            "_model_module": "@jupyter-widgets/base",
            "_model_module_version": "1.2.0",
            "_model_name": "LayoutModel",
            "_view_count": null,
            "_view_module": "@jupyter-widgets/base",
            "_view_module_version": "1.2.0",
            "_view_name": "LayoutView",
            "align_content": null,
            "align_items": null,
            "align_self": null,
            "border": null,
            "bottom": null,
            "display": null,
            "flex": null,
            "flex_flow": null,
            "grid_area": null,
            "grid_auto_columns": null,
            "grid_auto_flow": null,
            "grid_auto_rows": null,
            "grid_column": null,
            "grid_gap": null,
            "grid_row": null,
            "grid_template_areas": null,
            "grid_template_columns": null,
            "grid_template_rows": null,
            "height": null,
            "justify_content": null,
            "justify_items": null,
            "left": null,
            "margin": null,
            "max_height": null,
            "max_width": null,
            "min_height": null,
            "min_width": null,
            "object_fit": null,
            "object_position": null,
            "order": null,
            "overflow": null,
            "overflow_x": null,
            "overflow_y": null,
            "padding": null,
            "right": null,
            "top": null,
            "visibility": null,
            "width": null
          }
        },
        "ee9766f5e1ba418090f9c50d94d381a7": {
          "model_module": "@jupyter-widgets/base",
          "model_name": "LayoutModel",
          "model_module_version": "1.2.0",
          "state": {
            "_model_module": "@jupyter-widgets/base",
            "_model_module_version": "1.2.0",
            "_model_name": "LayoutModel",
            "_view_count": null,
            "_view_module": "@jupyter-widgets/base",
            "_view_module_version": "1.2.0",
            "_view_name": "LayoutView",
            "align_content": null,
            "align_items": null,
            "align_self": null,
            "border": null,
            "bottom": null,
            "display": null,
            "flex": null,
            "flex_flow": null,
            "grid_area": null,
            "grid_auto_columns": null,
            "grid_auto_flow": null,
            "grid_auto_rows": null,
            "grid_column": null,
            "grid_gap": null,
            "grid_row": null,
            "grid_template_areas": null,
            "grid_template_columns": null,
            "grid_template_rows": null,
            "height": null,
            "justify_content": null,
            "justify_items": null,
            "left": null,
            "margin": null,
            "max_height": null,
            "max_width": null,
            "min_height": null,
            "min_width": null,
            "object_fit": null,
            "object_position": null,
            "order": null,
            "overflow": null,
            "overflow_x": null,
            "overflow_y": null,
            "padding": null,
            "right": null,
            "top": null,
            "visibility": null,
            "width": null
          }
        },
        "c6bb6a0a91934d1db2eb051acdbefeff": {
          "model_module": "@jupyter-widgets/controls",
          "model_name": "DescriptionStyleModel",
          "model_module_version": "1.5.0",
          "state": {
            "_model_module": "@jupyter-widgets/controls",
            "_model_module_version": "1.5.0",
            "_model_name": "DescriptionStyleModel",
            "_view_count": null,
            "_view_module": "@jupyter-widgets/base",
            "_view_module_version": "1.2.0",
            "_view_name": "StyleView",
            "description_width": ""
          }
        },
        "c038655d765548bd9bcfe0559f96c822": {
          "model_module": "@jupyter-widgets/base",
          "model_name": "LayoutModel",
          "model_module_version": "1.2.0",
          "state": {
            "_model_module": "@jupyter-widgets/base",
            "_model_module_version": "1.2.0",
            "_model_name": "LayoutModel",
            "_view_count": null,
            "_view_module": "@jupyter-widgets/base",
            "_view_module_version": "1.2.0",
            "_view_name": "LayoutView",
            "align_content": null,
            "align_items": null,
            "align_self": null,
            "border": null,
            "bottom": null,
            "display": null,
            "flex": null,
            "flex_flow": null,
            "grid_area": null,
            "grid_auto_columns": null,
            "grid_auto_flow": null,
            "grid_auto_rows": null,
            "grid_column": null,
            "grid_gap": null,
            "grid_row": null,
            "grid_template_areas": null,
            "grid_template_columns": null,
            "grid_template_rows": null,
            "height": null,
            "justify_content": null,
            "justify_items": null,
            "left": null,
            "margin": null,
            "max_height": null,
            "max_width": null,
            "min_height": null,
            "min_width": null,
            "object_fit": null,
            "object_position": null,
            "order": null,
            "overflow": null,
            "overflow_x": null,
            "overflow_y": null,
            "padding": null,
            "right": null,
            "top": null,
            "visibility": null,
            "width": null
          }
        },
        "e16ac9be2d0b428882e857954881b288": {
          "model_module": "@jupyter-widgets/controls",
          "model_name": "ProgressStyleModel",
          "model_module_version": "1.5.0",
          "state": {
            "_model_module": "@jupyter-widgets/controls",
            "_model_module_version": "1.5.0",
            "_model_name": "ProgressStyleModel",
            "_view_count": null,
            "_view_module": "@jupyter-widgets/base",
            "_view_module_version": "1.2.0",
            "_view_name": "StyleView",
            "bar_color": null,
            "description_width": ""
          }
        },
        "d9633a17c9a747328c431dd013272c79": {
          "model_module": "@jupyter-widgets/base",
          "model_name": "LayoutModel",
          "model_module_version": "1.2.0",
          "state": {
            "_model_module": "@jupyter-widgets/base",
            "_model_module_version": "1.2.0",
            "_model_name": "LayoutModel",
            "_view_count": null,
            "_view_module": "@jupyter-widgets/base",
            "_view_module_version": "1.2.0",
            "_view_name": "LayoutView",
            "align_content": null,
            "align_items": null,
            "align_self": null,
            "border": null,
            "bottom": null,
            "display": null,
            "flex": null,
            "flex_flow": null,
            "grid_area": null,
            "grid_auto_columns": null,
            "grid_auto_flow": null,
            "grid_auto_rows": null,
            "grid_column": null,
            "grid_gap": null,
            "grid_row": null,
            "grid_template_areas": null,
            "grid_template_columns": null,
            "grid_template_rows": null,
            "height": null,
            "justify_content": null,
            "justify_items": null,
            "left": null,
            "margin": null,
            "max_height": null,
            "max_width": null,
            "min_height": null,
            "min_width": null,
            "object_fit": null,
            "object_position": null,
            "order": null,
            "overflow": null,
            "overflow_x": null,
            "overflow_y": null,
            "padding": null,
            "right": null,
            "top": null,
            "visibility": null,
            "width": null
          }
        },
        "01c0c6e479914a8390f4261702b62033": {
          "model_module": "@jupyter-widgets/controls",
          "model_name": "DescriptionStyleModel",
          "model_module_version": "1.5.0",
          "state": {
            "_model_module": "@jupyter-widgets/controls",
            "_model_module_version": "1.5.0",
            "_model_name": "DescriptionStyleModel",
            "_view_count": null,
            "_view_module": "@jupyter-widgets/base",
            "_view_module_version": "1.2.0",
            "_view_name": "StyleView",
            "description_width": ""
          }
        },
        "fa76578fb9a64136a7bd3aac9a3794af": {
          "model_module": "@jupyter-widgets/controls",
          "model_name": "HBoxModel",
          "model_module_version": "1.5.0",
          "state": {
            "_dom_classes": [],
            "_model_module": "@jupyter-widgets/controls",
            "_model_module_version": "1.5.0",
            "_model_name": "HBoxModel",
            "_view_count": null,
            "_view_module": "@jupyter-widgets/controls",
            "_view_module_version": "1.5.0",
            "_view_name": "HBoxView",
            "box_style": "",
            "children": [
              "IPY_MODEL_b55e5b1130404374809b2be755da85f1",
              "IPY_MODEL_8af01b8241dd49efbdf24915e2d499ec",
              "IPY_MODEL_06ad51326aa04fbabd7b239cdc005f35"
            ],
            "layout": "IPY_MODEL_e41f53bc074f4195acf44c2bcf001c21"
          }
        },
        "b55e5b1130404374809b2be755da85f1": {
          "model_module": "@jupyter-widgets/controls",
          "model_name": "HTMLModel",
          "model_module_version": "1.5.0",
          "state": {
            "_dom_classes": [],
            "_model_module": "@jupyter-widgets/controls",
            "_model_module_version": "1.5.0",
            "_model_name": "HTMLModel",
            "_view_count": null,
            "_view_module": "@jupyter-widgets/controls",
            "_view_module_version": "1.5.0",
            "_view_name": "HTMLView",
            "description": "",
            "description_tooltip": null,
            "layout": "IPY_MODEL_2bc7f506d7c242e88decf02ea0a93b21",
            "placeholder": "​",
            "style": "IPY_MODEL_32079aca9e6546fdaa41a97307303533",
            "value": "100%"
          }
        },
        "8af01b8241dd49efbdf24915e2d499ec": {
          "model_module": "@jupyter-widgets/controls",
          "model_name": "FloatProgressModel",
          "model_module_version": "1.5.0",
          "state": {
            "_dom_classes": [],
            "_model_module": "@jupyter-widgets/controls",
            "_model_module_version": "1.5.0",
            "_model_name": "FloatProgressModel",
            "_view_count": null,
            "_view_module": "@jupyter-widgets/controls",
            "_view_module_version": "1.5.0",
            "_view_name": "ProgressView",
            "bar_style": "success",
            "description": "",
            "description_tooltip": null,
            "layout": "IPY_MODEL_6923fc4282e54cf7b13015eb60d1e182",
            "max": 3,
            "min": 0,
            "orientation": "horizontal",
            "style": "IPY_MODEL_23a741fcb10b4c61ab944b6faff0394b",
            "value": 3
          }
        },
        "06ad51326aa04fbabd7b239cdc005f35": {
          "model_module": "@jupyter-widgets/controls",
          "model_name": "HTMLModel",
          "model_module_version": "1.5.0",
          "state": {
            "_dom_classes": [],
            "_model_module": "@jupyter-widgets/controls",
            "_model_module_version": "1.5.0",
            "_model_name": "HTMLModel",
            "_view_count": null,
            "_view_module": "@jupyter-widgets/controls",
            "_view_module_version": "1.5.0",
            "_view_name": "HTMLView",
            "description": "",
            "description_tooltip": null,
            "layout": "IPY_MODEL_da851521fa7c43029225aa328ec0114a",
            "placeholder": "​",
            "style": "IPY_MODEL_2e14eaaa181044b1a8f1994098d3c19d",
            "value": " 3/3 [00:52&lt;00:00, 17.76s/it]"
          }
        },
        "e41f53bc074f4195acf44c2bcf001c21": {
          "model_module": "@jupyter-widgets/base",
          "model_name": "LayoutModel",
          "model_module_version": "1.2.0",
          "state": {
            "_model_module": "@jupyter-widgets/base",
            "_model_module_version": "1.2.0",
            "_model_name": "LayoutModel",
            "_view_count": null,
            "_view_module": "@jupyter-widgets/base",
            "_view_module_version": "1.2.0",
            "_view_name": "LayoutView",
            "align_content": null,
            "align_items": null,
            "align_self": null,
            "border": null,
            "bottom": null,
            "display": null,
            "flex": null,
            "flex_flow": null,
            "grid_area": null,
            "grid_auto_columns": null,
            "grid_auto_flow": null,
            "grid_auto_rows": null,
            "grid_column": null,
            "grid_gap": null,
            "grid_row": null,
            "grid_template_areas": null,
            "grid_template_columns": null,
            "grid_template_rows": null,
            "height": null,
            "justify_content": null,
            "justify_items": null,
            "left": null,
            "margin": null,
            "max_height": null,
            "max_width": null,
            "min_height": null,
            "min_width": null,
            "object_fit": null,
            "object_position": null,
            "order": null,
            "overflow": null,
            "overflow_x": null,
            "overflow_y": null,
            "padding": null,
            "right": null,
            "top": null,
            "visibility": null,
            "width": null
          }
        },
        "2bc7f506d7c242e88decf02ea0a93b21": {
          "model_module": "@jupyter-widgets/base",
          "model_name": "LayoutModel",
          "model_module_version": "1.2.0",
          "state": {
            "_model_module": "@jupyter-widgets/base",
            "_model_module_version": "1.2.0",
            "_model_name": "LayoutModel",
            "_view_count": null,
            "_view_module": "@jupyter-widgets/base",
            "_view_module_version": "1.2.0",
            "_view_name": "LayoutView",
            "align_content": null,
            "align_items": null,
            "align_self": null,
            "border": null,
            "bottom": null,
            "display": null,
            "flex": null,
            "flex_flow": null,
            "grid_area": null,
            "grid_auto_columns": null,
            "grid_auto_flow": null,
            "grid_auto_rows": null,
            "grid_column": null,
            "grid_gap": null,
            "grid_row": null,
            "grid_template_areas": null,
            "grid_template_columns": null,
            "grid_template_rows": null,
            "height": null,
            "justify_content": null,
            "justify_items": null,
            "left": null,
            "margin": null,
            "max_height": null,
            "max_width": null,
            "min_height": null,
            "min_width": null,
            "object_fit": null,
            "object_position": null,
            "order": null,
            "overflow": null,
            "overflow_x": null,
            "overflow_y": null,
            "padding": null,
            "right": null,
            "top": null,
            "visibility": null,
            "width": null
          }
        },
        "32079aca9e6546fdaa41a97307303533": {
          "model_module": "@jupyter-widgets/controls",
          "model_name": "DescriptionStyleModel",
          "model_module_version": "1.5.0",
          "state": {
            "_model_module": "@jupyter-widgets/controls",
            "_model_module_version": "1.5.0",
            "_model_name": "DescriptionStyleModel",
            "_view_count": null,
            "_view_module": "@jupyter-widgets/base",
            "_view_module_version": "1.2.0",
            "_view_name": "StyleView",
            "description_width": ""
          }
        },
        "6923fc4282e54cf7b13015eb60d1e182": {
          "model_module": "@jupyter-widgets/base",
          "model_name": "LayoutModel",
          "model_module_version": "1.2.0",
          "state": {
            "_model_module": "@jupyter-widgets/base",
            "_model_module_version": "1.2.0",
            "_model_name": "LayoutModel",
            "_view_count": null,
            "_view_module": "@jupyter-widgets/base",
            "_view_module_version": "1.2.0",
            "_view_name": "LayoutView",
            "align_content": null,
            "align_items": null,
            "align_self": null,
            "border": null,
            "bottom": null,
            "display": null,
            "flex": null,
            "flex_flow": null,
            "grid_area": null,
            "grid_auto_columns": null,
            "grid_auto_flow": null,
            "grid_auto_rows": null,
            "grid_column": null,
            "grid_gap": null,
            "grid_row": null,
            "grid_template_areas": null,
            "grid_template_columns": null,
            "grid_template_rows": null,
            "height": null,
            "justify_content": null,
            "justify_items": null,
            "left": null,
            "margin": null,
            "max_height": null,
            "max_width": null,
            "min_height": null,
            "min_width": null,
            "object_fit": null,
            "object_position": null,
            "order": null,
            "overflow": null,
            "overflow_x": null,
            "overflow_y": null,
            "padding": null,
            "right": null,
            "top": null,
            "visibility": null,
            "width": null
          }
        },
        "23a741fcb10b4c61ab944b6faff0394b": {
          "model_module": "@jupyter-widgets/controls",
          "model_name": "ProgressStyleModel",
          "model_module_version": "1.5.0",
          "state": {
            "_model_module": "@jupyter-widgets/controls",
            "_model_module_version": "1.5.0",
            "_model_name": "ProgressStyleModel",
            "_view_count": null,
            "_view_module": "@jupyter-widgets/base",
            "_view_module_version": "1.2.0",
            "_view_name": "StyleView",
            "bar_color": null,
            "description_width": ""
          }
        },
        "da851521fa7c43029225aa328ec0114a": {
          "model_module": "@jupyter-widgets/base",
          "model_name": "LayoutModel",
          "model_module_version": "1.2.0",
          "state": {
            "_model_module": "@jupyter-widgets/base",
            "_model_module_version": "1.2.0",
            "_model_name": "LayoutModel",
            "_view_count": null,
            "_view_module": "@jupyter-widgets/base",
            "_view_module_version": "1.2.0",
            "_view_name": "LayoutView",
            "align_content": null,
            "align_items": null,
            "align_self": null,
            "border": null,
            "bottom": null,
            "display": null,
            "flex": null,
            "flex_flow": null,
            "grid_area": null,
            "grid_auto_columns": null,
            "grid_auto_flow": null,
            "grid_auto_rows": null,
            "grid_column": null,
            "grid_gap": null,
            "grid_row": null,
            "grid_template_areas": null,
            "grid_template_columns": null,
            "grid_template_rows": null,
            "height": null,
            "justify_content": null,
            "justify_items": null,
            "left": null,
            "margin": null,
            "max_height": null,
            "max_width": null,
            "min_height": null,
            "min_width": null,
            "object_fit": null,
            "object_position": null,
            "order": null,
            "overflow": null,
            "overflow_x": null,
            "overflow_y": null,
            "padding": null,
            "right": null,
            "top": null,
            "visibility": null,
            "width": null
          }
        },
        "2e14eaaa181044b1a8f1994098d3c19d": {
          "model_module": "@jupyter-widgets/controls",
          "model_name": "DescriptionStyleModel",
          "model_module_version": "1.5.0",
          "state": {
            "_model_module": "@jupyter-widgets/controls",
            "_model_module_version": "1.5.0",
            "_model_name": "DescriptionStyleModel",
            "_view_count": null,
            "_view_module": "@jupyter-widgets/base",
            "_view_module_version": "1.2.0",
            "_view_name": "StyleView",
            "description_width": ""
          }
        },
        "c50fd4b82881400b8266709edb90e203": {
          "model_module": "@jupyter-widgets/controls",
          "model_name": "HBoxModel",
          "model_module_version": "1.5.0",
          "state": {
            "_dom_classes": [],
            "_model_module": "@jupyter-widgets/controls",
            "_model_module_version": "1.5.0",
            "_model_name": "HBoxModel",
            "_view_count": null,
            "_view_module": "@jupyter-widgets/controls",
            "_view_module_version": "1.5.0",
            "_view_name": "HBoxView",
            "box_style": "",
            "children": [
              "IPY_MODEL_06f8aeb789954c43bda4e80f5e9eb4cf",
              "IPY_MODEL_65402aed1fae404d8c452e7b5e77ce4d",
              "IPY_MODEL_95139ce5651f486ba0481e4efa748974"
            ],
            "layout": "IPY_MODEL_3f06765749434bd183e2e7106fd684d2"
          }
        },
        "06f8aeb789954c43bda4e80f5e9eb4cf": {
          "model_module": "@jupyter-widgets/controls",
          "model_name": "HTMLModel",
          "model_module_version": "1.5.0",
          "state": {
            "_dom_classes": [],
            "_model_module": "@jupyter-widgets/controls",
            "_model_module_version": "1.5.0",
            "_model_name": "HTMLModel",
            "_view_count": null,
            "_view_module": "@jupyter-widgets/controls",
            "_view_module_version": "1.5.0",
            "_view_name": "HTMLView",
            "description": "",
            "description_tooltip": null,
            "layout": "IPY_MODEL_b6bc4deba6684b619b9d7028b5f8d053",
            "placeholder": "​",
            "style": "IPY_MODEL_531f895dcc7a43ce9b1f71ec76dd0a79",
            "value": "100%"
          }
        },
        "65402aed1fae404d8c452e7b5e77ce4d": {
          "model_module": "@jupyter-widgets/controls",
          "model_name": "FloatProgressModel",
          "model_module_version": "1.5.0",
          "state": {
            "_dom_classes": [],
            "_model_module": "@jupyter-widgets/controls",
            "_model_module_version": "1.5.0",
            "_model_name": "FloatProgressModel",
            "_view_count": null,
            "_view_module": "@jupyter-widgets/controls",
            "_view_module_version": "1.5.0",
            "_view_name": "ProgressView",
            "bar_style": "success",
            "description": "",
            "description_tooltip": null,
            "layout": "IPY_MODEL_8a12de7f7cd24c2dbd85928fe1299c71",
            "max": 313,
            "min": 0,
            "orientation": "horizontal",
            "style": "IPY_MODEL_015664c580ca473a87b58f36a9a672ec",
            "value": 313
          }
        },
        "95139ce5651f486ba0481e4efa748974": {
          "model_module": "@jupyter-widgets/controls",
          "model_name": "HTMLModel",
          "model_module_version": "1.5.0",
          "state": {
            "_dom_classes": [],
            "_model_module": "@jupyter-widgets/controls",
            "_model_module_version": "1.5.0",
            "_model_name": "HTMLModel",
            "_view_count": null,
            "_view_module": "@jupyter-widgets/controls",
            "_view_module_version": "1.5.0",
            "_view_name": "HTMLView",
            "description": "",
            "description_tooltip": null,
            "layout": "IPY_MODEL_6eedde2a37f54505a8076a9fcb12af0a",
            "placeholder": "​",
            "style": "IPY_MODEL_6dfdd40fcc004f4fba6e6ffd3c612eec",
            "value": " 313/313 [00:01&lt;00:00, 237.95it/s]"
          }
        },
        "3f06765749434bd183e2e7106fd684d2": {
          "model_module": "@jupyter-widgets/base",
          "model_name": "LayoutModel",
          "model_module_version": "1.2.0",
          "state": {
            "_model_module": "@jupyter-widgets/base",
            "_model_module_version": "1.2.0",
            "_model_name": "LayoutModel",
            "_view_count": null,
            "_view_module": "@jupyter-widgets/base",
            "_view_module_version": "1.2.0",
            "_view_name": "LayoutView",
            "align_content": null,
            "align_items": null,
            "align_self": null,
            "border": null,
            "bottom": null,
            "display": null,
            "flex": null,
            "flex_flow": null,
            "grid_area": null,
            "grid_auto_columns": null,
            "grid_auto_flow": null,
            "grid_auto_rows": null,
            "grid_column": null,
            "grid_gap": null,
            "grid_row": null,
            "grid_template_areas": null,
            "grid_template_columns": null,
            "grid_template_rows": null,
            "height": null,
            "justify_content": null,
            "justify_items": null,
            "left": null,
            "margin": null,
            "max_height": null,
            "max_width": null,
            "min_height": null,
            "min_width": null,
            "object_fit": null,
            "object_position": null,
            "order": null,
            "overflow": null,
            "overflow_x": null,
            "overflow_y": null,
            "padding": null,
            "right": null,
            "top": null,
            "visibility": null,
            "width": null
          }
        },
        "b6bc4deba6684b619b9d7028b5f8d053": {
          "model_module": "@jupyter-widgets/base",
          "model_name": "LayoutModel",
          "model_module_version": "1.2.0",
          "state": {
            "_model_module": "@jupyter-widgets/base",
            "_model_module_version": "1.2.0",
            "_model_name": "LayoutModel",
            "_view_count": null,
            "_view_module": "@jupyter-widgets/base",
            "_view_module_version": "1.2.0",
            "_view_name": "LayoutView",
            "align_content": null,
            "align_items": null,
            "align_self": null,
            "border": null,
            "bottom": null,
            "display": null,
            "flex": null,
            "flex_flow": null,
            "grid_area": null,
            "grid_auto_columns": null,
            "grid_auto_flow": null,
            "grid_auto_rows": null,
            "grid_column": null,
            "grid_gap": null,
            "grid_row": null,
            "grid_template_areas": null,
            "grid_template_columns": null,
            "grid_template_rows": null,
            "height": null,
            "justify_content": null,
            "justify_items": null,
            "left": null,
            "margin": null,
            "max_height": null,
            "max_width": null,
            "min_height": null,
            "min_width": null,
            "object_fit": null,
            "object_position": null,
            "order": null,
            "overflow": null,
            "overflow_x": null,
            "overflow_y": null,
            "padding": null,
            "right": null,
            "top": null,
            "visibility": null,
            "width": null
          }
        },
        "531f895dcc7a43ce9b1f71ec76dd0a79": {
          "model_module": "@jupyter-widgets/controls",
          "model_name": "DescriptionStyleModel",
          "model_module_version": "1.5.0",
          "state": {
            "_model_module": "@jupyter-widgets/controls",
            "_model_module_version": "1.5.0",
            "_model_name": "DescriptionStyleModel",
            "_view_count": null,
            "_view_module": "@jupyter-widgets/base",
            "_view_module_version": "1.2.0",
            "_view_name": "StyleView",
            "description_width": ""
          }
        },
        "8a12de7f7cd24c2dbd85928fe1299c71": {
          "model_module": "@jupyter-widgets/base",
          "model_name": "LayoutModel",
          "model_module_version": "1.2.0",
          "state": {
            "_model_module": "@jupyter-widgets/base",
            "_model_module_version": "1.2.0",
            "_model_name": "LayoutModel",
            "_view_count": null,
            "_view_module": "@jupyter-widgets/base",
            "_view_module_version": "1.2.0",
            "_view_name": "LayoutView",
            "align_content": null,
            "align_items": null,
            "align_self": null,
            "border": null,
            "bottom": null,
            "display": null,
            "flex": null,
            "flex_flow": null,
            "grid_area": null,
            "grid_auto_columns": null,
            "grid_auto_flow": null,
            "grid_auto_rows": null,
            "grid_column": null,
            "grid_gap": null,
            "grid_row": null,
            "grid_template_areas": null,
            "grid_template_columns": null,
            "grid_template_rows": null,
            "height": null,
            "justify_content": null,
            "justify_items": null,
            "left": null,
            "margin": null,
            "max_height": null,
            "max_width": null,
            "min_height": null,
            "min_width": null,
            "object_fit": null,
            "object_position": null,
            "order": null,
            "overflow": null,
            "overflow_x": null,
            "overflow_y": null,
            "padding": null,
            "right": null,
            "top": null,
            "visibility": null,
            "width": null
          }
        },
        "015664c580ca473a87b58f36a9a672ec": {
          "model_module": "@jupyter-widgets/controls",
          "model_name": "ProgressStyleModel",
          "model_module_version": "1.5.0",
          "state": {
            "_model_module": "@jupyter-widgets/controls",
            "_model_module_version": "1.5.0",
            "_model_name": "ProgressStyleModel",
            "_view_count": null,
            "_view_module": "@jupyter-widgets/base",
            "_view_module_version": "1.2.0",
            "_view_name": "StyleView",
            "bar_color": null,
            "description_width": ""
          }
        },
        "6eedde2a37f54505a8076a9fcb12af0a": {
          "model_module": "@jupyter-widgets/base",
          "model_name": "LayoutModel",
          "model_module_version": "1.2.0",
          "state": {
            "_model_module": "@jupyter-widgets/base",
            "_model_module_version": "1.2.0",
            "_model_name": "LayoutModel",
            "_view_count": null,
            "_view_module": "@jupyter-widgets/base",
            "_view_module_version": "1.2.0",
            "_view_name": "LayoutView",
            "align_content": null,
            "align_items": null,
            "align_self": null,
            "border": null,
            "bottom": null,
            "display": null,
            "flex": null,
            "flex_flow": null,
            "grid_area": null,
            "grid_auto_columns": null,
            "grid_auto_flow": null,
            "grid_auto_rows": null,
            "grid_column": null,
            "grid_gap": null,
            "grid_row": null,
            "grid_template_areas": null,
            "grid_template_columns": null,
            "grid_template_rows": null,
            "height": null,
            "justify_content": null,
            "justify_items": null,
            "left": null,
            "margin": null,
            "max_height": null,
            "max_width": null,
            "min_height": null,
            "min_width": null,
            "object_fit": null,
            "object_position": null,
            "order": null,
            "overflow": null,
            "overflow_x": null,
            "overflow_y": null,
            "padding": null,
            "right": null,
            "top": null,
            "visibility": null,
            "width": null
          }
        },
        "6dfdd40fcc004f4fba6e6ffd3c612eec": {
          "model_module": "@jupyter-widgets/controls",
          "model_name": "DescriptionStyleModel",
          "model_module_version": "1.5.0",
          "state": {
            "_model_module": "@jupyter-widgets/controls",
            "_model_module_version": "1.5.0",
            "_model_name": "DescriptionStyleModel",
            "_view_count": null,
            "_view_module": "@jupyter-widgets/base",
            "_view_module_version": "1.2.0",
            "_view_name": "StyleView",
            "description_width": ""
          }
        },
        "9d5871aefb7b4088bc56e0c4e3e31a6c": {
          "model_module": "@jupyter-widgets/controls",
          "model_name": "HBoxModel",
          "model_module_version": "1.5.0",
          "state": {
            "_dom_classes": [],
            "_model_module": "@jupyter-widgets/controls",
            "_model_module_version": "1.5.0",
            "_model_name": "HBoxModel",
            "_view_count": null,
            "_view_module": "@jupyter-widgets/controls",
            "_view_module_version": "1.5.0",
            "_view_name": "HBoxView",
            "box_style": "",
            "children": [
              "IPY_MODEL_d64647815ea948de8e9a687e403dae89",
              "IPY_MODEL_a3bc2dc21f7a4b2197438fe795b322a5",
              "IPY_MODEL_520189ee678c4616a835c4e6dbf82fd3"
            ],
            "layout": "IPY_MODEL_894b5352f44944a789abf7af9596b88d"
          }
        },
        "d64647815ea948de8e9a687e403dae89": {
          "model_module": "@jupyter-widgets/controls",
          "model_name": "HTMLModel",
          "model_module_version": "1.5.0",
          "state": {
            "_dom_classes": [],
            "_model_module": "@jupyter-widgets/controls",
            "_model_module_version": "1.5.0",
            "_model_name": "HTMLModel",
            "_view_count": null,
            "_view_module": "@jupyter-widgets/controls",
            "_view_module_version": "1.5.0",
            "_view_name": "HTMLView",
            "description": "",
            "description_tooltip": null,
            "layout": "IPY_MODEL_435ed457f9844aa2aadcdd21dc59cf2a",
            "placeholder": "​",
            "style": "IPY_MODEL_94924583c5664f44b7477eea2c924aaf",
            "value": "100%"
          }
        },
        "a3bc2dc21f7a4b2197438fe795b322a5": {
          "model_module": "@jupyter-widgets/controls",
          "model_name": "FloatProgressModel",
          "model_module_version": "1.5.0",
          "state": {
            "_dom_classes": [],
            "_model_module": "@jupyter-widgets/controls",
            "_model_module_version": "1.5.0",
            "_model_name": "FloatProgressModel",
            "_view_count": null,
            "_view_module": "@jupyter-widgets/controls",
            "_view_module_version": "1.5.0",
            "_view_name": "ProgressView",
            "bar_style": "success",
            "description": "",
            "description_tooltip": null,
            "layout": "IPY_MODEL_1226c0783d4b4a3fa10667504a3bbcaf",
            "max": 10,
            "min": 0,
            "orientation": "horizontal",
            "style": "IPY_MODEL_dd66df9074f34399aba7549c6edf2f00",
            "value": 10
          }
        },
        "520189ee678c4616a835c4e6dbf82fd3": {
          "model_module": "@jupyter-widgets/controls",
          "model_name": "HTMLModel",
          "model_module_version": "1.5.0",
          "state": {
            "_dom_classes": [],
            "_model_module": "@jupyter-widgets/controls",
            "_model_module_version": "1.5.0",
            "_model_name": "HTMLModel",
            "_view_count": null,
            "_view_module": "@jupyter-widgets/controls",
            "_view_module_version": "1.5.0",
            "_view_name": "HTMLView",
            "description": "",
            "description_tooltip": null,
            "layout": "IPY_MODEL_7c9dea7dc91e4dc1bc16f8328d1bb0e1",
            "placeholder": "​",
            "style": "IPY_MODEL_6bc169374efb41cc91627dfa22706e79",
            "value": " 10/10 [02:16&lt;00:00, 12.73s/it]"
          }
        },
        "894b5352f44944a789abf7af9596b88d": {
          "model_module": "@jupyter-widgets/base",
          "model_name": "LayoutModel",
          "model_module_version": "1.2.0",
          "state": {
            "_model_module": "@jupyter-widgets/base",
            "_model_module_version": "1.2.0",
            "_model_name": "LayoutModel",
            "_view_count": null,
            "_view_module": "@jupyter-widgets/base",
            "_view_module_version": "1.2.0",
            "_view_name": "LayoutView",
            "align_content": null,
            "align_items": null,
            "align_self": null,
            "border": null,
            "bottom": null,
            "display": null,
            "flex": null,
            "flex_flow": null,
            "grid_area": null,
            "grid_auto_columns": null,
            "grid_auto_flow": null,
            "grid_auto_rows": null,
            "grid_column": null,
            "grid_gap": null,
            "grid_row": null,
            "grid_template_areas": null,
            "grid_template_columns": null,
            "grid_template_rows": null,
            "height": null,
            "justify_content": null,
            "justify_items": null,
            "left": null,
            "margin": null,
            "max_height": null,
            "max_width": null,
            "min_height": null,
            "min_width": null,
            "object_fit": null,
            "object_position": null,
            "order": null,
            "overflow": null,
            "overflow_x": null,
            "overflow_y": null,
            "padding": null,
            "right": null,
            "top": null,
            "visibility": null,
            "width": null
          }
        },
        "435ed457f9844aa2aadcdd21dc59cf2a": {
          "model_module": "@jupyter-widgets/base",
          "model_name": "LayoutModel",
          "model_module_version": "1.2.0",
          "state": {
            "_model_module": "@jupyter-widgets/base",
            "_model_module_version": "1.2.0",
            "_model_name": "LayoutModel",
            "_view_count": null,
            "_view_module": "@jupyter-widgets/base",
            "_view_module_version": "1.2.0",
            "_view_name": "LayoutView",
            "align_content": null,
            "align_items": null,
            "align_self": null,
            "border": null,
            "bottom": null,
            "display": null,
            "flex": null,
            "flex_flow": null,
            "grid_area": null,
            "grid_auto_columns": null,
            "grid_auto_flow": null,
            "grid_auto_rows": null,
            "grid_column": null,
            "grid_gap": null,
            "grid_row": null,
            "grid_template_areas": null,
            "grid_template_columns": null,
            "grid_template_rows": null,
            "height": null,
            "justify_content": null,
            "justify_items": null,
            "left": null,
            "margin": null,
            "max_height": null,
            "max_width": null,
            "min_height": null,
            "min_width": null,
            "object_fit": null,
            "object_position": null,
            "order": null,
            "overflow": null,
            "overflow_x": null,
            "overflow_y": null,
            "padding": null,
            "right": null,
            "top": null,
            "visibility": null,
            "width": null
          }
        },
        "94924583c5664f44b7477eea2c924aaf": {
          "model_module": "@jupyter-widgets/controls",
          "model_name": "DescriptionStyleModel",
          "model_module_version": "1.5.0",
          "state": {
            "_model_module": "@jupyter-widgets/controls",
            "_model_module_version": "1.5.0",
            "_model_name": "DescriptionStyleModel",
            "_view_count": null,
            "_view_module": "@jupyter-widgets/base",
            "_view_module_version": "1.2.0",
            "_view_name": "StyleView",
            "description_width": ""
          }
        },
        "1226c0783d4b4a3fa10667504a3bbcaf": {
          "model_module": "@jupyter-widgets/base",
          "model_name": "LayoutModel",
          "model_module_version": "1.2.0",
          "state": {
            "_model_module": "@jupyter-widgets/base",
            "_model_module_version": "1.2.0",
            "_model_name": "LayoutModel",
            "_view_count": null,
            "_view_module": "@jupyter-widgets/base",
            "_view_module_version": "1.2.0",
            "_view_name": "LayoutView",
            "align_content": null,
            "align_items": null,
            "align_self": null,
            "border": null,
            "bottom": null,
            "display": null,
            "flex": null,
            "flex_flow": null,
            "grid_area": null,
            "grid_auto_columns": null,
            "grid_auto_flow": null,
            "grid_auto_rows": null,
            "grid_column": null,
            "grid_gap": null,
            "grid_row": null,
            "grid_template_areas": null,
            "grid_template_columns": null,
            "grid_template_rows": null,
            "height": null,
            "justify_content": null,
            "justify_items": null,
            "left": null,
            "margin": null,
            "max_height": null,
            "max_width": null,
            "min_height": null,
            "min_width": null,
            "object_fit": null,
            "object_position": null,
            "order": null,
            "overflow": null,
            "overflow_x": null,
            "overflow_y": null,
            "padding": null,
            "right": null,
            "top": null,
            "visibility": null,
            "width": null
          }
        },
        "dd66df9074f34399aba7549c6edf2f00": {
          "model_module": "@jupyter-widgets/controls",
          "model_name": "ProgressStyleModel",
          "model_module_version": "1.5.0",
          "state": {
            "_model_module": "@jupyter-widgets/controls",
            "_model_module_version": "1.5.0",
            "_model_name": "ProgressStyleModel",
            "_view_count": null,
            "_view_module": "@jupyter-widgets/base",
            "_view_module_version": "1.2.0",
            "_view_name": "StyleView",
            "bar_color": null,
            "description_width": ""
          }
        },
        "7c9dea7dc91e4dc1bc16f8328d1bb0e1": {
          "model_module": "@jupyter-widgets/base",
          "model_name": "LayoutModel",
          "model_module_version": "1.2.0",
          "state": {
            "_model_module": "@jupyter-widgets/base",
            "_model_module_version": "1.2.0",
            "_model_name": "LayoutModel",
            "_view_count": null,
            "_view_module": "@jupyter-widgets/base",
            "_view_module_version": "1.2.0",
            "_view_name": "LayoutView",
            "align_content": null,
            "align_items": null,
            "align_self": null,
            "border": null,
            "bottom": null,
            "display": null,
            "flex": null,
            "flex_flow": null,
            "grid_area": null,
            "grid_auto_columns": null,
            "grid_auto_flow": null,
            "grid_auto_rows": null,
            "grid_column": null,
            "grid_gap": null,
            "grid_row": null,
            "grid_template_areas": null,
            "grid_template_columns": null,
            "grid_template_rows": null,
            "height": null,
            "justify_content": null,
            "justify_items": null,
            "left": null,
            "margin": null,
            "max_height": null,
            "max_width": null,
            "min_height": null,
            "min_width": null,
            "object_fit": null,
            "object_position": null,
            "order": null,
            "overflow": null,
            "overflow_x": null,
            "overflow_y": null,
            "padding": null,
            "right": null,
            "top": null,
            "visibility": null,
            "width": null
          }
        },
        "6bc169374efb41cc91627dfa22706e79": {
          "model_module": "@jupyter-widgets/controls",
          "model_name": "DescriptionStyleModel",
          "model_module_version": "1.5.0",
          "state": {
            "_model_module": "@jupyter-widgets/controls",
            "_model_module_version": "1.5.0",
            "_model_name": "DescriptionStyleModel",
            "_view_count": null,
            "_view_module": "@jupyter-widgets/base",
            "_view_module_version": "1.2.0",
            "_view_name": "StyleView",
            "description_width": ""
          }
        },
        "dcf41dede9bc443eb5e94c84d5bcf434": {
          "model_module": "@jupyter-widgets/controls",
          "model_name": "HBoxModel",
          "model_module_version": "1.5.0",
          "state": {
            "_dom_classes": [],
            "_model_module": "@jupyter-widgets/controls",
            "_model_module_version": "1.5.0",
            "_model_name": "HBoxModel",
            "_view_count": null,
            "_view_module": "@jupyter-widgets/controls",
            "_view_module_version": "1.5.0",
            "_view_name": "HBoxView",
            "box_style": "",
            "children": [
              "IPY_MODEL_5fda80d43179438ca956f2d3efe379ed",
              "IPY_MODEL_55c357c2d4cc47519a36a32f885076f5",
              "IPY_MODEL_9ac2dd9960df4576958b4d369892b63c"
            ],
            "layout": "IPY_MODEL_f4203d7e1e18431a86bc8f635b510377"
          }
        },
        "5fda80d43179438ca956f2d3efe379ed": {
          "model_module": "@jupyter-widgets/controls",
          "model_name": "HTMLModel",
          "model_module_version": "1.5.0",
          "state": {
            "_dom_classes": [],
            "_model_module": "@jupyter-widgets/controls",
            "_model_module_version": "1.5.0",
            "_model_name": "HTMLModel",
            "_view_count": null,
            "_view_module": "@jupyter-widgets/controls",
            "_view_module_version": "1.5.0",
            "_view_name": "HTMLView",
            "description": "",
            "description_tooltip": null,
            "layout": "IPY_MODEL_a0e0c328f5634ee6b3fe91fe22f28ba8",
            "placeholder": "​",
            "style": "IPY_MODEL_595505bfa7a54e8b9f35229109d33069",
            "value": "100%"
          }
        },
        "55c357c2d4cc47519a36a32f885076f5": {
          "model_module": "@jupyter-widgets/controls",
          "model_name": "FloatProgressModel",
          "model_module_version": "1.5.0",
          "state": {
            "_dom_classes": [],
            "_model_module": "@jupyter-widgets/controls",
            "_model_module_version": "1.5.0",
            "_model_name": "FloatProgressModel",
            "_view_count": null,
            "_view_module": "@jupyter-widgets/controls",
            "_view_module_version": "1.5.0",
            "_view_name": "ProgressView",
            "bar_style": "success",
            "description": "",
            "description_tooltip": null,
            "layout": "IPY_MODEL_2321f07a765a4f03a9a1c44a4e81078c",
            "max": 313,
            "min": 0,
            "orientation": "horizontal",
            "style": "IPY_MODEL_03e5f57e2d6344b0900389b92139c47b",
            "value": 313
          }
        },
        "9ac2dd9960df4576958b4d369892b63c": {
          "model_module": "@jupyter-widgets/controls",
          "model_name": "HTMLModel",
          "model_module_version": "1.5.0",
          "state": {
            "_dom_classes": [],
            "_model_module": "@jupyter-widgets/controls",
            "_model_module_version": "1.5.0",
            "_model_name": "HTMLModel",
            "_view_count": null,
            "_view_module": "@jupyter-widgets/controls",
            "_view_module_version": "1.5.0",
            "_view_name": "HTMLView",
            "description": "",
            "description_tooltip": null,
            "layout": "IPY_MODEL_97b6d4c388de4ea4bc4396f2a4dfb866",
            "placeholder": "​",
            "style": "IPY_MODEL_7987a39fa855441e9d91076a3589b203",
            "value": " 313/313 [00:01&lt;00:00, 209.23it/s]"
          }
        },
        "f4203d7e1e18431a86bc8f635b510377": {
          "model_module": "@jupyter-widgets/base",
          "model_name": "LayoutModel",
          "model_module_version": "1.2.0",
          "state": {
            "_model_module": "@jupyter-widgets/base",
            "_model_module_version": "1.2.0",
            "_model_name": "LayoutModel",
            "_view_count": null,
            "_view_module": "@jupyter-widgets/base",
            "_view_module_version": "1.2.0",
            "_view_name": "LayoutView",
            "align_content": null,
            "align_items": null,
            "align_self": null,
            "border": null,
            "bottom": null,
            "display": null,
            "flex": null,
            "flex_flow": null,
            "grid_area": null,
            "grid_auto_columns": null,
            "grid_auto_flow": null,
            "grid_auto_rows": null,
            "grid_column": null,
            "grid_gap": null,
            "grid_row": null,
            "grid_template_areas": null,
            "grid_template_columns": null,
            "grid_template_rows": null,
            "height": null,
            "justify_content": null,
            "justify_items": null,
            "left": null,
            "margin": null,
            "max_height": null,
            "max_width": null,
            "min_height": null,
            "min_width": null,
            "object_fit": null,
            "object_position": null,
            "order": null,
            "overflow": null,
            "overflow_x": null,
            "overflow_y": null,
            "padding": null,
            "right": null,
            "top": null,
            "visibility": null,
            "width": null
          }
        },
        "a0e0c328f5634ee6b3fe91fe22f28ba8": {
          "model_module": "@jupyter-widgets/base",
          "model_name": "LayoutModel",
          "model_module_version": "1.2.0",
          "state": {
            "_model_module": "@jupyter-widgets/base",
            "_model_module_version": "1.2.0",
            "_model_name": "LayoutModel",
            "_view_count": null,
            "_view_module": "@jupyter-widgets/base",
            "_view_module_version": "1.2.0",
            "_view_name": "LayoutView",
            "align_content": null,
            "align_items": null,
            "align_self": null,
            "border": null,
            "bottom": null,
            "display": null,
            "flex": null,
            "flex_flow": null,
            "grid_area": null,
            "grid_auto_columns": null,
            "grid_auto_flow": null,
            "grid_auto_rows": null,
            "grid_column": null,
            "grid_gap": null,
            "grid_row": null,
            "grid_template_areas": null,
            "grid_template_columns": null,
            "grid_template_rows": null,
            "height": null,
            "justify_content": null,
            "justify_items": null,
            "left": null,
            "margin": null,
            "max_height": null,
            "max_width": null,
            "min_height": null,
            "min_width": null,
            "object_fit": null,
            "object_position": null,
            "order": null,
            "overflow": null,
            "overflow_x": null,
            "overflow_y": null,
            "padding": null,
            "right": null,
            "top": null,
            "visibility": null,
            "width": null
          }
        },
        "595505bfa7a54e8b9f35229109d33069": {
          "model_module": "@jupyter-widgets/controls",
          "model_name": "DescriptionStyleModel",
          "model_module_version": "1.5.0",
          "state": {
            "_model_module": "@jupyter-widgets/controls",
            "_model_module_version": "1.5.0",
            "_model_name": "DescriptionStyleModel",
            "_view_count": null,
            "_view_module": "@jupyter-widgets/base",
            "_view_module_version": "1.2.0",
            "_view_name": "StyleView",
            "description_width": ""
          }
        },
        "2321f07a765a4f03a9a1c44a4e81078c": {
          "model_module": "@jupyter-widgets/base",
          "model_name": "LayoutModel",
          "model_module_version": "1.2.0",
          "state": {
            "_model_module": "@jupyter-widgets/base",
            "_model_module_version": "1.2.0",
            "_model_name": "LayoutModel",
            "_view_count": null,
            "_view_module": "@jupyter-widgets/base",
            "_view_module_version": "1.2.0",
            "_view_name": "LayoutView",
            "align_content": null,
            "align_items": null,
            "align_self": null,
            "border": null,
            "bottom": null,
            "display": null,
            "flex": null,
            "flex_flow": null,
            "grid_area": null,
            "grid_auto_columns": null,
            "grid_auto_flow": null,
            "grid_auto_rows": null,
            "grid_column": null,
            "grid_gap": null,
            "grid_row": null,
            "grid_template_areas": null,
            "grid_template_columns": null,
            "grid_template_rows": null,
            "height": null,
            "justify_content": null,
            "justify_items": null,
            "left": null,
            "margin": null,
            "max_height": null,
            "max_width": null,
            "min_height": null,
            "min_width": null,
            "object_fit": null,
            "object_position": null,
            "order": null,
            "overflow": null,
            "overflow_x": null,
            "overflow_y": null,
            "padding": null,
            "right": null,
            "top": null,
            "visibility": null,
            "width": null
          }
        },
        "03e5f57e2d6344b0900389b92139c47b": {
          "model_module": "@jupyter-widgets/controls",
          "model_name": "ProgressStyleModel",
          "model_module_version": "1.5.0",
          "state": {
            "_model_module": "@jupyter-widgets/controls",
            "_model_module_version": "1.5.0",
            "_model_name": "ProgressStyleModel",
            "_view_count": null,
            "_view_module": "@jupyter-widgets/base",
            "_view_module_version": "1.2.0",
            "_view_name": "StyleView",
            "bar_color": null,
            "description_width": ""
          }
        },
        "97b6d4c388de4ea4bc4396f2a4dfb866": {
          "model_module": "@jupyter-widgets/base",
          "model_name": "LayoutModel",
          "model_module_version": "1.2.0",
          "state": {
            "_model_module": "@jupyter-widgets/base",
            "_model_module_version": "1.2.0",
            "_model_name": "LayoutModel",
            "_view_count": null,
            "_view_module": "@jupyter-widgets/base",
            "_view_module_version": "1.2.0",
            "_view_name": "LayoutView",
            "align_content": null,
            "align_items": null,
            "align_self": null,
            "border": null,
            "bottom": null,
            "display": null,
            "flex": null,
            "flex_flow": null,
            "grid_area": null,
            "grid_auto_columns": null,
            "grid_auto_flow": null,
            "grid_auto_rows": null,
            "grid_column": null,
            "grid_gap": null,
            "grid_row": null,
            "grid_template_areas": null,
            "grid_template_columns": null,
            "grid_template_rows": null,
            "height": null,
            "justify_content": null,
            "justify_items": null,
            "left": null,
            "margin": null,
            "max_height": null,
            "max_width": null,
            "min_height": null,
            "min_width": null,
            "object_fit": null,
            "object_position": null,
            "order": null,
            "overflow": null,
            "overflow_x": null,
            "overflow_y": null,
            "padding": null,
            "right": null,
            "top": null,
            "visibility": null,
            "width": null
          }
        },
        "7987a39fa855441e9d91076a3589b203": {
          "model_module": "@jupyter-widgets/controls",
          "model_name": "DescriptionStyleModel",
          "model_module_version": "1.5.0",
          "state": {
            "_model_module": "@jupyter-widgets/controls",
            "_model_module_version": "1.5.0",
            "_model_name": "DescriptionStyleModel",
            "_view_count": null,
            "_view_module": "@jupyter-widgets/base",
            "_view_module_version": "1.2.0",
            "_view_name": "StyleView",
            "description_width": ""
          }
        },
        "61a6eef6653541c3bf0cbdf0876c53a3": {
          "model_module": "@jupyter-widgets/controls",
          "model_name": "HBoxModel",
          "model_module_version": "1.5.0",
          "state": {
            "_dom_classes": [],
            "_model_module": "@jupyter-widgets/controls",
            "_model_module_version": "1.5.0",
            "_model_name": "HBoxModel",
            "_view_count": null,
            "_view_module": "@jupyter-widgets/controls",
            "_view_module_version": "1.5.0",
            "_view_name": "HBoxView",
            "box_style": "",
            "children": [
              "IPY_MODEL_e795f23d35704ecaae512e0ffce80296",
              "IPY_MODEL_87d3592a6c524e19b46c98cf7295612c",
              "IPY_MODEL_8ddd15a72d09491097b41950d6cc4b92"
            ],
            "layout": "IPY_MODEL_b9ebbb39cb1b4b3cb854f8c16921b6cf"
          }
        },
        "e795f23d35704ecaae512e0ffce80296": {
          "model_module": "@jupyter-widgets/controls",
          "model_name": "HTMLModel",
          "model_module_version": "1.5.0",
          "state": {
            "_dom_classes": [],
            "_model_module": "@jupyter-widgets/controls",
            "_model_module_version": "1.5.0",
            "_model_name": "HTMLModel",
            "_view_count": null,
            "_view_module": "@jupyter-widgets/controls",
            "_view_module_version": "1.5.0",
            "_view_name": "HTMLView",
            "description": "",
            "description_tooltip": null,
            "layout": "IPY_MODEL_90c222d1f0c74ecf81193b9838bf7030",
            "placeholder": "​",
            "style": "IPY_MODEL_1e9de3f7b59f42eb989f6f526bac6b59",
            "value": "Making Predictions: 100%"
          }
        },
        "87d3592a6c524e19b46c98cf7295612c": {
          "model_module": "@jupyter-widgets/controls",
          "model_name": "FloatProgressModel",
          "model_module_version": "1.5.0",
          "state": {
            "_dom_classes": [],
            "_model_module": "@jupyter-widgets/controls",
            "_model_module_version": "1.5.0",
            "_model_name": "FloatProgressModel",
            "_view_count": null,
            "_view_module": "@jupyter-widgets/controls",
            "_view_module_version": "1.5.0",
            "_view_name": "ProgressView",
            "bar_style": "success",
            "description": "",
            "description_tooltip": null,
            "layout": "IPY_MODEL_5078184128324864b7d56e232c7ec603",
            "max": 313,
            "min": 0,
            "orientation": "horizontal",
            "style": "IPY_MODEL_0cb368aa609743efb7d0fbf394c4b023",
            "value": 313
          }
        },
        "8ddd15a72d09491097b41950d6cc4b92": {
          "model_module": "@jupyter-widgets/controls",
          "model_name": "HTMLModel",
          "model_module_version": "1.5.0",
          "state": {
            "_dom_classes": [],
            "_model_module": "@jupyter-widgets/controls",
            "_model_module_version": "1.5.0",
            "_model_name": "HTMLModel",
            "_view_count": null,
            "_view_module": "@jupyter-widgets/controls",
            "_view_module_version": "1.5.0",
            "_view_name": "HTMLView",
            "description": "",
            "description_tooltip": null,
            "layout": "IPY_MODEL_9466eb6309724e30bf1bbd9f4ef4ed58",
            "placeholder": "​",
            "style": "IPY_MODEL_25885e65aeaa4056b09e5ba21c3f57bc",
            "value": " 313/313 [00:02&lt;00:00, 230.67it/s]"
          }
        },
        "b9ebbb39cb1b4b3cb854f8c16921b6cf": {
          "model_module": "@jupyter-widgets/base",
          "model_name": "LayoutModel",
          "model_module_version": "1.2.0",
          "state": {
            "_model_module": "@jupyter-widgets/base",
            "_model_module_version": "1.2.0",
            "_model_name": "LayoutModel",
            "_view_count": null,
            "_view_module": "@jupyter-widgets/base",
            "_view_module_version": "1.2.0",
            "_view_name": "LayoutView",
            "align_content": null,
            "align_items": null,
            "align_self": null,
            "border": null,
            "bottom": null,
            "display": null,
            "flex": null,
            "flex_flow": null,
            "grid_area": null,
            "grid_auto_columns": null,
            "grid_auto_flow": null,
            "grid_auto_rows": null,
            "grid_column": null,
            "grid_gap": null,
            "grid_row": null,
            "grid_template_areas": null,
            "grid_template_columns": null,
            "grid_template_rows": null,
            "height": null,
            "justify_content": null,
            "justify_items": null,
            "left": null,
            "margin": null,
            "max_height": null,
            "max_width": null,
            "min_height": null,
            "min_width": null,
            "object_fit": null,
            "object_position": null,
            "order": null,
            "overflow": null,
            "overflow_x": null,
            "overflow_y": null,
            "padding": null,
            "right": null,
            "top": null,
            "visibility": null,
            "width": null
          }
        },
        "90c222d1f0c74ecf81193b9838bf7030": {
          "model_module": "@jupyter-widgets/base",
          "model_name": "LayoutModel",
          "model_module_version": "1.2.0",
          "state": {
            "_model_module": "@jupyter-widgets/base",
            "_model_module_version": "1.2.0",
            "_model_name": "LayoutModel",
            "_view_count": null,
            "_view_module": "@jupyter-widgets/base",
            "_view_module_version": "1.2.0",
            "_view_name": "LayoutView",
            "align_content": null,
            "align_items": null,
            "align_self": null,
            "border": null,
            "bottom": null,
            "display": null,
            "flex": null,
            "flex_flow": null,
            "grid_area": null,
            "grid_auto_columns": null,
            "grid_auto_flow": null,
            "grid_auto_rows": null,
            "grid_column": null,
            "grid_gap": null,
            "grid_row": null,
            "grid_template_areas": null,
            "grid_template_columns": null,
            "grid_template_rows": null,
            "height": null,
            "justify_content": null,
            "justify_items": null,
            "left": null,
            "margin": null,
            "max_height": null,
            "max_width": null,
            "min_height": null,
            "min_width": null,
            "object_fit": null,
            "object_position": null,
            "order": null,
            "overflow": null,
            "overflow_x": null,
            "overflow_y": null,
            "padding": null,
            "right": null,
            "top": null,
            "visibility": null,
            "width": null
          }
        },
        "1e9de3f7b59f42eb989f6f526bac6b59": {
          "model_module": "@jupyter-widgets/controls",
          "model_name": "DescriptionStyleModel",
          "model_module_version": "1.5.0",
          "state": {
            "_model_module": "@jupyter-widgets/controls",
            "_model_module_version": "1.5.0",
            "_model_name": "DescriptionStyleModel",
            "_view_count": null,
            "_view_module": "@jupyter-widgets/base",
            "_view_module_version": "1.2.0",
            "_view_name": "StyleView",
            "description_width": ""
          }
        },
        "5078184128324864b7d56e232c7ec603": {
          "model_module": "@jupyter-widgets/base",
          "model_name": "LayoutModel",
          "model_module_version": "1.2.0",
          "state": {
            "_model_module": "@jupyter-widgets/base",
            "_model_module_version": "1.2.0",
            "_model_name": "LayoutModel",
            "_view_count": null,
            "_view_module": "@jupyter-widgets/base",
            "_view_module_version": "1.2.0",
            "_view_name": "LayoutView",
            "align_content": null,
            "align_items": null,
            "align_self": null,
            "border": null,
            "bottom": null,
            "display": null,
            "flex": null,
            "flex_flow": null,
            "grid_area": null,
            "grid_auto_columns": null,
            "grid_auto_flow": null,
            "grid_auto_rows": null,
            "grid_column": null,
            "grid_gap": null,
            "grid_row": null,
            "grid_template_areas": null,
            "grid_template_columns": null,
            "grid_template_rows": null,
            "height": null,
            "justify_content": null,
            "justify_items": null,
            "left": null,
            "margin": null,
            "max_height": null,
            "max_width": null,
            "min_height": null,
            "min_width": null,
            "object_fit": null,
            "object_position": null,
            "order": null,
            "overflow": null,
            "overflow_x": null,
            "overflow_y": null,
            "padding": null,
            "right": null,
            "top": null,
            "visibility": null,
            "width": null
          }
        },
        "0cb368aa609743efb7d0fbf394c4b023": {
          "model_module": "@jupyter-widgets/controls",
          "model_name": "ProgressStyleModel",
          "model_module_version": "1.5.0",
          "state": {
            "_model_module": "@jupyter-widgets/controls",
            "_model_module_version": "1.5.0",
            "_model_name": "ProgressStyleModel",
            "_view_count": null,
            "_view_module": "@jupyter-widgets/base",
            "_view_module_version": "1.2.0",
            "_view_name": "StyleView",
            "bar_color": null,
            "description_width": ""
          }
        },
        "9466eb6309724e30bf1bbd9f4ef4ed58": {
          "model_module": "@jupyter-widgets/base",
          "model_name": "LayoutModel",
          "model_module_version": "1.2.0",
          "state": {
            "_model_module": "@jupyter-widgets/base",
            "_model_module_version": "1.2.0",
            "_model_name": "LayoutModel",
            "_view_count": null,
            "_view_module": "@jupyter-widgets/base",
            "_view_module_version": "1.2.0",
            "_view_name": "LayoutView",
            "align_content": null,
            "align_items": null,
            "align_self": null,
            "border": null,
            "bottom": null,
            "display": null,
            "flex": null,
            "flex_flow": null,
            "grid_area": null,
            "grid_auto_columns": null,
            "grid_auto_flow": null,
            "grid_auto_rows": null,
            "grid_column": null,
            "grid_gap": null,
            "grid_row": null,
            "grid_template_areas": null,
            "grid_template_columns": null,
            "grid_template_rows": null,
            "height": null,
            "justify_content": null,
            "justify_items": null,
            "left": null,
            "margin": null,
            "max_height": null,
            "max_width": null,
            "min_height": null,
            "min_width": null,
            "object_fit": null,
            "object_position": null,
            "order": null,
            "overflow": null,
            "overflow_x": null,
            "overflow_y": null,
            "padding": null,
            "right": null,
            "top": null,
            "visibility": null,
            "width": null
          }
        },
        "25885e65aeaa4056b09e5ba21c3f57bc": {
          "model_module": "@jupyter-widgets/controls",
          "model_name": "DescriptionStyleModel",
          "model_module_version": "1.5.0",
          "state": {
            "_model_module": "@jupyter-widgets/controls",
            "_model_module_version": "1.5.0",
            "_model_name": "DescriptionStyleModel",
            "_view_count": null,
            "_view_module": "@jupyter-widgets/base",
            "_view_module_version": "1.2.0",
            "_view_name": "StyleView",
            "description_width": ""
          }
        },
        "b619479e3ef54304b7c942e147f6ef48": {
          "model_module": "@jupyter-widgets/controls",
          "model_name": "HBoxModel",
          "model_module_version": "1.5.0",
          "state": {
            "_dom_classes": [],
            "_model_module": "@jupyter-widgets/controls",
            "_model_module_version": "1.5.0",
            "_model_name": "HBoxModel",
            "_view_count": null,
            "_view_module": "@jupyter-widgets/controls",
            "_view_module_version": "1.5.0",
            "_view_name": "HBoxView",
            "box_style": "",
            "children": [
              "IPY_MODEL_5e90666278824d97b479d2d2ed8747b7",
              "IPY_MODEL_361912b0debd4c45892b846052fe59f8",
              "IPY_MODEL_e4e16426c61144f29f68688325a32935"
            ],
            "layout": "IPY_MODEL_9c7ad34e68ab40d8bc48c07f4209a05d"
          }
        },
        "5e90666278824d97b479d2d2ed8747b7": {
          "model_module": "@jupyter-widgets/controls",
          "model_name": "HTMLModel",
          "model_module_version": "1.5.0",
          "state": {
            "_dom_classes": [],
            "_model_module": "@jupyter-widgets/controls",
            "_model_module_version": "1.5.0",
            "_model_name": "HTMLModel",
            "_view_count": null,
            "_view_module": "@jupyter-widgets/controls",
            "_view_module_version": "1.5.0",
            "_view_name": "HTMLView",
            "description": "",
            "description_tooltip": null,
            "layout": "IPY_MODEL_cd5349d894754abc8d115b6f1f320c07",
            "placeholder": "​",
            "style": "IPY_MODEL_e915e57647784943bf1b56a514defae8",
            "value": "100%"
          }
        },
        "361912b0debd4c45892b846052fe59f8": {
          "model_module": "@jupyter-widgets/controls",
          "model_name": "FloatProgressModel",
          "model_module_version": "1.5.0",
          "state": {
            "_dom_classes": [],
            "_model_module": "@jupyter-widgets/controls",
            "_model_module_version": "1.5.0",
            "_model_name": "FloatProgressModel",
            "_view_count": null,
            "_view_module": "@jupyter-widgets/controls",
            "_view_module_version": "1.5.0",
            "_view_name": "ProgressView",
            "bar_style": "success",
            "description": "",
            "description_tooltip": null,
            "layout": "IPY_MODEL_2e0e1759a44a449795a54a6a59b953a7",
            "max": 313,
            "min": 0,
            "orientation": "horizontal",
            "style": "IPY_MODEL_d25fb226e1d84083a21ad60dbd530ae4",
            "value": 313
          }
        },
        "e4e16426c61144f29f68688325a32935": {
          "model_module": "@jupyter-widgets/controls",
          "model_name": "HTMLModel",
          "model_module_version": "1.5.0",
          "state": {
            "_dom_classes": [],
            "_model_module": "@jupyter-widgets/controls",
            "_model_module_version": "1.5.0",
            "_model_name": "HTMLModel",
            "_view_count": null,
            "_view_module": "@jupyter-widgets/controls",
            "_view_module_version": "1.5.0",
            "_view_name": "HTMLView",
            "description": "",
            "description_tooltip": null,
            "layout": "IPY_MODEL_d8bbafaab9c04e919b6b9cb9ca4ab4c3",
            "placeholder": "​",
            "style": "IPY_MODEL_f6692a7670404cf8a77c6f07e3c841ba",
            "value": " 313/313 [00:02&lt;00:00, 230.20it/s]"
          }
        },
        "9c7ad34e68ab40d8bc48c07f4209a05d": {
          "model_module": "@jupyter-widgets/base",
          "model_name": "LayoutModel",
          "model_module_version": "1.2.0",
          "state": {
            "_model_module": "@jupyter-widgets/base",
            "_model_module_version": "1.2.0",
            "_model_name": "LayoutModel",
            "_view_count": null,
            "_view_module": "@jupyter-widgets/base",
            "_view_module_version": "1.2.0",
            "_view_name": "LayoutView",
            "align_content": null,
            "align_items": null,
            "align_self": null,
            "border": null,
            "bottom": null,
            "display": null,
            "flex": null,
            "flex_flow": null,
            "grid_area": null,
            "grid_auto_columns": null,
            "grid_auto_flow": null,
            "grid_auto_rows": null,
            "grid_column": null,
            "grid_gap": null,
            "grid_row": null,
            "grid_template_areas": null,
            "grid_template_columns": null,
            "grid_template_rows": null,
            "height": null,
            "justify_content": null,
            "justify_items": null,
            "left": null,
            "margin": null,
            "max_height": null,
            "max_width": null,
            "min_height": null,
            "min_width": null,
            "object_fit": null,
            "object_position": null,
            "order": null,
            "overflow": null,
            "overflow_x": null,
            "overflow_y": null,
            "padding": null,
            "right": null,
            "top": null,
            "visibility": null,
            "width": null
          }
        },
        "cd5349d894754abc8d115b6f1f320c07": {
          "model_module": "@jupyter-widgets/base",
          "model_name": "LayoutModel",
          "model_module_version": "1.2.0",
          "state": {
            "_model_module": "@jupyter-widgets/base",
            "_model_module_version": "1.2.0",
            "_model_name": "LayoutModel",
            "_view_count": null,
            "_view_module": "@jupyter-widgets/base",
            "_view_module_version": "1.2.0",
            "_view_name": "LayoutView",
            "align_content": null,
            "align_items": null,
            "align_self": null,
            "border": null,
            "bottom": null,
            "display": null,
            "flex": null,
            "flex_flow": null,
            "grid_area": null,
            "grid_auto_columns": null,
            "grid_auto_flow": null,
            "grid_auto_rows": null,
            "grid_column": null,
            "grid_gap": null,
            "grid_row": null,
            "grid_template_areas": null,
            "grid_template_columns": null,
            "grid_template_rows": null,
            "height": null,
            "justify_content": null,
            "justify_items": null,
            "left": null,
            "margin": null,
            "max_height": null,
            "max_width": null,
            "min_height": null,
            "min_width": null,
            "object_fit": null,
            "object_position": null,
            "order": null,
            "overflow": null,
            "overflow_x": null,
            "overflow_y": null,
            "padding": null,
            "right": null,
            "top": null,
            "visibility": null,
            "width": null
          }
        },
        "e915e57647784943bf1b56a514defae8": {
          "model_module": "@jupyter-widgets/controls",
          "model_name": "DescriptionStyleModel",
          "model_module_version": "1.5.0",
          "state": {
            "_model_module": "@jupyter-widgets/controls",
            "_model_module_version": "1.5.0",
            "_model_name": "DescriptionStyleModel",
            "_view_count": null,
            "_view_module": "@jupyter-widgets/base",
            "_view_module_version": "1.2.0",
            "_view_name": "StyleView",
            "description_width": ""
          }
        },
        "2e0e1759a44a449795a54a6a59b953a7": {
          "model_module": "@jupyter-widgets/base",
          "model_name": "LayoutModel",
          "model_module_version": "1.2.0",
          "state": {
            "_model_module": "@jupyter-widgets/base",
            "_model_module_version": "1.2.0",
            "_model_name": "LayoutModel",
            "_view_count": null,
            "_view_module": "@jupyter-widgets/base",
            "_view_module_version": "1.2.0",
            "_view_name": "LayoutView",
            "align_content": null,
            "align_items": null,
            "align_self": null,
            "border": null,
            "bottom": null,
            "display": null,
            "flex": null,
            "flex_flow": null,
            "grid_area": null,
            "grid_auto_columns": null,
            "grid_auto_flow": null,
            "grid_auto_rows": null,
            "grid_column": null,
            "grid_gap": null,
            "grid_row": null,
            "grid_template_areas": null,
            "grid_template_columns": null,
            "grid_template_rows": null,
            "height": null,
            "justify_content": null,
            "justify_items": null,
            "left": null,
            "margin": null,
            "max_height": null,
            "max_width": null,
            "min_height": null,
            "min_width": null,
            "object_fit": null,
            "object_position": null,
            "order": null,
            "overflow": null,
            "overflow_x": null,
            "overflow_y": null,
            "padding": null,
            "right": null,
            "top": null,
            "visibility": null,
            "width": null
          }
        },
        "d25fb226e1d84083a21ad60dbd530ae4": {
          "model_module": "@jupyter-widgets/controls",
          "model_name": "ProgressStyleModel",
          "model_module_version": "1.5.0",
          "state": {
            "_model_module": "@jupyter-widgets/controls",
            "_model_module_version": "1.5.0",
            "_model_name": "ProgressStyleModel",
            "_view_count": null,
            "_view_module": "@jupyter-widgets/base",
            "_view_module_version": "1.2.0",
            "_view_name": "StyleView",
            "bar_color": null,
            "description_width": ""
          }
        },
        "d8bbafaab9c04e919b6b9cb9ca4ab4c3": {
          "model_module": "@jupyter-widgets/base",
          "model_name": "LayoutModel",
          "model_module_version": "1.2.0",
          "state": {
            "_model_module": "@jupyter-widgets/base",
            "_model_module_version": "1.2.0",
            "_model_name": "LayoutModel",
            "_view_count": null,
            "_view_module": "@jupyter-widgets/base",
            "_view_module_version": "1.2.0",
            "_view_name": "LayoutView",
            "align_content": null,
            "align_items": null,
            "align_self": null,
            "border": null,
            "bottom": null,
            "display": null,
            "flex": null,
            "flex_flow": null,
            "grid_area": null,
            "grid_auto_columns": null,
            "grid_auto_flow": null,
            "grid_auto_rows": null,
            "grid_column": null,
            "grid_gap": null,
            "grid_row": null,
            "grid_template_areas": null,
            "grid_template_columns": null,
            "grid_template_rows": null,
            "height": null,
            "justify_content": null,
            "justify_items": null,
            "left": null,
            "margin": null,
            "max_height": null,
            "max_width": null,
            "min_height": null,
            "min_width": null,
            "object_fit": null,
            "object_position": null,
            "order": null,
            "overflow": null,
            "overflow_x": null,
            "overflow_y": null,
            "padding": null,
            "right": null,
            "top": null,
            "visibility": null,
            "width": null
          }
        },
        "f6692a7670404cf8a77c6f07e3c841ba": {
          "model_module": "@jupyter-widgets/controls",
          "model_name": "DescriptionStyleModel",
          "model_module_version": "1.5.0",
          "state": {
            "_model_module": "@jupyter-widgets/controls",
            "_model_module_version": "1.5.0",
            "_model_name": "DescriptionStyleModel",
            "_view_count": null,
            "_view_module": "@jupyter-widgets/base",
            "_view_module_version": "1.2.0",
            "_view_name": "StyleView",
            "description_width": ""
          }
        }
      }
    },
    "accelerator": "GPU"
  },
  "cells": [
    {
      "cell_type": "markdown",
      "metadata": {
        "id": "view-in-github",
        "colab_type": "text"
      },
      "source": [
        "<a href=\"https://colab.research.google.com/github/PratikPawar1401/Demo-CNN-for-FasionMNIST/blob/main/CNN_FashionMNIST.ipynb\" target=\"_parent\"><img src=\"https://colab.research.google.com/assets/colab-badge.svg\" alt=\"Open In Colab\"/></a>"
      ]
    },
    {
      "cell_type": "code",
      "execution_count": 1,
      "metadata": {
        "id": "ux8OK-Fk3mNo"
      },
      "outputs": [],
      "source": [
        "#Pytorch\n",
        "import torch\n",
        "from torch import nn\n",
        "#Torchvision\n",
        "import torchvision\n",
        "from torchvision import datasets\n",
        "from torchvision import transforms\n",
        "from torchvision.transforms import ToTensor\n",
        "#For Visualizatons\n",
        "import matplotlib.pyplot as plt\n",
        "\n"
      ]
    },
    {
      "cell_type": "code",
      "source": [
        "# Downloading the Data\n",
        "train_dataset = datasets.FashionMNIST(\n",
        "    root = \"data\",\n",
        "    train = True,\n",
        "    download = True,\n",
        "    transform = torchvision.transforms.ToTensor(),\n",
        "    target_transform=None\n",
        ")\n",
        "test_data = datasets.FashionMNIST(\n",
        "    root=\"data\", # Stored in Data file\n",
        "    train = False,\n",
        "    download=True,\n",
        "    transform=ToTensor(), # To transform images to numbers(tensors)\n",
        "    target_transform=None\n",
        ")"
      ],
      "metadata": {
        "id": "2oFVrlBN6UX3",
        "colab": {
          "base_uri": "https://localhost:8080/"
        },
        "outputId": "23bdde5c-e18a-4263-9f5c-d6c06f8cd752"
      },
      "execution_count": 2,
      "outputs": [
        {
          "output_type": "stream",
          "name": "stdout",
          "text": [
            "Downloading http://fashion-mnist.s3-website.eu-central-1.amazonaws.com/train-images-idx3-ubyte.gz\n",
            "Downloading http://fashion-mnist.s3-website.eu-central-1.amazonaws.com/train-images-idx3-ubyte.gz to data/FashionMNIST/raw/train-images-idx3-ubyte.gz\n"
          ]
        },
        {
          "output_type": "stream",
          "name": "stderr",
          "text": [
            "100%|██████████| 26421880/26421880 [00:00<00:00, 49368357.15it/s]\n"
          ]
        },
        {
          "output_type": "stream",
          "name": "stdout",
          "text": [
            "Extracting data/FashionMNIST/raw/train-images-idx3-ubyte.gz to data/FashionMNIST/raw\n",
            "\n",
            "Downloading http://fashion-mnist.s3-website.eu-central-1.amazonaws.com/train-labels-idx1-ubyte.gz\n",
            "Downloading http://fashion-mnist.s3-website.eu-central-1.amazonaws.com/train-labels-idx1-ubyte.gz to data/FashionMNIST/raw/train-labels-idx1-ubyte.gz\n"
          ]
        },
        {
          "output_type": "stream",
          "name": "stderr",
          "text": [
            "100%|██████████| 29515/29515 [00:00<00:00, 5168672.81it/s]"
          ]
        },
        {
          "output_type": "stream",
          "name": "stdout",
          "text": [
            "Extracting data/FashionMNIST/raw/train-labels-idx1-ubyte.gz to data/FashionMNIST/raw\n",
            "\n",
            "Downloading http://fashion-mnist.s3-website.eu-central-1.amazonaws.com/t10k-images-idx3-ubyte.gz\n",
            "Downloading http://fashion-mnist.s3-website.eu-central-1.amazonaws.com/t10k-images-idx3-ubyte.gz to data/FashionMNIST/raw/t10k-images-idx3-ubyte.gz\n"
          ]
        },
        {
          "output_type": "stream",
          "name": "stderr",
          "text": [
            "\n",
            "100%|██████████| 4422102/4422102 [00:00<00:00, 11381587.65it/s]\n"
          ]
        },
        {
          "output_type": "stream",
          "name": "stdout",
          "text": [
            "Extracting data/FashionMNIST/raw/t10k-images-idx3-ubyte.gz to data/FashionMNIST/raw\n",
            "\n",
            "Downloading http://fashion-mnist.s3-website.eu-central-1.amazonaws.com/t10k-labels-idx1-ubyte.gz\n",
            "Downloading http://fashion-mnist.s3-website.eu-central-1.amazonaws.com/t10k-labels-idx1-ubyte.gz to data/FashionMNIST/raw/t10k-labels-idx1-ubyte.gz\n"
          ]
        },
        {
          "output_type": "stream",
          "name": "stderr",
          "text": [
            "100%|██████████| 5148/5148 [00:00<00:00, 26077629.22it/s]\n"
          ]
        },
        {
          "output_type": "stream",
          "name": "stdout",
          "text": [
            "Extracting data/FashionMNIST/raw/t10k-labels-idx1-ubyte.gz to data/FashionMNIST/raw\n",
            "\n"
          ]
        }
      ]
    },
    {
      "cell_type": "code",
      "source": [
        "len(train_dataset)"
      ],
      "metadata": {
        "colab": {
          "base_uri": "https://localhost:8080/"
        },
        "id": "YVeK4Yvf670W",
        "outputId": "8a7b0c81-c947-42c4-ff21-acbf8ce3923c"
      },
      "execution_count": 3,
      "outputs": [
        {
          "output_type": "execute_result",
          "data": {
            "text/plain": [
              "60000"
            ]
          },
          "metadata": {},
          "execution_count": 3
        }
      ]
    },
    {
      "cell_type": "code",
      "source": [
        "len(test_data)"
      ],
      "metadata": {
        "colab": {
          "base_uri": "https://localhost:8080/"
        },
        "id": "JXaxvE4X7SlP",
        "outputId": "9ef7e10c-05af-4702-8c52-a019de9dcd9a"
      },
      "execution_count": 4,
      "outputs": [
        {
          "output_type": "execute_result",
          "data": {
            "text/plain": [
              "10000"
            ]
          },
          "metadata": {},
          "execution_count": 4
        }
      ]
    },
    {
      "cell_type": "code",
      "source": [
        "image , label = train_dataset[0]\n",
        "image , label"
      ],
      "metadata": {
        "colab": {
          "base_uri": "https://localhost:8080/"
        },
        "id": "wJAmWP1x-Ntm",
        "outputId": "f5371235-39b3-4208-8c6d-a78e2f2cdf68"
      },
      "execution_count": 5,
      "outputs": [
        {
          "output_type": "execute_result",
          "data": {
            "text/plain": [
              "(tensor([[[0.0000, 0.0000, 0.0000, 0.0000, 0.0000, 0.0000, 0.0000, 0.0000,\n",
              "           0.0000, 0.0000, 0.0000, 0.0000, 0.0000, 0.0000, 0.0000, 0.0000,\n",
              "           0.0000, 0.0000, 0.0000, 0.0000, 0.0000, 0.0000, 0.0000, 0.0000,\n",
              "           0.0000, 0.0000, 0.0000, 0.0000],\n",
              "          [0.0000, 0.0000, 0.0000, 0.0000, 0.0000, 0.0000, 0.0000, 0.0000,\n",
              "           0.0000, 0.0000, 0.0000, 0.0000, 0.0000, 0.0000, 0.0000, 0.0000,\n",
              "           0.0000, 0.0000, 0.0000, 0.0000, 0.0000, 0.0000, 0.0000, 0.0000,\n",
              "           0.0000, 0.0000, 0.0000, 0.0000],\n",
              "          [0.0000, 0.0000, 0.0000, 0.0000, 0.0000, 0.0000, 0.0000, 0.0000,\n",
              "           0.0000, 0.0000, 0.0000, 0.0000, 0.0000, 0.0000, 0.0000, 0.0000,\n",
              "           0.0000, 0.0000, 0.0000, 0.0000, 0.0000, 0.0000, 0.0000, 0.0000,\n",
              "           0.0000, 0.0000, 0.0000, 0.0000],\n",
              "          [0.0000, 0.0000, 0.0000, 0.0000, 0.0000, 0.0000, 0.0000, 0.0000,\n",
              "           0.0000, 0.0000, 0.0000, 0.0000, 0.0039, 0.0000, 0.0000, 0.0510,\n",
              "           0.2863, 0.0000, 0.0000, 0.0039, 0.0157, 0.0000, 0.0000, 0.0000,\n",
              "           0.0000, 0.0039, 0.0039, 0.0000],\n",
              "          [0.0000, 0.0000, 0.0000, 0.0000, 0.0000, 0.0000, 0.0000, 0.0000,\n",
              "           0.0000, 0.0000, 0.0000, 0.0000, 0.0118, 0.0000, 0.1412, 0.5333,\n",
              "           0.4980, 0.2431, 0.2118, 0.0000, 0.0000, 0.0000, 0.0039, 0.0118,\n",
              "           0.0157, 0.0000, 0.0000, 0.0118],\n",
              "          [0.0000, 0.0000, 0.0000, 0.0000, 0.0000, 0.0000, 0.0000, 0.0000,\n",
              "           0.0000, 0.0000, 0.0000, 0.0000, 0.0235, 0.0000, 0.4000, 0.8000,\n",
              "           0.6902, 0.5255, 0.5647, 0.4824, 0.0902, 0.0000, 0.0000, 0.0000,\n",
              "           0.0000, 0.0471, 0.0392, 0.0000],\n",
              "          [0.0000, 0.0000, 0.0000, 0.0000, 0.0000, 0.0000, 0.0000, 0.0000,\n",
              "           0.0000, 0.0000, 0.0000, 0.0000, 0.0000, 0.0000, 0.6078, 0.9255,\n",
              "           0.8118, 0.6980, 0.4196, 0.6118, 0.6314, 0.4275, 0.2510, 0.0902,\n",
              "           0.3020, 0.5098, 0.2824, 0.0588],\n",
              "          [0.0000, 0.0000, 0.0000, 0.0000, 0.0000, 0.0000, 0.0000, 0.0000,\n",
              "           0.0000, 0.0000, 0.0000, 0.0039, 0.0000, 0.2706, 0.8118, 0.8745,\n",
              "           0.8549, 0.8471, 0.8471, 0.6392, 0.4980, 0.4745, 0.4784, 0.5725,\n",
              "           0.5529, 0.3451, 0.6745, 0.2588],\n",
              "          [0.0000, 0.0000, 0.0000, 0.0000, 0.0000, 0.0000, 0.0000, 0.0000,\n",
              "           0.0000, 0.0039, 0.0039, 0.0039, 0.0000, 0.7843, 0.9098, 0.9098,\n",
              "           0.9137, 0.8980, 0.8745, 0.8745, 0.8431, 0.8353, 0.6431, 0.4980,\n",
              "           0.4824, 0.7686, 0.8980, 0.0000],\n",
              "          [0.0000, 0.0000, 0.0000, 0.0000, 0.0000, 0.0000, 0.0000, 0.0000,\n",
              "           0.0000, 0.0000, 0.0000, 0.0000, 0.0000, 0.7176, 0.8824, 0.8471,\n",
              "           0.8745, 0.8941, 0.9216, 0.8902, 0.8784, 0.8706, 0.8784, 0.8667,\n",
              "           0.8745, 0.9608, 0.6784, 0.0000],\n",
              "          [0.0000, 0.0000, 0.0000, 0.0000, 0.0000, 0.0000, 0.0000, 0.0000,\n",
              "           0.0000, 0.0000, 0.0000, 0.0000, 0.0000, 0.7569, 0.8941, 0.8549,\n",
              "           0.8353, 0.7765, 0.7059, 0.8314, 0.8235, 0.8275, 0.8353, 0.8745,\n",
              "           0.8627, 0.9529, 0.7922, 0.0000],\n",
              "          [0.0000, 0.0000, 0.0000, 0.0000, 0.0000, 0.0000, 0.0000, 0.0000,\n",
              "           0.0000, 0.0039, 0.0118, 0.0000, 0.0471, 0.8588, 0.8627, 0.8314,\n",
              "           0.8549, 0.7529, 0.6627, 0.8902, 0.8157, 0.8549, 0.8784, 0.8314,\n",
              "           0.8863, 0.7725, 0.8196, 0.2039],\n",
              "          [0.0000, 0.0000, 0.0000, 0.0000, 0.0000, 0.0000, 0.0000, 0.0000,\n",
              "           0.0000, 0.0000, 0.0235, 0.0000, 0.3882, 0.9569, 0.8706, 0.8627,\n",
              "           0.8549, 0.7961, 0.7765, 0.8667, 0.8431, 0.8353, 0.8706, 0.8627,\n",
              "           0.9608, 0.4667, 0.6549, 0.2196],\n",
              "          [0.0000, 0.0000, 0.0000, 0.0000, 0.0000, 0.0000, 0.0000, 0.0000,\n",
              "           0.0000, 0.0157, 0.0000, 0.0000, 0.2157, 0.9255, 0.8941, 0.9020,\n",
              "           0.8941, 0.9412, 0.9098, 0.8353, 0.8549, 0.8745, 0.9176, 0.8510,\n",
              "           0.8510, 0.8196, 0.3608, 0.0000],\n",
              "          [0.0000, 0.0000, 0.0039, 0.0157, 0.0235, 0.0275, 0.0078, 0.0000,\n",
              "           0.0000, 0.0000, 0.0000, 0.0000, 0.9294, 0.8863, 0.8510, 0.8745,\n",
              "           0.8706, 0.8588, 0.8706, 0.8667, 0.8471, 0.8745, 0.8980, 0.8431,\n",
              "           0.8549, 1.0000, 0.3020, 0.0000],\n",
              "          [0.0000, 0.0118, 0.0000, 0.0000, 0.0000, 0.0000, 0.0000, 0.0000,\n",
              "           0.0000, 0.2431, 0.5686, 0.8000, 0.8941, 0.8118, 0.8353, 0.8667,\n",
              "           0.8549, 0.8157, 0.8275, 0.8549, 0.8784, 0.8745, 0.8588, 0.8431,\n",
              "           0.8784, 0.9569, 0.6235, 0.0000],\n",
              "          [0.0000, 0.0000, 0.0000, 0.0000, 0.0706, 0.1725, 0.3216, 0.4196,\n",
              "           0.7412, 0.8941, 0.8627, 0.8706, 0.8510, 0.8863, 0.7843, 0.8039,\n",
              "           0.8275, 0.9020, 0.8784, 0.9176, 0.6902, 0.7373, 0.9804, 0.9725,\n",
              "           0.9137, 0.9333, 0.8431, 0.0000],\n",
              "          [0.0000, 0.2235, 0.7333, 0.8157, 0.8784, 0.8667, 0.8784, 0.8157,\n",
              "           0.8000, 0.8392, 0.8157, 0.8196, 0.7843, 0.6235, 0.9608, 0.7569,\n",
              "           0.8078, 0.8745, 1.0000, 1.0000, 0.8667, 0.9176, 0.8667, 0.8275,\n",
              "           0.8627, 0.9098, 0.9647, 0.0000],\n",
              "          [0.0118, 0.7922, 0.8941, 0.8784, 0.8667, 0.8275, 0.8275, 0.8392,\n",
              "           0.8039, 0.8039, 0.8039, 0.8627, 0.9412, 0.3137, 0.5882, 1.0000,\n",
              "           0.8980, 0.8667, 0.7373, 0.6039, 0.7490, 0.8235, 0.8000, 0.8196,\n",
              "           0.8706, 0.8941, 0.8824, 0.0000],\n",
              "          [0.3843, 0.9137, 0.7765, 0.8235, 0.8706, 0.8980, 0.8980, 0.9176,\n",
              "           0.9765, 0.8627, 0.7608, 0.8431, 0.8510, 0.9451, 0.2549, 0.2863,\n",
              "           0.4157, 0.4588, 0.6588, 0.8588, 0.8667, 0.8431, 0.8510, 0.8745,\n",
              "           0.8745, 0.8784, 0.8980, 0.1137],\n",
              "          [0.2941, 0.8000, 0.8314, 0.8000, 0.7569, 0.8039, 0.8275, 0.8824,\n",
              "           0.8471, 0.7255, 0.7725, 0.8078, 0.7765, 0.8353, 0.9412, 0.7647,\n",
              "           0.8902, 0.9608, 0.9373, 0.8745, 0.8549, 0.8314, 0.8196, 0.8706,\n",
              "           0.8627, 0.8667, 0.9020, 0.2627],\n",
              "          [0.1882, 0.7961, 0.7176, 0.7608, 0.8353, 0.7725, 0.7255, 0.7451,\n",
              "           0.7608, 0.7529, 0.7922, 0.8392, 0.8588, 0.8667, 0.8627, 0.9255,\n",
              "           0.8824, 0.8471, 0.7804, 0.8078, 0.7294, 0.7098, 0.6941, 0.6745,\n",
              "           0.7098, 0.8039, 0.8078, 0.4510],\n",
              "          [0.0000, 0.4784, 0.8588, 0.7569, 0.7020, 0.6706, 0.7176, 0.7686,\n",
              "           0.8000, 0.8235, 0.8353, 0.8118, 0.8275, 0.8235, 0.7843, 0.7686,\n",
              "           0.7608, 0.7490, 0.7647, 0.7490, 0.7765, 0.7529, 0.6902, 0.6118,\n",
              "           0.6549, 0.6941, 0.8235, 0.3608],\n",
              "          [0.0000, 0.0000, 0.2902, 0.7412, 0.8314, 0.7490, 0.6863, 0.6745,\n",
              "           0.6863, 0.7098, 0.7255, 0.7373, 0.7412, 0.7373, 0.7569, 0.7765,\n",
              "           0.8000, 0.8196, 0.8235, 0.8235, 0.8275, 0.7373, 0.7373, 0.7608,\n",
              "           0.7529, 0.8471, 0.6667, 0.0000],\n",
              "          [0.0078, 0.0000, 0.0000, 0.0000, 0.2588, 0.7843, 0.8706, 0.9294,\n",
              "           0.9373, 0.9490, 0.9647, 0.9529, 0.9569, 0.8667, 0.8627, 0.7569,\n",
              "           0.7490, 0.7020, 0.7137, 0.7137, 0.7098, 0.6902, 0.6510, 0.6588,\n",
              "           0.3882, 0.2275, 0.0000, 0.0000],\n",
              "          [0.0000, 0.0000, 0.0000, 0.0000, 0.0000, 0.0000, 0.0000, 0.1569,\n",
              "           0.2392, 0.1725, 0.2824, 0.1608, 0.1373, 0.0000, 0.0000, 0.0000,\n",
              "           0.0000, 0.0000, 0.0000, 0.0000, 0.0000, 0.0000, 0.0000, 0.0000,\n",
              "           0.0000, 0.0000, 0.0000, 0.0000],\n",
              "          [0.0000, 0.0000, 0.0000, 0.0000, 0.0000, 0.0000, 0.0000, 0.0000,\n",
              "           0.0000, 0.0000, 0.0000, 0.0000, 0.0000, 0.0000, 0.0000, 0.0000,\n",
              "           0.0000, 0.0000, 0.0000, 0.0000, 0.0000, 0.0000, 0.0000, 0.0000,\n",
              "           0.0000, 0.0000, 0.0000, 0.0000],\n",
              "          [0.0000, 0.0000, 0.0000, 0.0000, 0.0000, 0.0000, 0.0000, 0.0000,\n",
              "           0.0000, 0.0000, 0.0000, 0.0000, 0.0000, 0.0000, 0.0000, 0.0000,\n",
              "           0.0000, 0.0000, 0.0000, 0.0000, 0.0000, 0.0000, 0.0000, 0.0000,\n",
              "           0.0000, 0.0000, 0.0000, 0.0000]]]),\n",
              " 9)"
            ]
          },
          "metadata": {},
          "execution_count": 5
        }
      ]
    },
    {
      "cell_type": "code",
      "source": [
        "classes = train_dataset.classes\n",
        "classes"
      ],
      "metadata": {
        "colab": {
          "base_uri": "https://localhost:8080/"
        },
        "id": "4R-k-2qq-fgK",
        "outputId": "783d4fc3-600a-4d73-9aef-ffdc7bd585c2"
      },
      "execution_count": 6,
      "outputs": [
        {
          "output_type": "execute_result",
          "data": {
            "text/plain": [
              "['T-shirt/top',\n",
              " 'Trouser',\n",
              " 'Pullover',\n",
              " 'Dress',\n",
              " 'Coat',\n",
              " 'Sandal',\n",
              " 'Shirt',\n",
              " 'Sneaker',\n",
              " 'Bag',\n",
              " 'Ankle boot']"
            ]
          },
          "metadata": {},
          "execution_count": 6
        }
      ]
    },
    {
      "cell_type": "code",
      "source": [
        "class_index  = train_dataset.class_to_idx\n",
        "class_index\n",
        "# This will give us the index of the classes"
      ],
      "metadata": {
        "colab": {
          "base_uri": "https://localhost:8080/"
        },
        "id": "qdLuZbmF_Ecn",
        "outputId": "3377c6ad-24a4-4cba-cccf-0dd06e1a2982"
      },
      "execution_count": 7,
      "outputs": [
        {
          "output_type": "execute_result",
          "data": {
            "text/plain": [
              "{'T-shirt/top': 0,\n",
              " 'Trouser': 1,\n",
              " 'Pullover': 2,\n",
              " 'Dress': 3,\n",
              " 'Coat': 4,\n",
              " 'Sandal': 5,\n",
              " 'Shirt': 6,\n",
              " 'Sneaker': 7,\n",
              " 'Bag': 8,\n",
              " 'Ankle boot': 9}"
            ]
          },
          "metadata": {},
          "execution_count": 7
        }
      ]
    },
    {
      "cell_type": "code",
      "source": [
        "# Check the shape\n",
        "print(f\"Shape of Image  {image.shape} -> [Colour Channels,Height,Width]\")\n",
        "print(f\"Image Label: {classes[label]}\")"
      ],
      "metadata": {
        "colab": {
          "base_uri": "https://localhost:8080/"
        },
        "id": "1SDDQFLD_iCR",
        "outputId": "d227c3b9-c1f2-4006-c7e1-8467af420dfe"
      },
      "execution_count": 8,
      "outputs": [
        {
          "output_type": "stream",
          "name": "stdout",
          "text": [
            "Shape of Image  torch.Size([1, 28, 28]) -> [Colour Channels,Height,Width]\n",
            "Image Label: Ankle boot\n"
          ]
        }
      ]
    },
    {
      "cell_type": "markdown",
      "source": [
        "## *Creating Visualizations*"
      ],
      "metadata": {
        "id": "vKMr958HB4RF"
      }
    },
    {
      "cell_type": "code",
      "source": [
        "plt.imshow(image.squeeze(), cmap=\"gray\")\n",
        "plt.title(\"Ankle BOOT : 9\")\n",
        "# An image of the data at 0 index which is an ankle boot"
      ],
      "metadata": {
        "colab": {
          "base_uri": "https://localhost:8080/",
          "height": 470
        },
        "id": "h61zEUROBQZA",
        "outputId": "8259d7d8-0a16-4a9b-a976-882d76d5d6b9"
      },
      "execution_count": 9,
      "outputs": [
        {
          "output_type": "execute_result",
          "data": {
            "text/plain": [
              "Text(0.5, 1.0, 'Ankle BOOT : 9')"
            ]
          },
          "metadata": {},
          "execution_count": 9
        },
        {
          "output_type": "display_data",
          "data": {
            "text/plain": [
              "<Figure size 640x480 with 1 Axes>"
            ],
            "image/png": "[encoded data removed]"
          },
          "metadata": {}
        }
      ]
    },
    {
      "cell_type": "code",
      "source": [
        "# Exploring the dataset bby plotting images at random indices\n",
        "torch.manual_seed(64)\n",
        "figure = plt.figure(figsize=(12,12))\n",
        "rows , cols = 4 , 4\n",
        "for i in range(1,rows*cols+1):\n",
        "  rand = torch.randint(0,len(train_dataset), size=[1]).item()\n",
        "  img , label = train_dataset[rand]\n",
        "  figure.add_subplot(rows,cols,i)\n",
        "  plt.imshow(img.squeeze(), cmap = \"gray\")\n",
        "  plt.title(classes[label] , size = 11)\n",
        "  plt.axis(False)"
      ],
      "metadata": {
        "colab": {
          "base_uri": "https://localhost:8080/",
          "height": 981
        },
        "id": "YTe6JuFICHzK",
        "outputId": "ff85122a-4a4c-4a16-a74e-07cc40c1c276"
      },
      "execution_count": 10,
      "outputs": [
        {
          "output_type": "display_data",
          "data": {
            "text/plain": [
              "<Figure size 1200x1200 with 16 Axes>"
            ],
            "image/png": "[encoded data removed]"
          },
          "metadata": {}
        }
      ]
    },
    {
      "cell_type": "markdown",
      "source": [
        "**Making A DataLoader**\n"
      ],
      "metadata": {
        "id": "PR_4nebdmKP2"
      }
    },
    {
      "cell_type": "code",
      "source": [
        "from torch.utils.data import DataLoader\n",
        "BATCH_SIZE = 32\n",
        "train_dataloader = DataLoader(dataset = train_dataset,\n",
        "                              batch_size = BATCH_SIZE ,\n",
        "                              shuffle = True)\n",
        "test_dataloader = DataLoader(dataset= test_data,\n",
        "                             batch_size = BATCH_SIZE,\n",
        "                             shuffle = False)\n",
        "train_dataloader , test_dataloader"
      ],
      "metadata": {
        "colab": {
          "base_uri": "https://localhost:8080/"
        },
        "id": "JpHGKj95ENfu",
        "outputId": "63deeca8-b459-42c4-e7ff-072b7309e845"
      },
      "execution_count": 11,
      "outputs": [
        {
          "output_type": "execute_result",
          "data": {
            "text/plain": [
              "(<torch.utils.data.dataloader.DataLoader at 0x78b0664e5270>,\n",
              " <torch.utils.data.dataloader.DataLoader at 0x78b12f7de470>)"
            ]
          },
          "metadata": {},
          "execution_count": 11
        }
      ]
    },
    {
      "cell_type": "code",
      "source": [
        "print(f\"DataLoader : {train_dataloader,test_dataloader}\")\n",
        "print(f\"Length of train Dataloader : {len(train_dataloader)  } with batches of {BATCH_SIZE}\")\n",
        "print(f\"Length of test Dataloader : {len(test_dataloader)  } with batches of {BATCH_SIZE}\")\n"
      ],
      "metadata": {
        "colab": {
          "base_uri": "https://localhost:8080/"
        },
        "id": "dEGoJ9VSmWaS",
        "outputId": "675e3b8b-0508-43b5-acae-833a6e7f5f95"
      },
      "execution_count": 12,
      "outputs": [
        {
          "output_type": "stream",
          "name": "stdout",
          "text": [
            "DataLoader : (<torch.utils.data.dataloader.DataLoader object at 0x78b0664e5270>, <torch.utils.data.dataloader.DataLoader object at 0x78b12f7de470>)\n",
            "Length of train Dataloader : 1875 with batches of 32\n",
            "Length of test Dataloader : 313 with batches of 32\n"
          ]
        }
      ]
    },
    {
      "cell_type": "code",
      "source": [
        "train_features_batch , train_labels_batch = next(iter(train_dataloader))\n",
        "train_features_batch.shape , train_labels_batch.shape"
      ],
      "metadata": {
        "colab": {
          "base_uri": "https://localhost:8080/"
        },
        "id": "4wBB98n7pP-I",
        "outputId": "fe2a4c40-309a-46d4-d4e7-4c8178596af2"
      },
      "execution_count": 13,
      "outputs": [
        {
          "output_type": "execute_result",
          "data": {
            "text/plain": [
              "(torch.Size([32, 1, 28, 28]), torch.Size([32]))"
            ]
          },
          "metadata": {},
          "execution_count": 13
        }
      ]
    },
    {
      "cell_type": "code",
      "source": [
        "torch.manual_seed(64)\n",
        "random_index = torch.randint(0,len(train_features_batch),size = [1]).item()\n",
        "img , label = train_features_batch[random_index],train_labels_batch[random_index]\n",
        "plt.imshow(img.squeeze(),cmap=\"gray\")\n",
        "plt.title(classes[label])\n",
        "plt.axis(False)\n",
        "print(f\"Image Size: {img.shape}\")\n",
        "print(f\"Label : {label} , label size: {label.shape}\")"
      ],
      "metadata": {
        "colab": {
          "base_uri": "https://localhost:8080/",
          "height": 464
        },
        "id": "aSGazqTmoXMp",
        "outputId": "65a763b1-ff4f-47b6-d784-50ca082bf5c0"
      },
      "execution_count": 14,
      "outputs": [
        {
          "output_type": "stream",
          "name": "stdout",
          "text": [
            "Image Size: torch.Size([1, 28, 28])\n",
            "Label : 3 , label size: torch.Size([])\n"
          ]
        },
        {
          "output_type": "display_data",
          "data": {
            "text/plain": [
              "<Figure size 640x480 with 1 Axes>"
            ],
            "image/png": "[encoded data removed]"
          },
          "metadata": {}
        }
      ]
    },
    {
      "cell_type": "markdown",
      "source": [
        "#Preparing the Baseline Model"
      ],
      "metadata": {
        "id": "gSXI44hGtyjC"
      }
    },
    {
      "cell_type": "code",
      "source": [
        "# Creating a Flatten Layer\n",
        "flatten_model = nn.Flatten()\n",
        "\n",
        "# Taking one sample from the batch\n",
        "x = train_features_batch[0]\n",
        "#Putting it through flatten layer\n",
        "y = flatten_model(x)\n",
        "\n",
        "print(f\"Shape before passing through flatten layer: {x.shape}\")\n",
        "print(f\"Shape after passing through flatten layer : {y.shape}\")\n"
      ],
      "metadata": {
        "colab": {
          "base_uri": "https://localhost:8080/"
        },
        "id": "MpxcKOt2qW-f",
        "outputId": "51840c0d-1aa4-4eb1-e67e-5cae7ebaa8ff"
      },
      "execution_count": 15,
      "outputs": [
        {
          "output_type": "stream",
          "name": "stdout",
          "text": [
            "Shape before passing through flatten layer: torch.Size([1, 28, 28])\n",
            "Shape after passing through flatten layer : torch.Size([1, 784])\n"
          ]
        }
      ]
    },
    {
      "cell_type": "code",
      "source": [
        "from torch import nn\n",
        "class fashionMNISTmodel(nn.Module):\n",
        "  def __init__(self,\n",
        "               input_shape:int,\n",
        "               hidden_units:int,\n",
        "               output_shape:int):\n",
        "    super().__init__()\n",
        "    self.layer_stack = nn.Sequential(\n",
        "        nn.Flatten(),\n",
        "        nn.Linear(in_features = input_shape, out_features = hidden_units),\n",
        "        nn.Linear(in_features = hidden_units , out_features = output_shape)\n",
        "    )\n",
        "  def forward(self,x):\n",
        "    return self.layer_stack(x)\n",
        "\n",
        "\n"
      ],
      "metadata": {
        "id": "NGc-pWGHt5Um"
      },
      "execution_count": 16,
      "outputs": []
    },
    {
      "cell_type": "code",
      "source": [
        "torch.manual_seed(64)\n",
        "model_1 = fashionMNISTmodel(\n",
        "    input_shape = 784,\n",
        "    hidden_units = 100,\n",
        "    output_shape = len(classes)\n",
        ")"
      ],
      "metadata": {
        "id": "tbP9yJIE_-Uv"
      },
      "execution_count": 17,
      "outputs": []
    },
    {
      "cell_type": "code",
      "source": [
        "model_1"
      ],
      "metadata": {
        "colab": {
          "base_uri": "https://localhost:8080/"
        },
        "id": "4XP71lA3DFsn",
        "outputId": "95df1b22-6dd0-4fe7-9aef-1066a89f7cbf"
      },
      "execution_count": 18,
      "outputs": [
        {
          "output_type": "execute_result",
          "data": {
            "text/plain": [
              "fashionMNISTmodel(\n",
              "  (layer_stack): Sequential(\n",
              "    (0): Flatten(start_dim=1, end_dim=-1)\n",
              "    (1): Linear(in_features=784, out_features=100, bias=True)\n",
              "    (2): Linear(in_features=100, out_features=10, bias=True)\n",
              "  )\n",
              ")"
            ]
          },
          "metadata": {},
          "execution_count": 18
        }
      ]
    },
    {
      "cell_type": "code",
      "source": [
        "# Passing a dummy through our model\n",
        "dummy = torch.randn([1,1,28,28])\n",
        "model_1(dummy)"
      ],
      "metadata": {
        "colab": {
          "base_uri": "https://localhost:8080/"
        },
        "id": "eQCBZO4LDHA_",
        "outputId": "87ffea1a-32fb-4092-ca9b-6f4cd7c9013a"
      },
      "execution_count": 19,
      "outputs": [
        {
          "output_type": "execute_result",
          "data": {
            "text/plain": [
              "tensor([[ 0.8656,  0.2908,  0.5459, -0.0078,  0.3341, -0.0596,  0.4750, -0.3408,\n",
              "         -0.1553,  0.0766]], grad_fn=<AddmmBackward0>)"
            ]
          },
          "metadata": {},
          "execution_count": 19
        }
      ]
    },
    {
      "cell_type": "markdown",
      "source": [
        "### Creating a loss function and optimizer .\n",
        "* For this problem , `nn.CrossEntropyLoss` is the most suitable loss function as we are dealing with a multi-class data\n",
        "* We'll be using `torch.optim.SGD` as our optimizer\n",
        "* Also for evaluation metrics, we'll be calculationg the `accuracy`\n"
      ],
      "metadata": {
        "id": "Kbg_yvRgEpLB"
      }
    },
    {
      "cell_type": "code",
      "source": [
        "import requests\n",
        "from pathlib import Path\n",
        "if Path(\"helper_functions.py\").is_file():\n",
        "  print(\"Already exists\")\n",
        "else:\n",
        "  print(\"Downloading helper_functions.py\")\n",
        "  request = requests.get(\"https://raw.githubusercontent.com/mrdbourke/pytorch-deep-learning/main/helper_functions.py\")\n",
        "  with open(\"helper_functions.py\" , \"wb\") as f:\n",
        "    f.write(request.content)"
      ],
      "metadata": {
        "id": "wZa_jKDZDz8H",
        "colab": {
          "base_uri": "https://localhost:8080/"
        },
        "outputId": "0a1e8c6f-b3dc-4ab0-c8de-d5e78953b78e"
      },
      "execution_count": 20,
      "outputs": [
        {
          "output_type": "stream",
          "name": "stdout",
          "text": [
            "Downloading helper_functions.py\n"
          ]
        }
      ]
    },
    {
      "cell_type": "code",
      "source": [
        "# Importing accuracy function frmo helper functions\n",
        "from helper_functions import accuracy_fn\n",
        "# Setting up a loss function & optimizer\n",
        "loss_fx = nn.CrossEntropyLoss()\n",
        "optimizer = torch.optim.SGD(params = model_1.parameters(),\n",
        "                            lr=0.1)\n"
      ],
      "metadata": {
        "id": "86saM2_LV44M"
      },
      "execution_count": 21,
      "outputs": []
    },
    {
      "cell_type": "markdown",
      "source": [
        "II . Creating a function to time experiments\n"
      ],
      "metadata": {
        "id": "Uv45ZYMkW4Tk"
      }
    },
    {
      "cell_type": "code",
      "source": [
        "from timeit import default_timer as timer\n",
        "def print_train_time(start:float,\n",
        "                     end:float,\n",
        "                     device:torch.device = None):\n",
        "  \"\"\"To print the difference between start and end time\"\"\"\n",
        "  total_time = end -start\n",
        "  print(f\"Train time on {device}: {total_time:3f} seconds\")\n",
        "  return total_time\n"
      ],
      "metadata": {
        "id": "Gl6aDzLnWdM4"
      },
      "execution_count": 22,
      "outputs": []
    },
    {
      "cell_type": "markdown",
      "source": [
        "III. Creating a training loop and training the model on batches of data"
      ],
      "metadata": {
        "id": "JG8lPpQpZJkE"
      }
    },
    {
      "cell_type": "code",
      "source": [
        "from tqdm.auto import tqdm\n",
        "\n",
        "torch.manual_seed(64)\n",
        "start_train_time_cpu = timer()\n",
        " # Setting less number of epochs fot faster training time\n",
        "epochs = 4\n",
        "\n",
        "for epoch in tqdm(range(epochs)):\n",
        "  print(f\"Epoch:{epoch}\\n------\")\n",
        "  train_loss = 0\n",
        "  #Adding a loop to traversal through all the batches\n",
        "  for batch , (X,y) in enumerate(train_dataloader):\n",
        "     model_1.train()\n",
        "     #1 forward pass\n",
        "     y_pred = model_1(X)\n",
        "     #2 loss calculation\n",
        "     loss = loss_fx(y_pred,y)\n",
        "     train_loss += loss\n",
        "     #3 Set optimizer to zero grad\n",
        "     optimizer.zero_grad()\n",
        "     #4 loss backward\n",
        "     loss.backward()\n",
        "     #5 optimizer step\n",
        "     optimizer.step()\n",
        "     if batch % 400 == 0:\n",
        "       print(f\"Visited {batch*len(X)}/{len(train_dataloader.dataset)} samples.\")\n",
        "  train_loss /= len(train_dataloader)\n",
        "  # Test\n",
        "  test_loss ,test_acc =0 ,0\n",
        "  model_1.eval()\n",
        "  with torch.inference_mode():\n",
        "    for X_test , y_test in test_dataloader:\n",
        "      # 1. Forward pass\n",
        "       test_pred = model_1(X_test)\n",
        "      # 2 . Loss calculation\n",
        "       test_loss += loss_fx(test_pred,y_test)\n",
        "      # 3 . Accuracy\n",
        "       test_acc += accuracy_fn(y_true = y_test , y_pred=test_pred.argmax(dim=1))\n",
        "    test_loss /= len(test_dataloader)\n",
        "\n",
        "    test_acc /= len(test_dataloader)\n",
        "  print(f\"\\nTrain Loss:{train_loss:4f} | Test loss : {test_loss:4f} | Test Acc:{test_acc:2f}%\")\n",
        "train_time_end = timer()\n",
        "total = print_train_time(start = start_train_time_cpu,\n",
        "                         end = train_time_end,\n",
        "                         device=str(next(model_1.parameters()).device))\n",
        "\n",
        "\n",
        "\n",
        "\n"
      ],
      "metadata": {
        "colab": {
          "base_uri": "https://localhost:8080/",
          "height": 710,
          "referenced_widgets": [
            "dd4f76bed8ce48659ea741bf86eac5c2",
            "63c916d9d77442babe35a58c2d7e6127",
            "fa054923cc264b6b8623daa9d52229e3",
            "2cc73a7739a243fc9b693f1d3a4cc107",
            "f9f06347b5f644cda5d4e52c2e327490",
            "7f0ff690c7034da3820079e3f2a1cc37",
            "9d2164e908774df2b7b09993d99e9e0a",
            "3c9d7fbe45534fe28b08295da7da81ce",
            "97ef780f377d44eaba4c7fc5914fbd2e",
            "54246eaaee0a46ab8956706ef8a6c57a",
            "8c0b0a56ffd34bbe93fa4c737950db81"
          ]
        },
        "id": "veirSzHKZbT7",
        "outputId": "46cea3ad-877c-4145-d6b9-d0f7c64dfba9"
      },
      "execution_count": 23,
      "outputs": [
        {
          "output_type": "display_data",
          "data": {
            "text/plain": [
              "  0%|          | 0/4 [00:00<?, ?it/s]"
            ],
            "application/vnd.jupyter.widget-view+json": {
              "version_major": 2,
              "version_minor": 0,
              "model_id": "dd4f76bed8ce48659ea741bf86eac5c2"
            }
          },
          "metadata": {}
        },
        {
          "output_type": "stream",
          "name": "stdout",
          "text": [
            "Epoch:0\n",
            "------\n",
            "Visited 0/60000 samples.\n",
            "Visited 12800/60000 samples.\n",
            "Visited 25600/60000 samples.\n",
            "Visited 38400/60000 samples.\n",
            "Visited 51200/60000 samples.\n",
            "\n",
            "Train Loss:0.574460 | Test loss : 0.518694 | Test Acc:81.619409%\n",
            "Epoch:1\n",
            "------\n",
            "Visited 0/60000 samples.\n",
            "Visited 12800/60000 samples.\n",
            "Visited 25600/60000 samples.\n",
            "Visited 38400/60000 samples.\n",
            "Visited 51200/60000 samples.\n",
            "\n",
            "Train Loss:0.472944 | Test loss : 0.468303 | Test Acc:83.686102%\n",
            "Epoch:2\n",
            "------\n",
            "Visited 0/60000 samples.\n",
            "Visited 12800/60000 samples.\n",
            "Visited 25600/60000 samples.\n",
            "Visited 38400/60000 samples.\n",
            "Visited 51200/60000 samples.\n",
            "\n",
            "Train Loss:0.453029 | Test loss : 0.484400 | Test Acc:83.166933%\n",
            "Epoch:3\n",
            "------\n",
            "Visited 0/60000 samples.\n",
            "Visited 12800/60000 samples.\n",
            "Visited 25600/60000 samples.\n",
            "Visited 38400/60000 samples.\n",
            "Visited 51200/60000 samples.\n",
            "\n",
            "Train Loss:0.443877 | Test loss : 0.458494 | Test Acc:83.706070%\n",
            "Train time on cpu: 59.884780 seconds\n"
          ]
        }
      ]
    },
    {
      "cell_type": "markdown",
      "source": [
        "## Making Predictions and get results"
      ],
      "metadata": {
        "id": "dNS5Xu_eiMZN"
      }
    },
    {
      "cell_type": "code",
      "source": [
        "torch.manual_seed(64)\n",
        "def eval_model(model:torch.nn.Module,\n",
        "               data_loader:torch.utils.data.DataLoader,\n",
        "               loss_fx: torch.nn.Module,\n",
        "               accuracy_fn,\n",
        "               ):\n",
        "  loss,acc=0,0\n",
        "  model.eval()\n",
        "  with torch.inference_mode():\n",
        "    for X , y in tqdm (data_loader):\n",
        "      # For making predictions\n",
        "      y_pred = model(X)\n",
        "\n",
        "    #loss and accuracy\n",
        "      loss += loss_fx(y_pred,y)\n",
        "      acc+= accuracy_fn(y_true=y,\n",
        "                        y_pred=y_pred.argmax(dim=1))\n",
        "    loss /= len(data_loader)\n",
        "    acc /= len(data_loader)\n",
        "  return{\"Model_Name\": model.__class__.__name__,\n",
        "         \"Model_loss\": loss.item(),\n",
        "         \"Model Acc\": acc}\n",
        "model_1_results = eval_model(model=model_1,data_loader= test_dataloader,\n",
        "                             loss_fx = loss_fx , accuracy_fn=accuracy_fn)\n",
        "model_1_results\n"
      ],
      "metadata": {
        "id": "JUKVKic-iQ--",
        "colab": {
          "base_uri": "https://localhost:8080/",
          "height": 103,
          "referenced_widgets": [
            "a576c3f11239467baea6e323159c96c8",
            "87a0ea6539844199af425038dea59493",
            "44a7351ca3b4402da8f6410e86df9bd3",
            "1c45ca1292cc41228b517107a4dff6a1",
            "e2e3f90f9b3b48649dcc3e71fe29e5b6",
            "ee9766f5e1ba418090f9c50d94d381a7",
            "c6bb6a0a91934d1db2eb051acdbefeff",
            "c038655d765548bd9bcfe0559f96c822",
            "e16ac9be2d0b428882e857954881b288",
            "d9633a17c9a747328c431dd013272c79",
            "01c0c6e479914a8390f4261702b62033"
          ]
        },
        "outputId": "d79e1509-4691-4ba0-e054-08e90ec4ed82"
      },
      "execution_count": 24,
      "outputs": [
        {
          "output_type": "display_data",
          "data": {
            "text/plain": [
              "  0%|          | 0/313 [00:00<?, ?it/s]"
            ],
            "application/vnd.jupyter.widget-view+json": {
              "version_major": 2,
              "version_minor": 0,
              "model_id": "a576c3f11239467baea6e323159c96c8"
            }
          },
          "metadata": {}
        },
        {
          "output_type": "execute_result",
          "data": {
            "text/plain": [
              "{'Model_Name': 'fashionMNISTmodel',\n",
              " 'Model_loss': 0.45849350094795227,\n",
              " 'Model Acc': 83.70607028753993}"
            ]
          },
          "metadata": {},
          "execution_count": 24
        }
      ]
    },
    {
      "cell_type": "markdown",
      "source": [
        "#*IV. Building a model on gpu*#"
      ],
      "metadata": {
        "id": "vRJWJJY4bess"
      }
    },
    {
      "cell_type": "code",
      "source": [
        "device = \"cuda\" if torch.cuda.is_available() else \"cpu\"\n",
        "device\n"
      ],
      "metadata": {
        "colab": {
          "base_uri": "https://localhost:8080/",
          "height": 35
        },
        "id": "9F9PDJU0aGCc",
        "outputId": "99286734-a691-461a-994d-7f58fef37b10"
      },
      "execution_count": 25,
      "outputs": [
        {
          "output_type": "execute_result",
          "data": {
            "text/plain": [
              "'cuda'"
            ],
            "application/vnd.google.colaboratory.intrinsic+json": {
              "type": "string"
            }
          },
          "metadata": {},
          "execution_count": 25
        }
      ]
    },
    {
      "cell_type": "code",
      "source": [
        "from torch import nn\n",
        "class fashionModelV1(nn.Module):\n",
        "  def __init__(self, input_shape:int,hidden_units:int,output_shape:int) :\n",
        "      super().__init__()\n",
        "      self.layer_stack = nn.Sequential(\n",
        "           nn.Flatten(),\n",
        "           nn.Linear(in_features = input_shape, out_features = hidden_units),\n",
        "           nn.ReLU(),\n",
        "           nn.Linear(in_features = hidden_units,out_features = output_shape),\n",
        "           nn.ReLU()\n",
        "    )\n",
        "  def forward(self,x : torch.Tensor):\n",
        "    return self.layer_stack(x)"
      ],
      "metadata": {
        "id": "7735_WEidAKs"
      },
      "execution_count": 26,
      "outputs": []
    },
    {
      "cell_type": "code",
      "source": [
        "next(model_1.parameters()).device"
      ],
      "metadata": {
        "colab": {
          "base_uri": "https://localhost:8080/"
        },
        "id": "sQyjCCwKe7DH",
        "outputId": "bbf7ae6f-f591-4b29-feaf-42a346a970aa"
      },
      "execution_count": 27,
      "outputs": [
        {
          "output_type": "execute_result",
          "data": {
            "text/plain": [
              "device(type='cpu')"
            ]
          },
          "metadata": {},
          "execution_count": 27
        }
      ]
    },
    {
      "cell_type": "code",
      "source": [
        "torch.manual_seed(64)\n",
        "model_2 = fashionModelV1(input_shape=784,\n",
        "                         hidden_units=10,\n",
        "                         output_shape=len(classes)).to(device)\n",
        "next(model_2.parameters()).device"
      ],
      "metadata": {
        "colab": {
          "base_uri": "https://localhost:8080/"
        },
        "id": "tU-l8V84fasq",
        "outputId": "49421ed2-3fca-4061-b611-36a54457bfa4"
      },
      "execution_count": 28,
      "outputs": [
        {
          "output_type": "execute_result",
          "data": {
            "text/plain": [
              "device(type='cuda', index=0)"
            ]
          },
          "metadata": {},
          "execution_count": 28
        }
      ]
    },
    {
      "cell_type": "markdown",
      "source": [
        "#Setting Up a Loss Function##\n"
      ],
      "metadata": {
        "id": "eRuYAmmPl1ae"
      }
    },
    {
      "cell_type": "code",
      "source": [
        "from helper_functions import accuracy_fn\n",
        "loss_fn = nn.CrossEntropyLoss()\n",
        "optimizer = torch.optim.SGD(params=model_2.parameters(),\n",
        "                            lr=0.1)\n"
      ],
      "metadata": {
        "id": "NGJ3w1-Rft60"
      },
      "execution_count": 29,
      "outputs": []
    },
    {
      "cell_type": "markdown",
      "source": [
        "##Setting up a function for train and tesst\n"
      ],
      "metadata": {
        "id": "ZWa_76-moXUR"
      }
    },
    {
      "cell_type": "code",
      "source": [
        "def train_step(model:torch.nn.Module,\n",
        "               data_loader:torch.utils.data.DataLoader,\n",
        "               loss_fn:torch.nn.Module,\n",
        "               optimizer:torch.optim.Optimizer,\n",
        "               accuracy_fn,\n",
        "               device:torch.device = device):\n",
        "\n",
        "  train_loss , train_acc = 0 , 0\n",
        "  model.train()\n",
        "  #Adding a loop to traversal through all the batches\n",
        "  for batch , (X,y) in enumerate(data_loader):\n",
        "     X , y = X.to(device) , y.to(device)\n",
        "     #1 forward pass\n",
        "     y_pred = model(X)\n",
        "     #2 loss calculation\n",
        "     loss = loss_fn(y_pred,y)\n",
        "     train_loss += loss\n",
        "     train_acc += accuracy_fn(y_true = y,\n",
        "                              y_pred=y_pred.argmax(dim=1))\n",
        "     #3 Set optimizer to zero grad\n",
        "     optimizer.zero_grad()\n",
        "     #4 loss backward\n",
        "     loss.backward()\n",
        "     #5 optimizer step\n",
        "     optimizer.step()\n",
        "  train_loss /= len(data_loader)\n",
        "  train_acc /= len(data_loader)\n",
        "  print(f\"Train loss:{train_loss:5f} | Train Accuracy:{train_acc:2f}%\")\n"
      ],
      "metadata": {
        "id": "m5WB7L-1fthK"
      },
      "execution_count": 30,
      "outputs": []
    },
    {
      "cell_type": "code",
      "source": [
        "def test_step(model:torch.nn.Module,\n",
        "              data_loader:torch.utils.data.DataLoader,\n",
        "              loss_fn:torch.nn.Module,\n",
        "              optimizer:torch.optim.Optimizer,\n",
        "              accuracy_fn,\n",
        "              device:torch.device = device):\n",
        "  test_loss ,test_acc =0 ,0\n",
        "  model.eval()\n",
        "  for X , y in data_loader:\n",
        "    X , y = X.to(device) , y.to(device)\n",
        "     # 1. Forward pass\n",
        "    test_pred = model(X)\n",
        "      # 2 . Loss calculation\n",
        "    test_loss += loss_fn(test_pred,y)\n",
        "      # 3 . Accuracy\n",
        "    test_acc += accuracy_fn(y_true = y , y_pred=test_pred.argmax(dim=1))\n",
        "  test_loss /= len(data_loader)\n",
        "  test_acc /= len(data_loader)\n",
        "  print(f\"\\nTest loss : {test_loss:4f} | Test Acc:{test_acc:2f}%\")\n",
        "\n",
        "\n"
      ],
      "metadata": {
        "id": "XBr1vnwarOFg"
      },
      "execution_count": 31,
      "outputs": []
    },
    {
      "cell_type": "code",
      "source": [
        "torch.manual_seed(64)\n",
        "from timeit import default_timer as timer\n",
        "train_time_start_on_gpu = timer()\n",
        "#setting up epochs\n",
        "epochs = 3\n",
        "for epoch in tqdm(range(epochs)):\n",
        "  print(f\"Epochs: {epoch}\\n\")\n",
        "  train_step(model=model_2,\n",
        "             data_loader=train_dataloader,\n",
        "             loss_fn=loss_fn,\n",
        "             optimizer=optimizer,\n",
        "             accuracy_fn=accuracy_fn,\n",
        "             device=device)\n",
        "  test_step(model=model_2,\n",
        "            data_loader=test_dataloader,\n",
        "            loss_fn=loss_fn,\n",
        "            optimizer=optimizer,\n",
        "            accuracy_fn=accuracy_fn,\n",
        "            device=device)\n",
        "train_time_end_on_gpu = timer()\n",
        "total_train_time = print_train_time(start=train_time_start_on_gpu,\n",
        "                                    end = train_time_end_on_gpu,\n",
        "                                    device=device)"
      ],
      "metadata": {
        "colab": {
          "base_uri": "https://localhost:8080/",
          "height": 335,
          "referenced_widgets": [
            "fa76578fb9a64136a7bd3aac9a3794af",
            "b55e5b1130404374809b2be755da85f1",
            "8af01b8241dd49efbdf24915e2d499ec",
            "06ad51326aa04fbabd7b239cdc005f35",
            "e41f53bc074f4195acf44c2bcf001c21",
            "2bc7f506d7c242e88decf02ea0a93b21",
            "32079aca9e6546fdaa41a97307303533",
            "6923fc4282e54cf7b13015eb60d1e182",
            "23a741fcb10b4c61ab944b6faff0394b",
            "da851521fa7c43029225aa328ec0114a",
            "2e14eaaa181044b1a8f1994098d3c19d"
          ]
        },
        "id": "qEuoy8THtd4f",
        "outputId": "47009ea1-8c1c-4ef6-87b6-8e8c2dde93b1"
      },
      "execution_count": 32,
      "outputs": [
        {
          "output_type": "display_data",
          "data": {
            "text/plain": [
              "  0%|          | 0/3 [00:00<?, ?it/s]"
            ],
            "application/vnd.jupyter.widget-view+json": {
              "version_major": 2,
              "version_minor": 0,
              "model_id": "fa76578fb9a64136a7bd3aac9a3794af"
            }
          },
          "metadata": {}
        },
        {
          "output_type": "stream",
          "name": "stdout",
          "text": [
            "Epochs: 0\n",
            "\n",
            "Train loss:1.085264 | Train Accuracy:63.536667%\n",
            "\n",
            "Test loss : 0.934518 | Test Acc:67.961262%\n",
            "Epochs: 1\n",
            "\n",
            "Train loss:0.904334 | Train Accuracy:68.445000%\n",
            "\n",
            "Test loss : 0.929366 | Test Acc:67.501997%\n",
            "Epochs: 2\n",
            "\n",
            "Train loss:0.874385 | Train Accuracy:69.033333%\n",
            "\n",
            "Test loss : 0.890825 | Test Acc:68.380591%\n",
            "Train time on cuda: 52.803173 seconds\n"
          ]
        }
      ]
    },
    {
      "cell_type": "code",
      "source": [
        "train_dataloader"
      ],
      "metadata": {
        "colab": {
          "base_uri": "https://localhost:8080/"
        },
        "id": "-5ESF7B0vsx4",
        "outputId": "fb68ef1c-c538-4559-9711-cd2e4edf61a1"
      },
      "execution_count": 33,
      "outputs": [
        {
          "output_type": "execute_result",
          "data": {
            "text/plain": [
              "<torch.utils.data.dataloader.DataLoader at 0x78b0664e5270>"
            ]
          },
          "metadata": {},
          "execution_count": 33
        }
      ]
    },
    {
      "cell_type": "code",
      "source": [
        "torch.manual_seed(64)\n",
        "def eval_model(model:torch.nn.Module,\n",
        "               data_loader:torch.utils.data.DataLoader,\n",
        "               loss_fx: torch.nn.Module,\n",
        "               accuracy_fn,\n",
        "               device = device):\n",
        "  loss,acc=0,0\n",
        "  model.eval()\n",
        "  with torch.inference_mode():\n",
        "    for X , y in tqdm (data_loader):\n",
        "      X , y = X.to(device) , y.to(device)\n",
        "      # For making predictions\n",
        "      y_pred = model(X)\n",
        "\n",
        "    #loss and accuracy\n",
        "      loss += loss_fx(y_pred,y)\n",
        "      acc+= accuracy_fn(y_true=y,\n",
        "                        y_pred=y_pred.argmax(dim=1))\n",
        "    loss /= len(data_loader)\n",
        "    acc /= len(data_loader)\n",
        "  return{\"Model_Name\": model.__class__.__name__,\n",
        "         \"Model_loss\": loss.item(),\n",
        "         \"Model Acc\": acc}\n",
        "\n"
      ],
      "metadata": {
        "id": "DpXQMIkGzc-7"
      },
      "execution_count": 34,
      "outputs": []
    },
    {
      "cell_type": "code",
      "source": [
        "model_2_results = eval_model(model=model_2,\n",
        "                             data_loader = test_dataloader,\n",
        "                             loss_fx = loss_fn,\n",
        "                             accuracy_fn = accuracy_fn,\n",
        "                             device = device)\n",
        "model_2_results"
      ],
      "metadata": {
        "colab": {
          "base_uri": "https://localhost:8080/",
          "height": 103,
          "referenced_widgets": [
            "c50fd4b82881400b8266709edb90e203",
            "06f8aeb789954c43bda4e80f5e9eb4cf",
            "65402aed1fae404d8c452e7b5e77ce4d",
            "95139ce5651f486ba0481e4efa748974",
            "3f06765749434bd183e2e7106fd684d2",
            "b6bc4deba6684b619b9d7028b5f8d053",
            "531f895dcc7a43ce9b1f71ec76dd0a79",
            "8a12de7f7cd24c2dbd85928fe1299c71",
            "015664c580ca473a87b58f36a9a672ec",
            "6eedde2a37f54505a8076a9fcb12af0a",
            "6dfdd40fcc004f4fba6e6ffd3c612eec"
          ]
        },
        "id": "2UA-xTG4wDDN",
        "outputId": "65c36f30-777d-40a0-f8a2-2966beea115e"
      },
      "execution_count": 35,
      "outputs": [
        {
          "output_type": "display_data",
          "data": {
            "text/plain": [
              "  0%|          | 0/313 [00:00<?, ?it/s]"
            ],
            "application/vnd.jupyter.widget-view+json": {
              "version_major": 2,
              "version_minor": 0,
              "model_id": "c50fd4b82881400b8266709edb90e203"
            }
          },
          "metadata": {}
        },
        {
          "output_type": "execute_result",
          "data": {
            "text/plain": [
              "{'Model_Name': 'fashionModelV1',\n",
              " 'Model_loss': 0.8908249735832214,\n",
              " 'Model Acc': 68.3805910543131}"
            ]
          },
          "metadata": {},
          "execution_count": 35
        }
      ]
    },
    {
      "cell_type": "markdown",
      "source": [
        "#**Creating A CNN**"
      ],
      "metadata": {
        "id": "LDFMfKE41XDG"
      }
    },
    {
      "cell_type": "code",
      "source": [
        "from torch import nn\n",
        "class fasshionMnistV2(nn.Module):\n",
        "  def __init__(self,input_shape:int,hidden_units:int,output_shape:int):\n",
        "    super().__init__()\n",
        "    self.block_1 = nn.Sequential(\n",
        "        nn.Conv2d(in_channels=input_shape,\n",
        "                  out_channels=hidden_units,\n",
        "                  kernel_size=3,\n",
        "                  stride=1,\n",
        "                  padding=1),\n",
        "        nn.ReLU(),\n",
        "        nn.Conv2d(in_channels=hidden_units,\n",
        "                  out_channels=hidden_units,\n",
        "                  kernel_size=3,\n",
        "                  stride=1,\n",
        "                  padding=1),\n",
        "        nn.ReLU(),\n",
        "        nn.MaxPool2d(kernel_size=2,\n",
        "                     stride=2)\n",
        "    )\n",
        "    self.block_2 = nn.Sequential(\n",
        "        nn.Conv2d(hidden_units,hidden_units,3,padding=1),\n",
        "        nn.ReLU(),\n",
        "        nn.Conv2d(hidden_units,hidden_units,3,padding=1),\n",
        "        nn.ReLU(),\n",
        "        nn.MaxPool2d(2)\n",
        "    )\n",
        "    self.classifier = nn.Sequential(\n",
        "        nn.Flatten(),\n",
        "        nn.Linear(in_features=hidden_units*7*7,\n",
        "                  out_features=output_shape)\n",
        "    )\n",
        "  def forward(self,x:torch.Tensor):\n",
        "    x = self.block_1(x)\n",
        "    x = self.block_2(x)\n",
        "    x = self.classifier(x)\n",
        "    return x\n",
        "\n",
        "torch.manual_seed(64)\n",
        "model_3 = fasshionMnistV2(input_shape=1,hidden_units=10,output_shape=len(classes)).to(device)\n",
        "model_3"
      ],
      "metadata": {
        "colab": {
          "base_uri": "https://localhost:8080/"
        },
        "id": "eOcWeeEq1bqF",
        "outputId": "76140aa5-7a0d-4aa6-82b6-97dcaac3c477"
      },
      "execution_count": 36,
      "outputs": [
        {
          "output_type": "execute_result",
          "data": {
            "text/plain": [
              "fasshionMnistV2(\n",
              "  (block_1): Sequential(\n",
              "    (0): Conv2d(1, 10, kernel_size=(3, 3), stride=(1, 1), padding=(1, 1))\n",
              "    (1): ReLU()\n",
              "    (2): Conv2d(10, 10, kernel_size=(3, 3), stride=(1, 1), padding=(1, 1))\n",
              "    (3): ReLU()\n",
              "    (4): MaxPool2d(kernel_size=2, stride=2, padding=0, dilation=1, ceil_mode=False)\n",
              "  )\n",
              "  (block_2): Sequential(\n",
              "    (0): Conv2d(10, 10, kernel_size=(3, 3), stride=(1, 1), padding=(1, 1))\n",
              "    (1): ReLU()\n",
              "    (2): Conv2d(10, 10, kernel_size=(3, 3), stride=(1, 1), padding=(1, 1))\n",
              "    (3): ReLU()\n",
              "    (4): MaxPool2d(kernel_size=2, stride=2, padding=0, dilation=1, ceil_mode=False)\n",
              "  )\n",
              "  (classifier): Sequential(\n",
              "    (0): Flatten(start_dim=1, end_dim=-1)\n",
              "    (1): Linear(in_features=490, out_features=10, bias=True)\n",
              "  )\n",
              ")"
            ]
          },
          "metadata": {},
          "execution_count": 36
        }
      ]
    },
    {
      "cell_type": "markdown",
      "source": [
        "##testing conv layer\n",
        "\n"
      ],
      "metadata": {
        "id": "txbEdijsxR4v"
      }
    },
    {
      "cell_type": "code",
      "source": [
        "torch.manual_seed(64)\n",
        "images = torch.randn(size=(32,3,64,64))\n",
        "test_image = images[0]\n",
        "print(f\"Image Batch shape:{images.shape}->[batch_size,color_channels,height,width]\")\n",
        "print(f\"Single Image Shape:{test_image.shape}->[coloer_channels,height,widht]\")\n",
        "print(f\"Single Image Pixel:\\n{test_image}\")"
      ],
      "metadata": {
        "colab": {
          "base_uri": "https://localhost:8080/"
        },
        "id": "u5dusuYfxi7U",
        "outputId": "028462bd-09f9-4336-fcaf-959492929bea"
      },
      "execution_count": 37,
      "outputs": [
        {
          "output_type": "stream",
          "name": "stdout",
          "text": [
            "Image Batch shape:torch.Size([32, 3, 64, 64])->[batch_size,color_channels,height,width]\n",
            "Single Image Shape:torch.Size([3, 64, 64])->[coloer_channels,height,widht]\n",
            "Single Image Pixel:\n",
            "tensor([[[ 3.1767e-01, -1.2814e+00,  1.2723e-01,  ..., -5.6064e-01,\n",
            "           2.4752e-01,  9.1496e-01],\n",
            "         [ 2.1275e-03, -7.8141e-01, -1.2418e+00,  ..., -1.3579e+00,\n",
            "          -1.0010e-01, -3.4271e-02],\n",
            "         [-4.0725e-01,  4.0253e-01,  4.8113e-01,  ...,  1.8556e+00,\n",
            "           3.9111e-01,  1.8035e+00],\n",
            "         ...,\n",
            "         [ 8.4268e-01, -1.7569e+00,  1.1814e+00,  ..., -1.5387e+00,\n",
            "           1.1256e-01, -6.1003e-01],\n",
            "         [-4.7817e-01,  1.5372e+00,  5.1556e-01,  ..., -2.1396e+00,\n",
            "           1.5957e+00, -4.3199e-01],\n",
            "         [-1.7265e+00,  3.4456e-02, -1.0810e+00,  ...,  2.3368e-01,\n",
            "           1.2369e+00, -8.1810e-01]],\n",
            "\n",
            "        [[-4.4053e-01, -5.0147e-01,  7.3953e-01,  ...,  9.9130e-01,\n",
            "          -4.5965e-03, -7.1546e-01],\n",
            "         [ 1.1843e+00, -1.0075e+00, -7.4857e-01,  ..., -4.0416e-01,\n",
            "          -2.2265e-01,  3.3332e-01],\n",
            "         [-5.2263e-02,  5.4444e-01,  7.3384e-01,  ...,  5.9870e-01,\n",
            "           1.8392e+00,  7.0729e-01],\n",
            "         ...,\n",
            "         [ 1.7819e-01,  1.1669e+00, -1.0130e+00,  ...,  1.1242e+00,\n",
            "           2.5098e-01, -3.8743e-01],\n",
            "         [ 2.8033e+00, -2.6213e-01, -1.1593e+00,  ..., -2.4426e+00,\n",
            "          -2.6934e-02,  1.1017e+00],\n",
            "         [-3.3279e-01,  2.6652e-01,  2.2498e-01,  ..., -1.0225e-01,\n",
            "          -4.6730e-02, -1.7865e-01]],\n",
            "\n",
            "        [[ 3.8917e-01,  1.6582e+00, -1.0710e+00,  ..., -2.6350e+00,\n",
            "           1.3163e+00,  3.1383e-01],\n",
            "         [ 2.7137e-01, -4.8251e-01, -8.3326e-01,  ..., -1.1522e-01,\n",
            "           1.2103e+00, -1.2141e+00],\n",
            "         [ 5.1818e-01, -2.2315e-01, -1.3000e+00,  ...,  4.0373e-01,\n",
            "           1.3585e-01,  5.7462e-01],\n",
            "         ...,\n",
            "         [ 2.6457e+00, -4.5255e-01, -2.1536e+00,  ..., -1.1617e+00,\n",
            "           5.2210e-01, -6.8379e-02],\n",
            "         [-1.4522e+00,  1.1243e-01,  8.5405e-02,  ..., -3.7967e-01,\n",
            "          -1.7663e+00, -2.0149e+00],\n",
            "         [-5.3563e-01, -9.6713e-02, -3.1382e-01,  ..., -1.9512e+00,\n",
            "          -7.1316e-02, -3.2281e-02]]])\n"
          ]
        }
      ]
    },
    {
      "cell_type": "code",
      "source": [
        "torch.manual_seed(64)\n",
        "conv_layer = nn.Conv2d(in_channels=3,\n",
        "                       out_channels=10,\n",
        "                       kernel_size=3,\n",
        "                       stride=1,\n",
        "                       padding=0)\n",
        "conv_layer(test_image)"
      ],
      "metadata": {
        "colab": {
          "base_uri": "https://localhost:8080/"
        },
        "id": "iiy1EvqpzQ5b",
        "outputId": "77dddeba-b196-4259-c4bf-5b585d374691"
      },
      "execution_count": 38,
      "outputs": [
        {
          "output_type": "execute_result",
          "data": {
            "text/plain": [
              "tensor([[[-5.0790e-01,  1.0384e-01,  5.1343e-01,  ...,  5.9658e-01,\n",
              "           9.4693e-02,  4.5312e-01],\n",
              "         [ 2.4476e-01, -8.6745e-01, -1.9665e-01,  ...,  1.9919e-01,\n",
              "          -7.7819e-01,  6.5024e-01],\n",
              "         [-5.0138e-01, -5.2606e-01,  6.8064e-02,  ..., -5.0477e-01,\n",
              "          -5.0190e-01, -1.1301e+00],\n",
              "         ...,\n",
              "         [-3.2089e-01, -6.4939e-01,  8.0454e-01,  ..., -2.6127e-01,\n",
              "           3.0787e-01, -2.0030e-01],\n",
              "         [-9.1354e-01,  3.2211e-01, -6.9628e-01,  ..., -1.2691e+00,\n",
              "          -5.2686e-02,  3.8260e-02],\n",
              "         [ 1.4740e-01, -4.2653e-01, -6.6373e-01,  ..., -1.3506e-01,\n",
              "           4.2388e-02,  6.8995e-01]],\n",
              "\n",
              "        [[-1.4091e-01, -2.5315e-01,  9.6389e-01,  ...,  3.5335e-01,\n",
              "          -7.0748e-01, -5.2338e-01],\n",
              "         [-5.3709e-01,  6.5366e-02,  2.2730e-01,  ...,  5.6519e-01,\n",
              "          -2.1518e-01,  1.0618e-01],\n",
              "         [-3.6527e-01, -3.6848e-01, -6.2058e-01,  ...,  3.3151e-01,\n",
              "           4.3676e-01,  4.9500e-02],\n",
              "         ...,\n",
              "         [-1.0565e-01,  8.3719e-01, -3.0938e-01,  ...,  5.5248e-01,\n",
              "          -1.8205e-01,  3.4002e-01],\n",
              "         [ 1.1173e-01,  2.7405e-01,  2.8433e-02,  ..., -9.7113e-01,\n",
              "          -1.6099e-03,  3.3625e-01],\n",
              "         [ 1.0894e+00, -6.6844e-02,  3.5387e-01,  ...,  2.5109e-01,\n",
              "          -1.1385e-01, -5.2447e-01]],\n",
              "\n",
              "        [[-1.2580e-01,  9.6939e-01, -1.2538e+00,  ..., -1.6828e+00,\n",
              "           1.0288e-01,  1.7392e-02],\n",
              "         [-7.3441e-01,  7.0593e-01,  9.4222e-01,  ..., -6.1311e-01,\n",
              "          -7.2552e-01,  8.0948e-01],\n",
              "         [ 2.1914e-01, -1.0552e+00,  8.2732e-01,  ...,  2.2784e-01,\n",
              "          -1.3342e-01,  8.3012e-01],\n",
              "         ...,\n",
              "         [ 1.0987e+00,  7.4304e-01, -2.3808e-01,  ...,  3.6291e-01,\n",
              "          -5.0984e-01, -8.0502e-01],\n",
              "         [-2.0349e-01,  7.7327e-01,  5.6930e-01,  ...,  5.9558e-01,\n",
              "           2.9501e-01,  7.0931e-01],\n",
              "         [ 2.1472e-01, -3.4351e-01,  2.7492e-01,  ..., -7.0659e-01,\n",
              "          -2.6643e-01, -7.9717e-01]],\n",
              "\n",
              "        ...,\n",
              "\n",
              "        [[-2.7338e-01, -6.9328e-01, -8.7582e-01,  ...,  3.6901e-01,\n",
              "          -8.8407e-02,  1.6738e-01],\n",
              "         [ 9.3835e-01, -1.5741e+00, -4.8082e-01,  ...,  3.5963e-01,\n",
              "          -4.0075e-01,  5.3152e-01],\n",
              "         [ 1.3832e-01,  4.2646e-01, -4.8702e-01,  ...,  4.1750e-01,\n",
              "          -1.0155e-01, -5.4202e-01],\n",
              "         ...,\n",
              "         [-4.4115e-01, -9.3992e-01, -3.6819e-01,  ..., -7.2054e-01,\n",
              "          -7.8450e-01, -7.4419e-01],\n",
              "         [ 1.0631e+00, -5.0278e-01, -2.5546e-01,  ..., -3.8098e-01,\n",
              "          -3.2332e-02, -7.0099e-01],\n",
              "         [-6.1438e-01,  4.3537e-01, -1.0655e+00,  ..., -1.0097e+00,\n",
              "          -2.5210e-01, -4.1753e-01]],\n",
              "\n",
              "        [[-6.1501e-01, -5.8297e-02,  4.2532e-01,  ..., -1.3919e+00,\n",
              "          -5.9848e-01, -9.8926e-02],\n",
              "         [-3.2315e-01, -8.4778e-01,  1.6534e-01,  ...,  3.7936e-01,\n",
              "          -5.5365e-01, -6.9477e-02],\n",
              "         [-2.9326e-01,  2.5666e-01, -7.6990e-01,  ..., -9.9793e-01,\n",
              "          -1.8811e-01, -5.2195e-01],\n",
              "         ...,\n",
              "         [ 3.5228e-01, -7.1168e-01,  5.5988e-01,  ..., -2.0294e-01,\n",
              "           4.5170e-01, -6.6533e-01],\n",
              "         [-2.9380e-01, -2.0823e-01, -6.8088e-01,  ..., -6.9557e-01,\n",
              "          -3.8025e-01, -1.6040e+00],\n",
              "         [ 5.3451e-03, -9.8958e-02, -8.2403e-01,  ...,  2.4664e-01,\n",
              "          -6.1892e-01, -1.0348e+00]],\n",
              "\n",
              "        [[ 6.5070e-01,  3.2713e-01, -5.3106e-01,  ...,  7.5889e-01,\n",
              "           9.8970e-01, -6.4627e-02],\n",
              "         [-6.0474e-02,  4.2365e-01, -6.8399e-01,  ...,  1.4939e-02,\n",
              "           1.6089e-01, -1.0838e+00],\n",
              "         [ 1.0844e+00, -1.2666e-01, -1.0326e+00,  ..., -2.5055e-01,\n",
              "          -6.6284e-01,  5.6666e-01],\n",
              "         ...,\n",
              "         [ 6.1010e-01, -1.5783e+00, -6.2967e-01,  ...,  4.6286e-01,\n",
              "          -1.2019e+00,  2.3083e-01],\n",
              "         [-1.3096e+00,  4.2923e-01,  4.1906e-01,  ...,  1.0998e+00,\n",
              "          -8.8458e-01,  2.7374e-01],\n",
              "         [-5.9618e-01, -4.5000e-01, -2.0563e-01,  ..., -1.0237e+00,\n",
              "          -9.2531e-01,  6.1803e-01]]], grad_fn=<SqueezeBackward1>)"
            ]
          },
          "metadata": {},
          "execution_count": 38
        }
      ]
    },
    {
      "cell_type": "code",
      "source": [
        "conv_layer(test_image.unsqueeze(dim=0)).shape"
      ],
      "metadata": {
        "colab": {
          "base_uri": "https://localhost:8080/"
        },
        "id": "Ngp3qTIx0FDc",
        "outputId": "d048cecd-0575-4fad-8367-a0d84ef8457e"
      },
      "execution_count": 39,
      "outputs": [
        {
          "output_type": "execute_result",
          "data": {
            "text/plain": [
              "torch.Size([1, 10, 62, 62])"
            ]
          },
          "metadata": {},
          "execution_count": 39
        }
      ]
    },
    {
      "cell_type": "code",
      "source": [
        "torch.manual_seed(64)\n",
        "conv_layer_2 = nn.Conv2d(in_channels = 3,\n",
        "                         out_channels=10,\n",
        "                         kernel_size=(5,5),\n",
        "                         stride=2,\n",
        "                         padding=0)\n",
        "conv_layer_2(test_image).shape"
      ],
      "metadata": {
        "colab": {
          "base_uri": "https://localhost:8080/"
        },
        "id": "I6T8aQU0W9rH",
        "outputId": "d7136055-1f0c-4d45-dda1-353af4629e16"
      },
      "execution_count": 40,
      "outputs": [
        {
          "output_type": "execute_result",
          "data": {
            "text/plain": [
              "torch.Size([10, 30, 30])"
            ]
          },
          "metadata": {},
          "execution_count": 40
        }
      ]
    },
    {
      "cell_type": "code",
      "source": [
        "print(conv_layer_2.state_dict())"
      ],
      "metadata": {
        "colab": {
          "base_uri": "https://localhost:8080/"
        },
        "id": "PuETHqkgYSAa",
        "outputId": "9cdd4a92-4b7c-4aab-bd20-d49da4a63abd"
      },
      "execution_count": 41,
      "outputs": [
        {
          "output_type": "stream",
          "name": "stdout",
          "text": [
            "OrderedDict([('weight', tensor([[[[-0.1041,  0.0228, -0.0746, -0.0545, -0.0065],\n",
            "          [ 0.0782, -0.0776, -0.0716,  0.1148,  0.0119],\n",
            "          [ 0.0653, -0.0867, -0.0660,  0.0388, -0.0037],\n",
            "          [-0.0361,  0.0872,  0.1144, -0.0155,  0.0684],\n",
            "          [-0.1154, -0.0744, -0.0435,  0.0676, -0.1129]],\n",
            "\n",
            "         [[-0.0348,  0.0967,  0.0347, -0.0012,  0.0219],\n",
            "          [-0.0143,  0.1062,  0.0645, -0.0341, -0.0054],\n",
            "          [-0.0252, -0.0099,  0.0605,  0.1079,  0.1010],\n",
            "          [ 0.0213, -0.0682, -0.0003, -0.1019, -0.0851],\n",
            "          [-0.0532, -0.0097, -0.0315, -0.0208,  0.1088]],\n",
            "\n",
            "         [[ 0.0324, -0.0419,  0.0449, -0.0569, -0.0080],\n",
            "          [ 0.1003,  0.1079,  0.0137, -0.0954,  0.1131],\n",
            "          [ 0.0597,  0.0302, -0.1073, -0.1007, -0.0043],\n",
            "          [ 0.0295,  0.0982,  0.1000, -0.0670, -0.0898],\n",
            "          [ 0.0242, -0.0769, -0.0578,  0.0361, -0.0365]]],\n",
            "\n",
            "\n",
            "        [[[-0.1146, -0.0287, -0.0533,  0.0903, -0.0871],\n",
            "          [ 0.0387,  0.1091, -0.0588,  0.0758,  0.0139],\n",
            "          [ 0.0534,  0.1017,  0.0801,  0.0051,  0.1088],\n",
            "          [ 0.0551, -0.0707, -0.0535,  0.1042,  0.1112],\n",
            "          [ 0.0980, -0.0777, -0.0021,  0.0020, -0.0395]],\n",
            "\n",
            "         [[-0.0558, -0.0467, -0.0878,  0.0353,  0.0232],\n",
            "          [ 0.0425, -0.0393,  0.0177, -0.1099,  0.0625],\n",
            "          [ 0.0447,  0.0779,  0.1012, -0.0328,  0.1060],\n",
            "          [ 0.1076, -0.0734,  0.0317, -0.1085, -0.1139],\n",
            "          [ 0.0679, -0.0215,  0.0748,  0.0433,  0.0502]],\n",
            "\n",
            "         [[ 0.0690,  0.0153,  0.0109, -0.0870, -0.0424],\n",
            "          [-0.0866,  0.0338,  0.0261,  0.0268, -0.1142],\n",
            "          [-0.1126,  0.0240, -0.0754, -0.1017, -0.0211],\n",
            "          [-0.0781, -0.0453,  0.0222, -0.0324, -0.0548],\n",
            "          [ 0.1007,  0.0177,  0.0830, -0.1072, -0.0308]]],\n",
            "\n",
            "\n",
            "        [[[ 0.0070,  0.0780, -0.0914, -0.0474,  0.0402],\n",
            "          [-0.0753,  0.1084,  0.1071, -0.0836,  0.0437],\n",
            "          [-0.0008,  0.0396, -0.0309, -0.1088, -0.0975],\n",
            "          [-0.1153,  0.0626, -0.0388, -0.0362,  0.1091],\n",
            "          [ 0.1152,  0.0374,  0.1000, -0.0746,  0.0213]],\n",
            "\n",
            "         [[-0.0230,  0.0342,  0.0476,  0.0170,  0.0181],\n",
            "          [-0.1015,  0.0896,  0.0562,  0.0702, -0.1138],\n",
            "          [ 0.0097, -0.0951,  0.0375, -0.0395, -0.0754],\n",
            "          [-0.0088, -0.0559,  0.0940, -0.0572,  0.0376],\n",
            "          [ 0.1133,  0.0368,  0.1108,  0.1111, -0.0653]],\n",
            "\n",
            "         [[-0.0660, -0.0037,  0.0686, -0.0288, -0.0427],\n",
            "          [-0.1029,  0.0218,  0.0974, -0.0172, -0.0351],\n",
            "          [ 0.0631,  0.1049, -0.1037, -0.0119,  0.0679],\n",
            "          [ 0.0019,  0.0190,  0.0575, -0.0767,  0.0046],\n",
            "          [ 0.0765,  0.0793,  0.0931, -0.0635,  0.0295]]],\n",
            "\n",
            "\n",
            "        [[[ 0.0263,  0.1057, -0.0401,  0.0530, -0.0208],\n",
            "          [-0.0552,  0.0776,  0.0720, -0.0655,  0.0790],\n",
            "          [ 0.0090,  0.0560,  0.0899,  0.0147,  0.0850],\n",
            "          [ 0.0617,  0.0748, -0.0213, -0.0682,  0.0024],\n",
            "          [ 0.0466, -0.0398, -0.0957, -0.1071,  0.0139]],\n",
            "\n",
            "         [[ 0.0572, -0.1083,  0.0340, -0.0756,  0.0921],\n",
            "          [-0.0961, -0.0979,  0.0578, -0.0727,  0.0210],\n",
            "          [ 0.1151,  0.0417,  0.0541, -0.0534, -0.1090],\n",
            "          [-0.0847, -0.0190,  0.1105,  0.1077,  0.0092],\n",
            "          [-0.1147,  0.0244, -0.0435,  0.0012,  0.0267]],\n",
            "\n",
            "         [[ 0.1089,  0.0261, -0.0856, -0.0769, -0.1075],\n",
            "          [-0.0105,  0.0694,  0.0088,  0.0634, -0.0243],\n",
            "          [ 0.0521,  0.1153,  0.0452, -0.0529, -0.0743],\n",
            "          [-0.0866,  0.0342,  0.0256,  0.0813, -0.0757],\n",
            "          [-0.1010, -0.0669, -0.0665,  0.0954, -0.0422]]],\n",
            "\n",
            "\n",
            "        [[[-0.0065, -0.0207, -0.0408, -0.0500,  0.0027],\n",
            "          [-0.0502,  0.0512,  0.0116, -0.0399,  0.0594],\n",
            "          [ 0.0957,  0.0161, -0.0410, -0.0850, -0.0998],\n",
            "          [ 0.0821, -0.1131, -0.0039, -0.0366,  0.0890],\n",
            "          [ 0.0747, -0.0706,  0.0402, -0.0230, -0.0887]],\n",
            "\n",
            "         [[-0.0785, -0.0767, -0.0269, -0.1146, -0.0597],\n",
            "          [ 0.0254, -0.0276, -0.0336,  0.0161, -0.0735],\n",
            "          [ 0.0103, -0.0629, -0.0257,  0.0167,  0.0232],\n",
            "          [ 0.1054,  0.1025,  0.0549,  0.0614, -0.0534],\n",
            "          [-0.0804, -0.0998, -0.0079,  0.0427,  0.1017]],\n",
            "\n",
            "         [[-0.0737,  0.0279, -0.0988, -0.0661,  0.0839],\n",
            "          [ 0.1137, -0.0301,  0.0935,  0.1132, -0.0272],\n",
            "          [-0.1101, -0.0556,  0.0429, -0.0156,  0.0541],\n",
            "          [-0.0476, -0.0704, -0.0956, -0.0385,  0.0036],\n",
            "          [ 0.0612, -0.0398, -0.0090,  0.0801,  0.0761]]],\n",
            "\n",
            "\n",
            "        [[[-0.0550,  0.0861, -0.0577,  0.0907,  0.0672],\n",
            "          [-0.0687, -0.0056, -0.0577, -0.0230,  0.0767],\n",
            "          [ 0.0541, -0.0085, -0.0106, -0.0727,  0.0715],\n",
            "          [ 0.0778, -0.0975, -0.0329,  0.1012, -0.0785],\n",
            "          [-0.0167,  0.0569,  0.0842, -0.0955, -0.1025]],\n",
            "\n",
            "         [[ 0.0812, -0.0668,  0.0557, -0.0630, -0.0792],\n",
            "          [ 0.0382,  0.0480, -0.0709, -0.0142, -0.0792],\n",
            "          [-0.0307, -0.0200,  0.0366,  0.0809, -0.0900],\n",
            "          [ 0.0652,  0.0369, -0.0212, -0.0297, -0.0061],\n",
            "          [-0.0627, -0.0346, -0.0380, -0.0384, -0.1065]],\n",
            "\n",
            "         [[-0.1012,  0.0511,  0.0631, -0.0106,  0.1019],\n",
            "          [-0.0045,  0.1087, -0.0514, -0.0073,  0.1084],\n",
            "          [ 0.0855, -0.0441, -0.0761, -0.1102, -0.0845],\n",
            "          [-0.1001, -0.1145, -0.1109,  0.0789,  0.0638],\n",
            "          [ 0.0241, -0.0219, -0.0055,  0.0868, -0.0625]]],\n",
            "\n",
            "\n",
            "        [[[ 0.0176, -0.0566, -0.0717,  0.0166, -0.0004],\n",
            "          [ 0.0904,  0.0598,  0.0689,  0.0548, -0.0106],\n",
            "          [ 0.0312,  0.1052,  0.0636,  0.1138, -0.0075],\n",
            "          [-0.1006, -0.0802,  0.0643, -0.0165,  0.1150],\n",
            "          [-0.0599,  0.0028,  0.0226,  0.0580, -0.0613]],\n",
            "\n",
            "         [[-0.0307, -0.0114,  0.0485, -0.1031, -0.0034],\n",
            "          [ 0.0316,  0.0863,  0.1093,  0.0023, -0.0335],\n",
            "          [-0.0864,  0.0537, -0.0161, -0.1101, -0.0604],\n",
            "          [ 0.0326,  0.1076, -0.0826, -0.0052,  0.0785],\n",
            "          [ 0.0964,  0.0836, -0.0789,  0.0987,  0.1056]],\n",
            "\n",
            "         [[ 0.0616,  0.0694,  0.0429,  0.0495,  0.0501],\n",
            "          [-0.0502,  0.0415, -0.0633, -0.0268, -0.1099],\n",
            "          [-0.0115,  0.0510,  0.1110, -0.0906, -0.0547],\n",
            "          [-0.1070,  0.0653, -0.0839,  0.0208,  0.0986],\n",
            "          [ 0.0941, -0.0301, -0.1038,  0.0527, -0.1046]]],\n",
            "\n",
            "\n",
            "        [[[-0.0435, -0.0829, -0.0010, -0.0856, -0.0609],\n",
            "          [-0.0010, -0.0183,  0.0266, -0.0842,  0.1028],\n",
            "          [ 0.0091,  0.0301, -0.0776,  0.1063,  0.0361],\n",
            "          [ 0.0390, -0.0533,  0.0926,  0.0485,  0.0556],\n",
            "          [ 0.0789,  0.0609, -0.0803,  0.0306, -0.0470]],\n",
            "\n",
            "         [[ 0.0032,  0.0714, -0.0704,  0.0317, -0.1125],\n",
            "          [-0.0413, -0.0665,  0.0285, -0.0472,  0.0980],\n",
            "          [-0.0776, -0.0918,  0.1111, -0.0710, -0.0951],\n",
            "          [-0.0213, -0.1016, -0.0072,  0.0238,  0.0851],\n",
            "          [-0.0416, -0.0388, -0.0732, -0.0490,  0.0417]],\n",
            "\n",
            "         [[ 0.0826,  0.0942, -0.0995, -0.0612,  0.0834],\n",
            "          [-0.0155,  0.0659,  0.0677, -0.0210, -0.0060],\n",
            "          [-0.0595,  0.0559,  0.0845, -0.0772, -0.0437],\n",
            "          [ 0.1046,  0.0667, -0.0261, -0.0638,  0.0266],\n",
            "          [ 0.0442,  0.0540,  0.0866, -0.0248, -0.0931]]],\n",
            "\n",
            "\n",
            "        [[[-0.0655,  0.0873,  0.0302,  0.1014, -0.0564],\n",
            "          [ 0.0932,  0.1031,  0.0614, -0.0315, -0.0479],\n",
            "          [ 0.0913, -0.0748, -0.0968,  0.0088,  0.0098],\n",
            "          [ 0.0023, -0.0913, -0.0239,  0.0976, -0.0471],\n",
            "          [ 0.0842,  0.0537,  0.0101, -0.0070,  0.0416]],\n",
            "\n",
            "         [[-0.1079,  0.0931, -0.0485,  0.0647,  0.0665],\n",
            "          [-0.0047,  0.0125,  0.0428, -0.0194, -0.0418],\n",
            "          [ 0.0455, -0.0479,  0.0196,  0.0026, -0.1112],\n",
            "          [ 0.0742,  0.0694, -0.0637, -0.0684, -0.0462],\n",
            "          [-0.0126,  0.0930, -0.0901,  0.0853,  0.1092]],\n",
            "\n",
            "         [[-0.0213, -0.0481, -0.0447,  0.0162,  0.0655],\n",
            "          [-0.1092,  0.0641,  0.0363, -0.0152,  0.0252],\n",
            "          [-0.0424,  0.0123, -0.0638,  0.1034,  0.1021],\n",
            "          [ 0.0100, -0.0024, -0.0388,  0.0391, -0.0489],\n",
            "          [-0.0559,  0.1004,  0.0636, -0.0144, -0.0330]]],\n",
            "\n",
            "\n",
            "        [[[ 0.1123, -0.0347, -0.0014,  0.0438,  0.0772],\n",
            "          [ 0.0555, -0.0854,  0.0856,  0.0512, -0.0668],\n",
            "          [ 0.0080, -0.1122,  0.0056, -0.0685, -0.0184],\n",
            "          [-0.0644, -0.1125,  0.0815,  0.0037,  0.0876],\n",
            "          [-0.0302, -0.0803, -0.0753,  0.1001, -0.0363]],\n",
            "\n",
            "         [[-0.0040, -0.0862,  0.0995,  0.0971, -0.0140],\n",
            "          [-0.0355, -0.0158,  0.0196, -0.0387,  0.0947],\n",
            "          [-0.0009, -0.0281,  0.0002, -0.1100,  0.0863],\n",
            "          [ 0.0467,  0.0595, -0.0633, -0.0409,  0.0887],\n",
            "          [ 0.0483, -0.0955,  0.0159,  0.0933, -0.0727]],\n",
            "\n",
            "         [[-0.0199,  0.0104,  0.0354, -0.0669,  0.0229],\n",
            "          [-0.0129,  0.1040,  0.0519, -0.0971,  0.0734],\n",
            "          [-0.0786,  0.0781, -0.0193,  0.0333, -0.0475],\n",
            "          [-0.0075, -0.0104,  0.0424, -0.0306,  0.0185],\n",
            "          [-0.0980,  0.1118, -0.0336,  0.0951,  0.0822]]]])), ('bias', tensor([ 0.0356, -0.0138,  0.0977, -0.0223, -0.1084, -0.1154,  0.1087,  0.0180,\n",
            "        -0.0068, -0.0649]))])\n"
          ]
        }
      ]
    },
    {
      "cell_type": "code",
      "source": [
        "print(f\"Shape of weights: {conv_layer_2.weight.shape} -> \")\n",
        "print(f\"Shape of Bias: {conv_layer_2.bias.shape}\")"
      ],
      "metadata": {
        "colab": {
          "base_uri": "https://localhost:8080/"
        },
        "id": "GDe_rGqoYlNF",
        "outputId": "0a055377-c088-4419-9f68-f56f86b2287f"
      },
      "execution_count": 42,
      "outputs": [
        {
          "output_type": "stream",
          "name": "stdout",
          "text": [
            "Shape of weights: torch.Size([10, 3, 5, 5]) -> \n",
            "Shape of Bias: torch.Size([10])\n"
          ]
        }
      ]
    },
    {
      "cell_type": "code",
      "source": [
        "torch.manual_seed(42)\n",
        "# Create a random tensor with a similiar number of dimensions to our images\n",
        "random_tensor = torch.randn(size=(1, 1, 2, 2))\n",
        "print(f\"Random tensor:\\n{random_tensor}\")\n",
        "print(f\"Random tensor shape: {random_tensor.shape}\")\n",
        "\n",
        "# Create a max pool layer\n",
        "max_pool_layer = nn.MaxPool2d(kernel_size=2) # see what happens when you change the kernel_size value\n",
        "\n",
        "# Pass the random tensor through the max pool layer\n",
        "max_pool_tensor = max_pool_layer(random_tensor)\n",
        "print(f\"\\nMax pool tensor:\\n{max_pool_tensor} <- this is the maximum value from random_tensor\")\n",
        "print(f\"Max pool tensor shape: {max_pool_tensor.shape}\")"
      ],
      "metadata": {
        "colab": {
          "base_uri": "https://localhost:8080/"
        },
        "id": "wFij9vQCZT57",
        "outputId": "66d44323-d6f6-4a62-e464-f21bbb98f865"
      },
      "execution_count": 43,
      "outputs": [
        {
          "output_type": "stream",
          "name": "stdout",
          "text": [
            "Random tensor:\n",
            "tensor([[[[0.3367, 0.1288],\n",
            "          [0.2345, 0.2303]]]])\n",
            "Random tensor shape: torch.Size([1, 1, 2, 2])\n",
            "\n",
            "Max pool tensor:\n",
            "tensor([[[[0.3367]]]]) <- this is the maximum value from random_tensor\n",
            "Max pool tensor shape: torch.Size([1, 1, 1, 1])\n"
          ]
        }
      ]
    },
    {
      "cell_type": "markdown",
      "source": [
        "##**Setting Up a Loss function**"
      ],
      "metadata": {
        "id": "4jdwsahlaa8_"
      }
    },
    {
      "cell_type": "code",
      "source": [
        "loss_fn1 = nn.CrossEntropyLoss()\n",
        "optimizer = torch.optim.SGD(params=model_3.parameters(),\n",
        "                            lr=0.01)\n"
      ],
      "metadata": {
        "id": "L7Ueuo7Nahpf"
      },
      "execution_count": 44,
      "outputs": []
    },
    {
      "cell_type": "code",
      "source": [
        "torch.manual_seed(64)\n",
        "#time measure\n",
        "from timeit import default_timer as timer\n",
        "train_time_start = timer()\n",
        "#Train the model\n",
        "epochs = 10\n",
        "for epoch in tqdm(range(epochs)):\n",
        "  print(f\"Epochs:{epoch}\\n-----\")\n",
        "  train_step(model=model_3,\n",
        "             data_loader=train_dataloader,\n",
        "             loss_fn=loss_fn1,\n",
        "             optimizer=optimizer,\n",
        "             accuracy_fn=accuracy_fn,\n",
        "             device=device)\n",
        "  test_step(model=model_3,\n",
        "            data_loader=test_dataloader,\n",
        "            loss_fn=loss_fn1,\n",
        "            optimizer=optimizer,\n",
        "            accuracy_fn=accuracy_fn,\n",
        "            device=device)\n",
        "train_time_end1=timer()\n",
        "total_train_time_3 = print_train_time(start=train_time_start,\n",
        "                                      end=train_time_end1,\n",
        "                                      device=device)\n",
        "\n"
      ],
      "metadata": {
        "colab": {
          "base_uri": "https://localhost:8080/",
          "height": 960,
          "referenced_widgets": [
            "9d5871aefb7b4088bc56e0c4e3e31a6c",
            "d64647815ea948de8e9a687e403dae89",
            "a3bc2dc21f7a4b2197438fe795b322a5",
            "520189ee678c4616a835c4e6dbf82fd3",
            "894b5352f44944a789abf7af9596b88d",
            "435ed457f9844aa2aadcdd21dc59cf2a",
            "94924583c5664f44b7477eea2c924aaf",
            "1226c0783d4b4a3fa10667504a3bbcaf",
            "dd66df9074f34399aba7549c6edf2f00",
            "7c9dea7dc91e4dc1bc16f8328d1bb0e1",
            "6bc169374efb41cc91627dfa22706e79"
          ]
        },
        "id": "QIOT_MJya7s4",
        "outputId": "598e60be-57ad-4512-8bc8-5d7c0f756934"
      },
      "execution_count": 45,
      "outputs": [
        {
          "output_type": "display_data",
          "data": {
            "text/plain": [
              "  0%|          | 0/10 [00:00<?, ?it/s]"
            ],
            "application/vnd.jupyter.widget-view+json": {
              "version_major": 2,
              "version_minor": 0,
              "model_id": "9d5871aefb7b4088bc56e0c4e3e31a6c"
            }
          },
          "metadata": {}
        },
        {
          "output_type": "stream",
          "name": "stdout",
          "text": [
            "Epochs:0\n",
            "-----\n",
            "Train loss:1.204881 | Train Accuracy:55.720000%\n",
            "\n",
            "Test loss : 0.640870 | Test Acc:77.006789%\n",
            "Epochs:1\n",
            "-----\n",
            "Train loss:0.541399 | Train Accuracy:80.351667%\n",
            "\n",
            "Test loss : 0.484268 | Test Acc:82.847444%\n",
            "Epochs:2\n",
            "-----\n",
            "Train loss:0.446732 | Train Accuracy:84.003333%\n",
            "\n",
            "Test loss : 0.444939 | Test Acc:84.135383%\n",
            "Epochs:3\n",
            "-----\n",
            "Train loss:0.404997 | Train Accuracy:85.555000%\n",
            "\n",
            "Test loss : 0.406772 | Test Acc:85.213658%\n",
            "Epochs:4\n",
            "-----\n",
            "Train loss:0.377088 | Train Accuracy:86.548333%\n",
            "\n",
            "Test loss : 0.418570 | Test Acc:85.063898%\n",
            "Epochs:5\n",
            "-----\n",
            "Train loss:0.358196 | Train Accuracy:87.056667%\n",
            "\n",
            "Test loss : 0.365899 | Test Acc:87.220447%\n",
            "Epochs:6\n",
            "-----\n",
            "Train loss:0.340846 | Train Accuracy:87.798333%\n",
            "\n",
            "Test loss : 0.356238 | Test Acc:87.290335%\n",
            "Epochs:7\n",
            "-----\n",
            "Train loss:0.327568 | Train Accuracy:88.235000%\n",
            "\n",
            "Test loss : 0.341965 | Test Acc:87.799521%\n",
            "Epochs:8\n",
            "-----\n",
            "Train loss:0.316125 | Train Accuracy:88.750000%\n",
            "\n",
            "Test loss : 0.343871 | Test Acc:88.238818%\n",
            "Epochs:9\n",
            "-----\n",
            "Train loss:0.308803 | Train Accuracy:88.785000%\n",
            "\n",
            "Test loss : 0.333904 | Test Acc:88.099042%\n",
            "Train time on cuda: 136.379649 seconds\n"
          ]
        }
      ]
    },
    {
      "cell_type": "code",
      "source": [
        "model_3_test_results = eval_model(\n",
        "    model=model_3,\n",
        "    data_loader=test_dataloader,\n",
        "    loss_fx=loss_fn1,\n",
        "    accuracy_fn=accuracy_fn,\n",
        ")\n",
        "model_3_test_results"
      ],
      "metadata": {
        "colab": {
          "base_uri": "https://localhost:8080/",
          "height": 103,
          "referenced_widgets": [
            "dcf41dede9bc443eb5e94c84d5bcf434",
            "5fda80d43179438ca956f2d3efe379ed",
            "55c357c2d4cc47519a36a32f885076f5",
            "9ac2dd9960df4576958b4d369892b63c",
            "f4203d7e1e18431a86bc8f635b510377",
            "a0e0c328f5634ee6b3fe91fe22f28ba8",
            "595505bfa7a54e8b9f35229109d33069",
            "2321f07a765a4f03a9a1c44a4e81078c",
            "03e5f57e2d6344b0900389b92139c47b",
            "97b6d4c388de4ea4bc4396f2a4dfb866",
            "7987a39fa855441e9d91076a3589b203"
          ]
        },
        "id": "ma1yW9JSdE5r",
        "outputId": "ed14b4ea-7260-42d2-b2f0-2a70ae8c2224"
      },
      "execution_count": 46,
      "outputs": [
        {
          "output_type": "display_data",
          "data": {
            "text/plain": [
              "  0%|          | 0/313 [00:00<?, ?it/s]"
            ],
            "application/vnd.jupyter.widget-view+json": {
              "version_major": 2,
              "version_minor": 0,
              "model_id": "dcf41dede9bc443eb5e94c84d5bcf434"
            }
          },
          "metadata": {}
        },
        {
          "output_type": "execute_result",
          "data": {
            "text/plain": [
              "{'Model_Name': 'fasshionMnistV2',\n",
              " 'Model_loss': 0.33390405774116516,\n",
              " 'Model Acc': 88.09904153354633}"
            ]
          },
          "metadata": {},
          "execution_count": 46
        }
      ]
    },
    {
      "cell_type": "markdown",
      "source": [
        "#Making *Predictions*"
      ],
      "metadata": {
        "id": "anxSjpVXciYD"
      }
    },
    {
      "cell_type": "code",
      "source": [
        "def makePredictions(model:torch.nn.Module,\n",
        "                    data:list,\n",
        "                    device:torch.device = device):\n",
        "  pred_probs = []\n",
        "  model.to(device)\n",
        "  model.eval()\n",
        "  with torch.inference_mode():\n",
        "    for sample in data:\n",
        "      sample = torch.unsqueeze(sample,dim=0).to(device)\n",
        "      pred_logit = model(sample)\n",
        "      pred_prob = torch.softmax(pred_logit.squeeze(),dim=0)\n",
        "      pred_probs.append(pred_prob.cpu())\n",
        "  return torch.stack(pred_probs)"
      ],
      "metadata": {
        "id": "D-uVz4SSqHpZ"
      },
      "execution_count": 47,
      "outputs": []
    },
    {
      "cell_type": "code",
      "source": [
        "import random\n",
        "random.seed(64)\n",
        "test_samples = []\n",
        "test_labels = []\n",
        "for sample , labels in random.sample(list(test_data),k=9):\n",
        "  test_samples.append(sample)\n",
        "  test_labels.append(labels)\n",
        "test_samples[0].shape"
      ],
      "metadata": {
        "colab": {
          "base_uri": "https://localhost:8080/"
        },
        "id": "XMvRSsjTs5N1",
        "outputId": "a3b1f0d7-8b6f-4b4e-aa6a-0f4a65d19d14"
      },
      "execution_count": 48,
      "outputs": [
        {
          "output_type": "execute_result",
          "data": {
            "text/plain": [
              "torch.Size([1, 28, 28])"
            ]
          },
          "metadata": {},
          "execution_count": 48
        }
      ]
    },
    {
      "cell_type": "code",
      "source": [
        "plt.imshow(test_samples[5].squeeze(),cmap=\"gray\")\n",
        "plt.title(classes[test_labels[5]])"
      ],
      "metadata": {
        "colab": {
          "base_uri": "https://localhost:8080/",
          "height": 470
        },
        "id": "182hOBTjtscY",
        "outputId": "5de4572b-bd82-4fc8-d204-b0f28aea2301"
      },
      "execution_count": 49,
      "outputs": [
        {
          "output_type": "execute_result",
          "data": {
            "text/plain": [
              "Text(0.5, 1.0, 'Shirt')"
            ]
          },
          "metadata": {},
          "execution_count": 49
        },
        {
          "output_type": "display_data",
          "data": {
            "text/plain": [
              "<Figure size 640x480 with 1 Axes>"
            ],
            "image/png": "[encoded data removed]"
          },
          "metadata": {}
        }
      ]
    },
    {
      "cell_type": "code",
      "source": [
        "pred_probs = makePredictions(model = model_3,\n",
        "                             data=test_samples)\n",
        "pred_probs[:2]"
      ],
      "metadata": {
        "colab": {
          "base_uri": "https://localhost:8080/"
        },
        "id": "dJibs5NPuFxK",
        "outputId": "ea70006a-abf5-48c0-b9b7-b6ea1aab2715"
      },
      "execution_count": 50,
      "outputs": [
        {
          "output_type": "execute_result",
          "data": {
            "text/plain": [
              "tensor([[1.8400e-02, 6.3191e-05, 3.0292e-02, 1.5354e-03, 8.1197e-01, 6.4956e-08,\n",
              "         1.3713e-01, 8.3003e-06, 6.0316e-04, 7.5752e-07],\n",
              "        [6.9642e-06, 2.3882e-06, 3.0083e-03, 6.6455e-08, 9.9099e-01, 3.5941e-08,\n",
              "         5.9885e-03, 1.2907e-09, 7.4190e-06, 1.1008e-07]])"
            ]
          },
          "metadata": {},
          "execution_count": 50
        }
      ]
    },
    {
      "cell_type": "code",
      "source": [
        "pred_classes = pred_probs.argmax(dim=1)\n",
        "pred_classes"
      ],
      "metadata": {
        "colab": {
          "base_uri": "https://localhost:8080/"
        },
        "id": "kD4qW4Puw2JV",
        "outputId": "82e2f7e6-7036-492d-fc57-fb0e8bc2fa72"
      },
      "execution_count": 51,
      "outputs": [
        {
          "output_type": "execute_result",
          "data": {
            "text/plain": [
              "tensor([4, 4, 3, 4, 8, 3, 1, 9, 1])"
            ]
          },
          "metadata": {},
          "execution_count": 51
        }
      ]
    },
    {
      "cell_type": "code",
      "source": [
        "test_labels"
      ],
      "metadata": {
        "colab": {
          "base_uri": "https://localhost:8080/"
        },
        "id": "XoceTXwiugRj",
        "outputId": "874ba5e9-b585-44d1-a821-c45e4dd28fd1"
      },
      "execution_count": 52,
      "outputs": [
        {
          "output_type": "execute_result",
          "data": {
            "text/plain": [
              "[4, 4, 3, 6, 8, 6, 1, 9, 1]"
            ]
          },
          "metadata": {},
          "execution_count": 52
        }
      ]
    },
    {
      "cell_type": "code",
      "source": [
        "class_index"
      ],
      "metadata": {
        "colab": {
          "base_uri": "https://localhost:8080/"
        },
        "id": "ZodwzT_butQb",
        "outputId": "6c60182f-b602-4f82-ed05-0eda0fd22d4e"
      },
      "execution_count": 53,
      "outputs": [
        {
          "output_type": "execute_result",
          "data": {
            "text/plain": [
              "{'T-shirt/top': 0,\n",
              " 'Trouser': 1,\n",
              " 'Pullover': 2,\n",
              " 'Dress': 3,\n",
              " 'Coat': 4,\n",
              " 'Sandal': 5,\n",
              " 'Shirt': 6,\n",
              " 'Sneaker': 7,\n",
              " 'Bag': 8,\n",
              " 'Ankle boot': 9}"
            ]
          },
          "metadata": {},
          "execution_count": 53
        }
      ]
    },
    {
      "cell_type": "code",
      "source": [
        "plt.figure(figsize=(9,9))\n",
        "plt.axis(False)\n",
        "rows = 3\n",
        "cols = 3\n",
        "for i , sample in enumerate(test_samples):\n",
        "  plt.subplot(rows, cols, i+1)\n",
        "  plt.imshow(sample.squeeze(),cmap=\"gray\")\n",
        "  pred_label = classes[pred_classes[i]]\n",
        "  truth_label = classes[test_labels[i]]\n",
        "\n",
        "  title_text = f\"Pred:{pred_label} | Truth:{truth_label} \"\n",
        "  if pred_label==truth_label:\n",
        "    plt.title(title_text,fontsize=10,c=\"g\")\n",
        "  else:\n",
        "    plt.title(title_text,fontsize=10,c=\"r\")\n",
        "  plt.axis(False)\n"
      ],
      "metadata": {
        "colab": {
          "base_uri": "https://localhost:8080/",
          "height": 805
        },
        "id": "XOIL8oMJwBlE",
        "outputId": "120d86f2-5913-476e-8e44-7d675a5528d0"
      },
      "execution_count": 54,
      "outputs": [
        {
          "output_type": "stream",
          "name": "stderr",
          "text": [
            "<ipython-input-54-0bb159f53889>:6: MatplotlibDeprecationWarning: Auto-removal of overlapping axes is deprecated since 3.6 and will be removed two minor releases later; explicitly call ax.remove() as needed.\n",
            "  plt.subplot(rows, cols, i+1)\n"
          ]
        },
        {
          "output_type": "display_data",
          "data": {
            "text/plain": [
              "<Figure size 900x900 with 9 Axes>"
            ],
            "image/png": "[encoded data removed]"
          },
          "metadata": {}
        }
      ]
    },
    {
      "cell_type": "markdown",
      "source": [
        "#Making a Confusion matrix"
      ],
      "metadata": {
        "id": "KYuIpqZ_0HHj"
      }
    },
    {
      "cell_type": "code",
      "source": [
        "from tqdm.auto import tqdm\n",
        "# make predictions\n",
        "y_preds = []\n",
        "model_3.eval()\n",
        "with torch.inference_mode():\n",
        "  for x,y in tqdm(test_dataloader,desc=\"Making Predictions\"):\n",
        "    x , y = x.to(device),y.to(device)\n",
        "    y_logit = model_3(x)\n",
        "    y_pred = torch.softmax(y_logit.squeeze(),dim=0).argmax(dim=1)\n",
        "    y_preds.append(y_pred.cpu())\n",
        "#print(y_preds)\n",
        "y_pred_tensor = torch.cat(y_preds)\n",
        "y_pred_tensor"
      ],
      "metadata": {
        "colab": {
          "base_uri": "https://localhost:8080/",
          "height": 67,
          "referenced_widgets": [
            "61a6eef6653541c3bf0cbdf0876c53a3",
            "e795f23d35704ecaae512e0ffce80296",
            "87d3592a6c524e19b46c98cf7295612c",
            "8ddd15a72d09491097b41950d6cc4b92",
            "b9ebbb39cb1b4b3cb854f8c16921b6cf",
            "90c222d1f0c74ecf81193b9838bf7030",
            "1e9de3f7b59f42eb989f6f526bac6b59",
            "5078184128324864b7d56e232c7ec603",
            "0cb368aa609743efb7d0fbf394c4b023",
            "9466eb6309724e30bf1bbd9f4ef4ed58",
            "25885e65aeaa4056b09e5ba21c3f57bc"
          ]
        },
        "id": "JF_HsdvO2OM5",
        "outputId": "a6fcfdae-aab8-46ea-84c8-6392b49028d9"
      },
      "execution_count": 61,
      "outputs": [
        {
          "output_type": "display_data",
          "data": {
            "text/plain": [
              "Making Predictions:   0%|          | 0/313 [00:00<?, ?it/s]"
            ],
            "application/vnd.jupyter.widget-view+json": {
              "version_major": 2,
              "version_minor": 0,
              "model_id": "61a6eef6653541c3bf0cbdf0876c53a3"
            }
          },
          "metadata": {}
        },
        {
          "output_type": "execute_result",
          "data": {
            "text/plain": [
              "tensor([9, 2, 1,  ..., 8, 1, 8])"
            ]
          },
          "metadata": {},
          "execution_count": 61
        }
      ]
    },
    {
      "cell_type": "code",
      "source": [
        "len(y_pred_tensor)"
      ],
      "metadata": {
        "colab": {
          "base_uri": "https://localhost:8080/"
        },
        "id": "Rkchl6wPi4G4",
        "outputId": "ef6101f2-333c-41f1-c61c-63eadc938473"
      },
      "execution_count": 62,
      "outputs": [
        {
          "output_type": "execute_result",
          "data": {
            "text/plain": [
              "10000"
            ]
          },
          "metadata": {},
          "execution_count": 62
        }
      ]
    },
    {
      "cell_type": "code",
      "source": [
        "pip install torchmetrics\n"
      ],
      "metadata": {
        "colab": {
          "base_uri": "https://localhost:8080/"
        },
        "id": "ZCY35oN1jsMD",
        "outputId": "d3536d92-7aa9-485e-e36e-456ba82c4dd2"
      },
      "execution_count": 66,
      "outputs": [
        {
          "output_type": "stream",
          "name": "stdout",
          "text": [
            "Collecting torchmetrics\n",
            "  Downloading torchmetrics-1.4.2-py3-none-any.whl.metadata (19 kB)\n",
            "Requirement already satisfied: numpy>1.20.0 in /usr/local/lib/python3.10/dist-packages (from torchmetrics) (1.26.4)\n",
            "Requirement already satisfied: packaging>17.1 in /usr/local/lib/python3.10/dist-packages (from torchmetrics) (24.1)\n",
            "Requirement already satisfied: torch>=1.10.0 in /usr/local/lib/python3.10/dist-packages (from torchmetrics) (2.4.0+cu121)\n",
            "Collecting lightning-utilities>=0.8.0 (from torchmetrics)\n",
            "  Downloading lightning_utilities-0.11.7-py3-none-any.whl.metadata (5.2 kB)\n",
            "Requirement already satisfied: setuptools in /usr/local/lib/python3.10/dist-packages (from lightning-utilities>=0.8.0->torchmetrics) (71.0.4)\n",
            "Requirement already satisfied: typing-extensions in /usr/local/lib/python3.10/dist-packages (from lightning-utilities>=0.8.0->torchmetrics) (4.12.2)\n",
            "Requirement already satisfied: filelock in /usr/local/lib/python3.10/dist-packages (from torch>=1.10.0->torchmetrics) (3.16.0)\n",
            "Requirement already satisfied: sympy in /usr/local/lib/python3.10/dist-packages (from torch>=1.10.0->torchmetrics) (1.13.2)\n",
            "Requirement already satisfied: networkx in /usr/local/lib/python3.10/dist-packages (from torch>=1.10.0->torchmetrics) (3.3)\n",
            "Requirement already satisfied: jinja2 in /usr/local/lib/python3.10/dist-packages (from torch>=1.10.0->torchmetrics) (3.1.4)\n",
            "Requirement already satisfied: fsspec in /usr/local/lib/python3.10/dist-packages (from torch>=1.10.0->torchmetrics) (2024.6.1)\n",
            "Requirement already satisfied: MarkupSafe>=2.0 in /usr/local/lib/python3.10/dist-packages (from jinja2->torch>=1.10.0->torchmetrics) (2.1.5)\n",
            "Requirement already satisfied: mpmath<1.4,>=1.1.0 in /usr/local/lib/python3.10/dist-packages (from sympy->torch>=1.10.0->torchmetrics) (1.3.0)\n",
            "Downloading torchmetrics-1.4.2-py3-none-any.whl (869 kB)\n",
            "\u001b[2K   \u001b[90m━━━━━━━━━━━━━━━━━━━━━━━━━━━━━━━━━━━━━━━━\u001b[0m \u001b[32m869.2/869.2 kB\u001b[0m \u001b[31m27.5 MB/s\u001b[0m eta \u001b[36m0:00:00\u001b[0m\n",
            "\u001b[?25hDownloading lightning_utilities-0.11.7-py3-none-any.whl (26 kB)\n",
            "Installing collected packages: lightning-utilities, torchmetrics\n",
            "Successfully installed lightning-utilities-0.11.7 torchmetrics-1.4.2\n"
          ]
        }
      ]
    },
    {
      "cell_type": "code",
      "source": [
        "import torchmetrics\n",
        "import mlxtend"
      ],
      "metadata": {
        "id": "kJBc5RIZj-Pv"
      },
      "execution_count": 68,
      "outputs": []
    },
    {
      "cell_type": "code",
      "source": [
        "from torchmetrics import ConfusionMatrix\n",
        "from mlxtend.plotting import plot_confusion_matrix\n",
        "\n",
        "confmat = ConfusionMatrix(num_classes=len(classes),task=\"Multiclass\")\n",
        "confmat_tensor = confmat(preds=y_pred_tensor,\n",
        "                         target = test_data.targets)\n",
        "fig , ax = plot_confusion_matrix(\n",
        "    conf_mat = confmat_tensor.numpy(),\n",
        "    class_names = classes,\n",
        "    figsize = (9,9)\n",
        ")"
      ],
      "metadata": {
        "colab": {
          "base_uri": "https://localhost:8080/",
          "height": 821
        },
        "id": "Po003XLlkC6A",
        "outputId": "e22a841e-ee07-4ce5-a650-829fbdca8253"
      },
      "execution_count": 81,
      "outputs": [
        {
          "output_type": "display_data",
          "data": {
            "text/plain": [
              "<Figure size 900x900 with 1 Axes>"
            ],
            "image/png": "[encoded data removed]"
          },
          "metadata": {}
        }
      ]
    },
    {
      "cell_type": "code",
      "source": [
        "confmat_tensor"
      ],
      "metadata": {
        "colab": {
          "base_uri": "https://localhost:8080/"
        },
        "id": "otpP31kGm9V3",
        "outputId": "22ae1cf9-93dd-49be-b436-4d6dc52829f6"
      },
      "execution_count": 78,
      "outputs": [
        {
          "output_type": "execute_result",
          "data": {
            "text/plain": [
              "tensor([[564,   5,  31,  90,   5,   1, 293,   0,  11,   0],\n",
              "        [  9, 852,   6, 107,  17,   0,   8,   0,   1,   0],\n",
              "        [ 10,   9, 710,  28, 127,   0, 110,   0,   6,   0],\n",
              "        [ 20,   8,  14, 907,  22,   0,  28,   0,   1,   0],\n",
              "        [  4,   7, 106,  62, 701,   0, 116,   0,   4,   0],\n",
              "        [  5,   0,   1,   6,   0, 756,  12,  70, 118,  32],\n",
              "        [ 72,   6,  85,  73,  75,   0, 681,   0,   8,   0],\n",
              "        [  1,   0,   0,   0,   0,  38,   0, 899,  15,  47],\n",
              "        [  9,   2,  10,  12,   2,   3,  24,   5, 932,   1],\n",
              "        [  2,   0,   0,   0,   0,  31,  10, 100,  19, 838]])"
            ]
          },
          "metadata": {},
          "execution_count": 78
        }
      ]
    },
    {
      "cell_type": "code",
      "source": [
        "class_index"
      ],
      "metadata": {
        "colab": {
          "base_uri": "https://localhost:8080/"
        },
        "id": "B8cbGeNdm9TB",
        "outputId": "10d15292-62e1-46d1-d36e-f6527607c5f1"
      },
      "execution_count": 79,
      "outputs": [
        {
          "output_type": "execute_result",
          "data": {
            "text/plain": [
              "{'T-shirt/top': 0,\n",
              " 'Trouser': 1,\n",
              " 'Pullover': 2,\n",
              " 'Dress': 3,\n",
              " 'Coat': 4,\n",
              " 'Sandal': 5,\n",
              " 'Shirt': 6,\n",
              " 'Sneaker': 7,\n",
              " 'Bag': 8,\n",
              " 'Ankle boot': 9}"
            ]
          },
          "metadata": {},
          "execution_count": 79
        }
      ]
    },
    {
      "cell_type": "code",
      "source": [
        "from pathlib import Path\n",
        "MODEL_PATH = Path(\"Trained Models\")\n",
        "MODEL_PATH.mkdir(parents=True,\n",
        "                 exist_ok=True)\n",
        "MODEL_NAME = \"fashionMNISTCNN.pth\"\n",
        "MODEL_SAVE_PATH = MODEL_PATH / MODEL_NAME\n",
        "\n",
        "print(f\"Saving the Model to:{MODEL_SAVE_PATH}\")\n",
        "torch.save(obj=model_3.state_dict(),\n",
        "           f=MODEL_SAVE_PATH)"
      ],
      "metadata": {
        "colab": {
          "base_uri": "https://localhost:8080/"
        },
        "id": "RkWj2oa-m9Pu",
        "outputId": "8be84368-6c2e-4811-f865-1ee98f7c4e95"
      },
      "execution_count": 82,
      "outputs": [
        {
          "output_type": "stream",
          "name": "stdout",
          "text": [
            "Saving the Model to:Trained Models/fashionMNISTCNN.pth\n"
          ]
        }
      ]
    },
    {
      "cell_type": "code",
      "source": [
        "load_model_3 = fasshionMnistV2(input_shape=1,\n",
        "                               hidden_units=10,\n",
        "                               output_shape=10)\n",
        "load_model_3.load_state_dict(torch.load(f=MODEL_SAVE_PATH))\n",
        "load_model_3 = load_model_3.to(device)"
      ],
      "metadata": {
        "colab": {
          "base_uri": "https://localhost:8080/"
        },
        "id": "X9oupJ8im9Lj",
        "outputId": "3bf3d091-f23e-4125-9e1d-60859ee53eff"
      },
      "execution_count": 87,
      "outputs": [
        {
          "output_type": "stream",
          "name": "stderr",
          "text": [
            "<ipython-input-87-d8c433da2784>:4: FutureWarning: You are using `torch.load` with `weights_only=False` (the current default value), which uses the default pickle module implicitly. It is possible to construct malicious pickle data which will execute arbitrary code during unpickling (See https://github.com/pytorch/pytorch/blob/main/SECURITY.md#untrusted-models for more details). In a future release, the default value for `weights_only` will be flipped to `True`. This limits the functions that could be executed during unpickling. Arbitrary objects will no longer be allowed to be loaded via this mode unless they are explicitly allowlisted by the user via `torch.serialization.add_safe_globals`. We recommend you start setting `weights_only=True` for any use case where you don't have full control of the loaded file. Please open an issue on GitHub for any issues related to this experimental feature.\n",
            "  load_model_3.load_state_dict(torch.load(f=MODEL_SAVE_PATH))\n"
          ]
        }
      ]
    },
    {
      "cell_type": "markdown",
      "source": [
        "#Evaluating Loaded Model"
      ],
      "metadata": {
        "id": "p2FgHRjAm9C6"
      }
    },
    {
      "cell_type": "code",
      "source": [
        "torch.manual_seed(64)\n",
        "load_model_3_results = eval_model(\n",
        "    model=load_model_3,\n",
        "    data_loader = test_dataloader,\n",
        "    loss_fx=loss_fn,\n",
        "    accuracy_fn = accuracy_fn\n",
        ")\n",
        "load_model_3_results"
      ],
      "metadata": {
        "colab": {
          "base_uri": "https://localhost:8080/",
          "height": 103,
          "referenced_widgets": [
            "b619479e3ef54304b7c942e147f6ef48",
            "5e90666278824d97b479d2d2ed8747b7",
            "361912b0debd4c45892b846052fe59f8",
            "e4e16426c61144f29f68688325a32935",
            "9c7ad34e68ab40d8bc48c07f4209a05d",
            "cd5349d894754abc8d115b6f1f320c07",
            "e915e57647784943bf1b56a514defae8",
            "2e0e1759a44a449795a54a6a59b953a7",
            "d25fb226e1d84083a21ad60dbd530ae4",
            "d8bbafaab9c04e919b6b9cb9ca4ab4c3",
            "f6692a7670404cf8a77c6f07e3c841ba"
          ]
        },
        "id": "n-oDve9TsMmY",
        "outputId": "bc62d21b-43b0-413c-8a06-443ebbdad4d3"
      },
      "execution_count": 88,
      "outputs": [
        {
          "output_type": "display_data",
          "data": {
            "text/plain": [
              "  0%|          | 0/313 [00:00<?, ?it/s]"
            ],
            "application/vnd.jupyter.widget-view+json": {
              "version_major": 2,
              "version_minor": 0,
              "model_id": "b619479e3ef54304b7c942e147f6ef48"
            }
          },
          "metadata": {}
        },
        {
          "output_type": "execute_result",
          "data": {
            "text/plain": [
              "{'Model_Name': 'fasshionMnistV2',\n",
              " 'Model_loss': 0.33390405774116516,\n",
              " 'Model Acc': 88.09904153354633}"
            ]
          },
          "metadata": {},
          "execution_count": 88
        }
      ]
    },
    {
      "cell_type": "code",
      "source": [
        "model_3_test_results"
      ],
      "metadata": {
        "colab": {
          "base_uri": "https://localhost:8080/"
        },
        "id": "Wa44UlH9t4Rp",
        "outputId": "6967016c-e69f-44e6-a917-702e2c2959ae"
      },
      "execution_count": 94,
      "outputs": [
        {
          "output_type": "execute_result",
          "data": {
            "text/plain": [
              "{'Model_Name': 'fasshionMnistV2',\n",
              " 'Model_loss': 0.33390405774116516,\n",
              " 'Model Acc': 88.09904153354633}"
            ]
          },
          "metadata": {},
          "execution_count": 94
        }
      ]
    },
    {
      "cell_type": "code",
      "source": [
        "torch.isclose(torch.tensor(model_3_test_results['Model_loss']),\n",
        "              torch.tensor(load_model_3_results['Model_loss']),\n",
        "              atol = 1e-08 )"
      ],
      "metadata": {
        "colab": {
          "base_uri": "https://localhost:8080/"
        },
        "id": "wM1YrOx0t6ou",
        "outputId": "82327de3-a06e-4c64-8156-e1fd702c937a"
      },
      "execution_count": 95,
      "outputs": [
        {
          "output_type": "execute_result",
          "data": {
            "text/plain": [
              "tensor(True)"
            ]
          },
          "metadata": {},
          "execution_count": 95
        }
      ]
    }
  ]
}